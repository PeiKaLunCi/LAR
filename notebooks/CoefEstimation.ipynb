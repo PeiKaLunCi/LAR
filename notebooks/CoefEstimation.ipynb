{
 "cells": [
  {
   "cell_type": "markdown",
   "metadata": {},
   "source": [
    "# Online VMP of AR(p) (no measurement noise)\n",
    "State space model\n",
    "\\begin{align*}\n",
    "    &\\mathbf{x}_n = \\mathbf{A}\\mathbf{x}_{n-1} + \\mathbf{n} \\quad \\mathbf{n} \\sim \\mathcal{N}(\\mathbf{0}, \\mathbf{I}\\gamma^{-1}) \\\\\n",
    "    &y_n = \\mathbf{c}^\\text{T}\\mathbf{x}_n\n",
    "\\end{align*}\n",
    "\n",
    "or\n",
    "\n",
    "\\begin{align*}\n",
    "     &p(\\mathbf{x}_n\\,|\\,\\mathbf{x}_{n-1},\\mathbf{a},\\gamma) = \\mathcal{N}\\left(\\mathbf{x}_n \\;\\middle|\\; \\mathbf{A}\\mathbf{x}_{n-1}, \\mathbf{I}\\gamma^{-1} \\right)\\\\\n",
    "    &p(y_n\\,|\\,\\mathbf{x}_{n}) = \\mathcal{N}\\left(y_n \\;\\middle|\\;\\mathbf{c}^\\text{T}\\mathbf{x}_n, \\epsilon \\right)\n",
    "\\end{align*}\n",
    "\n",
    "where\n",
    "\\begin{align*}\n",
    "    &\\mathbf{x}_n = (x_n, x_{n-1}, \\dots, x_{n-p+1})^\\text{T} \\quad \\mathbf{x}_{n-1} = (x_{n-1}, x_{n-2}, \\dots, x_{n-p})^\\text{T} \n",
    "    \\\\ \\\\\n",
    "    &\\mathbf{A} = \n",
    "    \\begin{bmatrix}\n",
    "        a_1 & a_2 & a_3 & \\dots & a_p \\\\\n",
    "        1 & 0 & 0 & \\dots & 0 \\\\ \n",
    "        0 & 1 & 0 & \\dots & 0 \\\\   \n",
    "        \\vdots & \\vdots & \\vdots & \\ddots & \\vdots \\\\\n",
    "        0 & 0 & 0 & \\dots & 0\n",
    "    \\end{bmatrix}\n",
    "    =\n",
    "    \\begin{bmatrix}\n",
    "         \\mathbf{a}^\\text{T} \\\\\n",
    "         \\mathbf{I}_{p-1} \\quad \\mathbf{0}\n",
    "    \\end{bmatrix}\n",
    "    \\\\ \\\\\n",
    "    &\\mathbf{I} = \\mathbf{I}_p = \n",
    "    \\begin{bmatrix}\n",
    "        1 & 0 & 0 & \\dots & 0 \\\\ \n",
    "        0 & 1 & 0 & \\dots & 0 \\\\   \n",
    "        \\vdots & \\vdots & \\vdots & \\ddots & \\vdots \\\\\n",
    "        0 & 0 & 0 & \\dots & 1\n",
    "    \\end{bmatrix} \\\\\n",
    "    &\\epsilon = 1\\text{e}-12\n",
    "\\end{align*}"
   ]
  },
  {
   "cell_type": "code",
   "execution_count": 124,
   "metadata": {},
   "outputs": [
    {
     "data": {
      "image/png": "[encoded data removed]",
      "text/plain": [
       "496×391 Array{RGBA{N0f8},2} with eltype RGBA{Normed{UInt8,8}}:\n",
       " RGBA{N0f8}(1.0,1.0,1.0,1.0)  …  RGBA{N0f8}(1.0,1.0,1.0,1.0)\n",
       " RGBA{N0f8}(1.0,1.0,1.0,1.0)     RGBA{N0f8}(1.0,1.0,1.0,1.0)\n",
       " RGBA{N0f8}(1.0,1.0,1.0,1.0)     RGBA{N0f8}(1.0,1.0,1.0,1.0)\n",
       " RGBA{N0f8}(1.0,1.0,1.0,1.0)     RGBA{N0f8}(1.0,1.0,1.0,1.0)\n",
       " RGBA{N0f8}(1.0,1.0,1.0,1.0)     RGBA{N0f8}(1.0,1.0,1.0,1.0)\n",
       " RGBA{N0f8}(1.0,1.0,1.0,1.0)  …  RGBA{N0f8}(1.0,1.0,1.0,1.0)\n",
       " RGBA{N0f8}(1.0,1.0,1.0,1.0)     RGBA{N0f8}(1.0,1.0,1.0,1.0)\n",
       " RGBA{N0f8}(1.0,1.0,1.0,1.0)     RGBA{N0f8}(1.0,1.0,1.0,1.0)\n",
       " RGBA{N0f8}(1.0,1.0,1.0,1.0)     RGBA{N0f8}(1.0,1.0,1.0,1.0)\n",
       " RGBA{N0f8}(1.0,1.0,1.0,1.0)     RGBA{N0f8}(1.0,1.0,1.0,1.0)\n",
       " RGBA{N0f8}(1.0,1.0,1.0,1.0)  …  RGBA{N0f8}(1.0,1.0,1.0,1.0)\n",
       " RGBA{N0f8}(1.0,1.0,1.0,1.0)     RGBA{N0f8}(1.0,1.0,1.0,1.0)\n",
       " RGBA{N0f8}(1.0,1.0,1.0,1.0)     RGBA{N0f8}(1.0,1.0,1.0,1.0)\n",
       " ⋮                            ⋱  ⋮                          \n",
       " RGBA{N0f8}(1.0,1.0,1.0,1.0)     RGBA{N0f8}(1.0,1.0,1.0,1.0)\n",
       " RGBA{N0f8}(1.0,1.0,1.0,1.0)  …  RGBA{N0f8}(1.0,1.0,1.0,1.0)\n",
       " RGBA{N0f8}(1.0,1.0,1.0,1.0)     RGBA{N0f8}(1.0,1.0,1.0,1.0)\n",
       " RGBA{N0f8}(1.0,1.0,1.0,1.0)     RGBA{N0f8}(1.0,1.0,1.0,1.0)\n",
       " RGBA{N0f8}(1.0,1.0,1.0,1.0)     RGBA{N0f8}(1.0,1.0,1.0,1.0)\n",
       " RGBA{N0f8}(1.0,1.0,1.0,1.0)     RGBA{N0f8}(1.0,1.0,1.0,1.0)\n",
       " RGBA{N0f8}(1.0,1.0,1.0,1.0)  …  RGBA{N0f8}(1.0,1.0,1.0,1.0)\n",
       " RGBA{N0f8}(1.0,1.0,1.0,1.0)     RGBA{N0f8}(1.0,1.0,1.0,1.0)\n",
       " RGBA{N0f8}(1.0,1.0,1.0,1.0)     RGBA{N0f8}(1.0,1.0,1.0,1.0)\n",
       " RGBA{N0f8}(1.0,1.0,1.0,1.0)     RGBA{N0f8}(1.0,1.0,1.0,1.0)\n",
       " RGBA{N0f8}(1.0,1.0,1.0,1.0)     RGBA{N0f8}(1.0,1.0,1.0,1.0)\n",
       " RGBA{N0f8}(1.0,1.0,1.0,1.0)  …  RGBA{N0f8}(1.0,1.0,1.0,1.0)"
      ]
     },
     "execution_count": 124,
     "metadata": {},
     "output_type": "execute_result"
    }
   ],
   "source": [
    "using Images\n",
    "img = load(\"../ffgs/AR-online.png\")"
   ]
  },
  {
   "cell_type": "markdown",
   "metadata": {},
   "source": [
    "We are interested in an estimation of the AR coefficients $\\mathbf{a}$, while setting process noise precision $\\gamma=1$."
   ]
  },
  {
   "cell_type": "code",
   "execution_count": 125,
   "metadata": {},
   "outputs": [
    {
     "name": "stderr",
     "output_type": "stream",
     "text": [
      "WARNING: replacing module ARdata.\n",
      "WARNING: ignoring conflicting import of ARdata.use_data into Main\n",
      "WARNING: ignoring conflicting import of ARdata.generate_data into Main\n"
     ]
    }
   ],
   "source": [
    "using ProgressMeter\n",
    "using Revise\n",
    "using ForneyLab\n",
    "include( \"../AR-node/autoregression.jl\")\n",
    "include(\"../AR-node/rules_prototypes.jl\")\n",
    "include(\"../AR-node/vmp_rules.jl\")\n",
    "# helpers for evaluation of the model\n",
    "include(\"../helpers/functions.jl\")\n",
    "# module to generate data for AR\n",
    "include(\"../data/ARdata.jl\")\n",
    "import Main.ARdata: use_data, generate_data\n",
    "import LinearAlgebra.I, LinearAlgebra.Symmetric\n",
    "import ForneyLab: unsafeCov, unsafeMean, unsafePrecision"
   ]
  },
  {
   "cell_type": "code",
   "execution_count": 126,
   "metadata": {},
   "outputs": [
    {
     "data": {
      "text/plain": [
       "999-element Array{Float64,1}:\n",
       " -3.596613473477828   \n",
       "  1.0758981975604462  \n",
       " -0.21517213266783353 \n",
       " -0.019731366313417265\n",
       "  1.5398459155819209  \n",
       " -1.0131420186228994  \n",
       "  1.7943821893875955  \n",
       " -2.1872609335849864  \n",
       "  0.42759443640335104 \n",
       " -0.8840857493915685  \n",
       "  1.4649224757088875  \n",
       " -1.021115291549977   \n",
       "  1.7984026023075188  \n",
       "  ⋮                   \n",
       "  1.3245770612418588  \n",
       " -3.0529283399234184  \n",
       "  2.9238630094620133  \n",
       " -3.750271472540653   \n",
       "  3.5901758826661294  \n",
       " -3.573679515625562   \n",
       "  3.1236973218493347  \n",
       " -4.402100780803066   \n",
       "  2.316208409220101   \n",
       " -3.618116939434022   \n",
       "  3.108345144938398   \n",
       " -3.3195100497874668  "
      ]
     },
     "execution_count": 126,
     "metadata": {},
     "output_type": "execute_result"
    }
   ],
   "source": [
    "ARorder = 2 # order of AR model\n",
    "diagAR(dim) = Matrix{Float64}(I, dim, dim)\n",
    "x = []\n",
    "# AR data\n",
    "a_w = 1.0; b_w = 1.0\n",
    "process_noise = b_w/a_w\n",
    "coefs, x = generate_data(1000, ARorder, 1, noise_variance=process_noise)\n",
    "\n",
    "# Observations\n",
    "y = [xi[1] for xi in x[ARorder:end]]"
   ]
  },
  {
   "cell_type": "code",
   "execution_count": 127,
   "metadata": {},
   "outputs": [
    {
     "data": {
      "text/html": [
       "<?xml version=\"1.0\" encoding=\"UTF-8\" standalone=\"no\"?>\n",
       "<!DOCTYPE svg PUBLIC \"-//W3C//DTD SVG 1.1//EN\"\n",
       " \"http://www.w3.org/Graphics/SVG/1.1/DTD/svg11.dtd\">\n",
       "<!-- Generated by graphviz version 2.40.1 (20161225.0304)\n",
       " -->\n",
       "<!-- Title: G Pages: 1 -->\n",
       "<svg width=\"1494pt\" height=\"410pt\"\n",
       " viewBox=\"0.00 0.00 1494.22 410.00\" xmlns=\"http://www.w3.org/2000/svg\" xmlns:xlink=\"http://www.w3.org/1999/xlink\">\n",
       "<g id=\"graph0\" class=\"graph\" transform=\"scale(1 1) rotate(0) translate(4 406)\">\n",
       "<title>G</title>\n",
       "<polygon fill=\"#ffffff\" stroke=\"transparent\" points=\"-4,4 -4,-406 1490.2249,-406 1490.2249,4 -4,4\"/>\n",
       "<!-- 5493760468798528938 -->\n",
       "<g id=\"node1\" class=\"node\">\n",
       "<title>5493760468798528938</title>\n",
       "<polygon fill=\"#d3d3d3\" stroke=\"#000000\" points=\"448.4861,-54 394.4861,-54 394.4861,0 448.4861,0 448.4861,-54\"/>\n",
       "<text text-anchor=\"middle\" x=\"421.4861\" y=\"-24.3\" font-family=\"Times,serif\" font-size=\"9.00\" fill=\"#000000\">clamp_1</text>\n",
       "</g>\n",
       "<!-- 14449232691779448477 -->\n",
       "<g id=\"node2\" class=\"node\">\n",
       "<title>14449232691779448477</title>\n",
       "<polygon fill=\"#d3d3d3\" stroke=\"#000000\" points=\"84.9583,-277 .0139,-277 .0139,-223 84.9583,-223 84.9583,-277\"/>\n",
       "<text text-anchor=\"middle\" x=\"42.4861\" y=\"-247.3\" font-family=\"Times,serif\" font-size=\"9.00\" fill=\"#000000\">placeholder_m_a_t</text>\n",
       "</g>\n",
       "<!-- 8046178073626798125 -->\n",
       "<g id=\"node5\" class=\"node\">\n",
       "<title>8046178073626798125</title>\n",
       "<polygon fill=\"none\" stroke=\"#000000\" points=\"296.9612,-170 188.0109,-170 188.0109,-98 296.9612,-98 296.9612,-170\"/>\n",
       "<text text-anchor=\"middle\" x=\"242.4861\" y=\"-138.095\" font-family=\"Times,serif\" font-size=\"9.00\" fill=\"#000000\">𝒩</text>\n",
       "<text text-anchor=\"middle\" x=\"242.4861\" y=\"-124.505\" font-family=\"Times,serif\" font-size=\"9.00\" fill=\"#000000\">gaussianmeanprecision_1</text>\n",
       "</g>\n",
       "<!-- 14449232691779448477&#45;&#45;8046178073626798125 -->\n",
       "<g id=\"edge12\" class=\"edge\">\n",
       "<title>14449232691779448477&#45;&#45;8046178073626798125</title>\n",
       "<path fill=\"none\" stroke=\"#000000\" d=\"M85.3911,-225.1151C115.4631,-207.6734 155.8945,-184.2231 188.2087,-165.4809\"/>\n",
       "<text text-anchor=\"start\" x=\"148.4861\" y=\"-189.6\" font-family=\"Times,serif\" font-size=\"8.00\" fill=\"#ff0000\">m_a_t</text>\n",
       "<text text-anchor=\"start\" x=\"173.986\" y=\"-167.0809\" font-family=\"Times,serif\" font-size=\"8.00\" fill=\"#000000\">2 m </text>\n",
       "<text text-anchor=\"start\" x=\"85.3911\" y=\"-226.7151\" font-family=\"Times,serif\" font-size=\"8.00\" fill=\"#000000\">1 out </text>\n",
       "</g>\n",
       "<!-- 1084333147021675092 -->\n",
       "<g id=\"node3\" class=\"node\">\n",
       "<title>1084333147021675092</title>\n",
       "<polygon fill=\"none\" stroke=\"#000000\" points=\"1201.4861,-402 1129.4861,-402 1129.4861,-330 1201.4861,-330 1201.4861,-402\"/>\n",
       "<text text-anchor=\"middle\" x=\"1165.4861\" y=\"-367.8\" font-family=\"Times,serif\" font-size=\"9.00\" fill=\"#000000\">dot</text>\n",
       "<text text-anchor=\"middle\" x=\"1165.4861\" y=\"-358.8\" font-family=\"Times,serif\" font-size=\"9.00\" fill=\"#000000\">dotproduct_1</text>\n",
       "</g>\n",
       "<!-- 8936701364795128647 -->\n",
       "<g id=\"node4\" class=\"node\">\n",
       "<title>8936701364795128647</title>\n",
       "<polygon fill=\"none\" stroke=\"#000000\" points=\"1456.9612,-286 1348.0109,-286 1348.0109,-214 1456.9612,-214 1456.9612,-286\"/>\n",
       "<text text-anchor=\"middle\" x=\"1402.4861\" y=\"-254.095\" font-family=\"Times,serif\" font-size=\"9.00\" fill=\"#000000\">𝒩</text>\n",
       "<text text-anchor=\"middle\" x=\"1402.4861\" y=\"-240.505\" font-family=\"Times,serif\" font-size=\"9.00\" fill=\"#000000\">gaussianmeanprecision_3</text>\n",
       "</g>\n",
       "<!-- 1084333147021675092&#45;&#45;8936701364795128647 -->\n",
       "<g id=\"edge11\" class=\"edge\">\n",
       "<title>1084333147021675092&#45;&#45;8936701364795128647</title>\n",
       "<path fill=\"none\" stroke=\"#000000\" d=\"M1201.7393,-348.2558C1240.7698,-329.1523 1303.2901,-298.5516 1348.1919,-276.5744\"/>\n",
       "<text text-anchor=\"start\" x=\"1290.4861\" y=\"-305.6\" font-family=\"Times,serif\" font-size=\"8.00\" fill=\"#ff0000\">y_t</text>\n",
       "<text text-anchor=\"start\" x=\"1329.9692\" y=\"-278.1744\" font-family=\"Times,serif\" font-size=\"8.00\" fill=\"#000000\">1 out </text>\n",
       "<text text-anchor=\"start\" x=\"1201.7393\" y=\"-349.8558\" font-family=\"Times,serif\" font-size=\"8.00\" fill=\"#000000\">1 out </text>\n",
       "</g>\n",
       "<!-- 15384617612600181174 -->\n",
       "<g id=\"node9\" class=\"node\">\n",
       "<title>15384617612600181174</title>\n",
       "<polygon fill=\"none\" stroke=\"#000000\" points=\"563.4715,-286 485.5007,-286 485.5007,-214 563.4715,-214 563.4715,-286\"/>\n",
       "<text text-anchor=\"middle\" x=\"524.4861\" y=\"-251.8\" font-family=\"Times,serif\" font-size=\"9.00\" fill=\"#000000\">Autoregression</text>\n",
       "<text text-anchor=\"middle\" x=\"524.4861\" y=\"-242.8\" font-family=\"Times,serif\" font-size=\"9.00\" fill=\"#000000\">autoregression_1</text>\n",
       "</g>\n",
       "<!-- 1084333147021675092&#45;&#45;15384617612600181174 -->\n",
       "<g id=\"edge4\" class=\"edge\">\n",
       "<title>1084333147021675092&#45;&#45;15384617612600181174</title>\n",
       "<path fill=\"none\" stroke=\"#000000\" d=\"M1129.4137,-362.4321C1043.678,-353.5371 821.2794,-328.0209 639.4861,-286 613.8032,-280.0635 585.5433,-271.2498 563.4648,-263.8292\"/>\n",
       "<text text-anchor=\"start\" x=\"754.4861\" y=\"-305.6\" font-family=\"Times,serif\" font-size=\"8.00\" fill=\"#ff0000\">x_t</text>\n",
       "<text text-anchor=\"start\" x=\"563.4648\" y=\"-265.4292\" font-family=\"Times,serif\" font-size=\"8.00\" fill=\"#000000\">1 out </text>\n",
       "<text text-anchor=\"start\" x=\"1111.191\" y=\"-364.0321\" font-family=\"Times,serif\" font-size=\"8.00\" fill=\"#000000\">3 in2 </text>\n",
       "</g>\n",
       "<!-- 6105463317535578455 -->\n",
       "<g id=\"node11\" class=\"node\">\n",
       "<title>6105463317535578455</title>\n",
       "<polygon fill=\"#d3d3d3\" stroke=\"#000000\" points=\"1192.4861,-277 1138.4861,-277 1138.4861,-223 1192.4861,-223 1192.4861,-277\"/>\n",
       "<text text-anchor=\"middle\" x=\"1165.4861\" y=\"-247.3\" font-family=\"Times,serif\" font-size=\"9.00\" fill=\"#000000\">clamp_4</text>\n",
       "</g>\n",
       "<!-- 1084333147021675092&#45;&#45;6105463317535578455 -->\n",
       "<g id=\"edge5\" class=\"edge\">\n",
       "<title>1084333147021675092&#45;&#45;6105463317535578455</title>\n",
       "<path fill=\"none\" stroke=\"#000000\" d=\"M1152.0062,-329.7813C1150.3199,-323.9114 1148.8645,-317.8417 1147.9392,-312 1146.1016,-300.3986 1148.7233,-287.8839 1152.4554,-277.1567\"/>\n",
       "<text text-anchor=\"start\" x=\"1148.4861\" y=\"-305.6\" font-family=\"Times,serif\" font-size=\"8.00\" fill=\"#ff0000\">clamp_4</text>\n",
       "<text text-anchor=\"start\" x=\"1134.2327\" y=\"-278.7567\" font-family=\"Times,serif\" font-size=\"8.00\" fill=\"#000000\">1 out </text>\n",
       "<text text-anchor=\"start\" x=\"1133.7835\" y=\"-323.3813\" font-family=\"Times,serif\" font-size=\"8.00\" fill=\"#000000\">2 in1 </text>\n",
       "</g>\n",
       "<!-- 7995408381463986490 -->\n",
       "<g id=\"node12\" class=\"node\">\n",
       "<title>7995408381463986490</title>\n",
       "<polygon fill=\"#d3d3d3\" stroke=\"#000000\" points=\"1429.4861,-161 1375.4861,-161 1375.4861,-107 1429.4861,-107 1429.4861,-161\"/>\n",
       "<text text-anchor=\"middle\" x=\"1402.4861\" y=\"-131.3\" font-family=\"Times,serif\" font-size=\"9.00\" fill=\"#000000\">clamp_3</text>\n",
       "</g>\n",
       "<!-- 8936701364795128647&#45;&#45;7995408381463986490 -->\n",
       "<g id=\"edge8\" class=\"edge\">\n",
       "<title>8936701364795128647&#45;&#45;7995408381463986490</title>\n",
       "<path fill=\"none\" stroke=\"#000000\" d=\"M1402.4861,-213.9327C1402.4861,-196.9067 1402.4861,-176.9235 1402.4861,-161.1968\"/>\n",
       "<text text-anchor=\"start\" x=\"1402.4861\" y=\"-189.6\" font-family=\"Times,serif\" font-size=\"8.00\" fill=\"#ff0000\">clamp_3</text>\n",
       "<text text-anchor=\"start\" x=\"1384.2634\" y=\"-162.7968\" font-family=\"Times,serif\" font-size=\"8.00\" fill=\"#000000\">1 out </text>\n",
       "<text text-anchor=\"start\" x=\"1388.7087\" y=\"-207.5327\" font-family=\"Times,serif\" font-size=\"8.00\" fill=\"#000000\">3 w </text>\n",
       "</g>\n",
       "<!-- 11401289394352117141 -->\n",
       "<g id=\"node6\" class=\"node\">\n",
       "<title>11401289394352117141</title>\n",
       "<polygon fill=\"#d3d3d3\" stroke=\"#000000\" points=\"617.4861,-54 563.4861,-54 563.4861,0 617.4861,0 617.4861,-54\"/>\n",
       "<text text-anchor=\"middle\" x=\"590.4861\" y=\"-24.3\" font-family=\"Times,serif\" font-size=\"9.00\" fill=\"#000000\">clamp_2</text>\n",
       "</g>\n",
       "<!-- 17931368991169676924 -->\n",
       "<g id=\"node7\" class=\"node\">\n",
       "<title>17931368991169676924</title>\n",
       "<polygon fill=\"#d3d3d3\" stroke=\"#000000\" points=\"802.4553,-277 696.5168,-277 696.5168,-223 802.4553,-223 802.4553,-277\"/>\n",
       "<text text-anchor=\"middle\" x=\"749.4861\" y=\"-247.3\" font-family=\"Times,serif\" font-size=\"9.00\" fill=\"#000000\">placeholder_m_x_t_prev</text>\n",
       "</g>\n",
       "<!-- 6015615000825079659 -->\n",
       "<g id=\"node13\" class=\"node\">\n",
       "<title>6015615000825079659</title>\n",
       "<polygon fill=\"none\" stroke=\"#000000\" points=\"834.9612,-170 726.0109,-170 726.0109,-98 834.9612,-98 834.9612,-170\"/>\n",
       "<text text-anchor=\"middle\" x=\"780.4861\" y=\"-138.095\" font-family=\"Times,serif\" font-size=\"9.00\" fill=\"#000000\">𝒩</text>\n",
       "<text text-anchor=\"middle\" x=\"780.4861\" y=\"-124.505\" font-family=\"Times,serif\" font-size=\"9.00\" fill=\"#000000\">gaussianmeanprecision_2</text>\n",
       "</g>\n",
       "<!-- 17931368991169676924&#45;&#45;6015615000825079659 -->\n",
       "<g id=\"edge10\" class=\"edge\">\n",
       "<title>17931368991169676924&#45;&#45;6015615000825079659</title>\n",
       "<path fill=\"none\" stroke=\"#000000\" d=\"M756.7542,-222.8032C760.9418,-207.1333 766.2588,-187.2377 770.798,-170.252\"/>\n",
       "<text text-anchor=\"start\" x=\"766.4861\" y=\"-189.6\" font-family=\"Times,serif\" font-size=\"8.00\" fill=\"#ff0000\">m_x_t_prev</text>\n",
       "<text text-anchor=\"start\" x=\"756.5754\" y=\"-171.852\" font-family=\"Times,serif\" font-size=\"8.00\" fill=\"#000000\">2 m </text>\n",
       "<text text-anchor=\"start\" x=\"738.5316\" y=\"-216.4032\" font-family=\"Times,serif\" font-size=\"8.00\" fill=\"#000000\">1 out </text>\n",
       "</g>\n",
       "<!-- 10572146373784583344 -->\n",
       "<g id=\"node8\" class=\"node\">\n",
       "<title>10572146373784583344</title>\n",
       "<polygon fill=\"#d3d3d3\" stroke=\"#000000\" points=\"1023.4554,-277 917.5168,-277 917.5168,-223 1023.4554,-223 1023.4554,-277\"/>\n",
       "<text text-anchor=\"middle\" x=\"970.4861\" y=\"-247.3\" font-family=\"Times,serif\" font-size=\"9.00\" fill=\"#000000\">placeholder_w_x_t_prev</text>\n",
       "</g>\n",
       "<!-- 10572146373784583344&#45;&#45;6015615000825079659 -->\n",
       "<g id=\"edge14\" class=\"edge\">\n",
       "<title>10572146373784583344&#45;&#45;6015615000825079659</title>\n",
       "<path fill=\"none\" stroke=\"#000000\" d=\"M925.9395,-222.8032C898.7379,-206.1958 863.7616,-184.8419 834.9245,-167.2361\"/>\n",
       "<text text-anchor=\"start\" x=\"881.4861\" y=\"-189.6\" font-family=\"Times,serif\" font-size=\"8.00\" fill=\"#ff0000\">w_x_t_prev</text>\n",
       "<text text-anchor=\"start\" x=\"834.9245\" y=\"-168.8361\" font-family=\"Times,serif\" font-size=\"8.00\" fill=\"#000000\">3 w </text>\n",
       "<text text-anchor=\"start\" x=\"907.7169\" y=\"-216.4032\" font-family=\"Times,serif\" font-size=\"8.00\" fill=\"#000000\">1 out </text>\n",
       "</g>\n",
       "<!-- 15384617612600181174&#45;&#45;8046178073626798125 -->\n",
       "<g id=\"edge9\" class=\"edge\">\n",
       "<title>15384617612600181174&#45;&#45;8046178073626798125</title>\n",
       "<path fill=\"none\" stroke=\"#000000\" d=\"M485.5713,-233.9925C436.6169,-213.8552 352.2765,-179.162 296.9394,-156.3993\"/>\n",
       "<text text-anchor=\"start\" x=\"392.4861\" y=\"-189.6\" font-family=\"Times,serif\" font-size=\"8.00\" fill=\"#ff0000\">a</text>\n",
       "<text text-anchor=\"start\" x=\"296.9394\" y=\"-157.9993\" font-family=\"Times,serif\" font-size=\"8.00\" fill=\"#000000\">1 out </text>\n",
       "<text text-anchor=\"start\" x=\"474.0205\" y=\"-235.5925\" font-family=\"Times,serif\" font-size=\"8.00\" fill=\"#000000\">3 a </text>\n",
       "</g>\n",
       "<!-- 17938776624773358847 -->\n",
       "<g id=\"node10\" class=\"node\">\n",
       "<title>17938776624773358847</title>\n",
       "<polygon fill=\"none\" stroke=\"#000000\" points=\"542.4861,-170 470.4861,-170 470.4861,-98 542.4861,-98 542.4861,-170\"/>\n",
       "<text text-anchor=\"middle\" x=\"506.4861\" y=\"-135.8\" font-family=\"Times,serif\" font-size=\"9.00\" fill=\"#000000\">Gam</text>\n",
       "<text text-anchor=\"middle\" x=\"506.4861\" y=\"-126.8\" font-family=\"Times,serif\" font-size=\"9.00\" fill=\"#000000\">gamma_1</text>\n",
       "</g>\n",
       "<!-- 15384617612600181174&#45;&#45;17938776624773358847 -->\n",
       "<g id=\"edge3\" class=\"edge\">\n",
       "<title>15384617612600181174&#45;&#45;17938776624773358847</title>\n",
       "<path fill=\"none\" stroke=\"#000000\" d=\"M514.3083,-213.8807C512.9137,-207.944 511.6426,-201.8276 510.7087,-196 509.3771,-187.6907 508.465,-178.6892 507.8403,-170.1886\"/>\n",
       "<text text-anchor=\"start\" x=\"511.4861\" y=\"-189.6\" font-family=\"Times,serif\" font-size=\"8.00\" fill=\"#ff0000\">w</text>\n",
       "<text text-anchor=\"start\" x=\"489.6176\" y=\"-171.7886\" font-family=\"Times,serif\" font-size=\"8.00\" fill=\"#000000\">1 out </text>\n",
       "<text text-anchor=\"start\" x=\"499.0388\" y=\"-207.4807\" font-family=\"Times,serif\" font-size=\"8.00\" fill=\"#000000\">4 W </text>\n",
       "</g>\n",
       "<!-- 15384617612600181174&#45;&#45;6015615000825079659 -->\n",
       "<g id=\"edge2\" class=\"edge\">\n",
       "<title>15384617612600181174&#45;&#45;6015615000825079659</title>\n",
       "<path fill=\"none\" stroke=\"#000000\" d=\"M563.367,-232.3821C606.7277,-212.7342 677.1755,-180.8126 726.014,-158.6827\"/>\n",
       "<text text-anchor=\"start\" x=\"660.4861\" y=\"-189.6\" font-family=\"Times,serif\" font-size=\"8.00\" fill=\"#ff0000\">x_t_prev</text>\n",
       "<text text-anchor=\"start\" x=\"707.7913\" y=\"-160.2827\" font-family=\"Times,serif\" font-size=\"8.00\" fill=\"#000000\">1 out </text>\n",
       "<text text-anchor=\"start\" x=\"563.367\" y=\"-233.9821\" font-family=\"Times,serif\" font-size=\"8.00\" fill=\"#000000\">2 x </text>\n",
       "</g>\n",
       "<!-- 17938776624773358847&#45;&#45;5493760468798528938 -->\n",
       "<g id=\"edge13\" class=\"edge\">\n",
       "<title>17938776624773358847&#45;&#45;5493760468798528938</title>\n",
       "<path fill=\"none\" stroke=\"#000000\" d=\"M477.709,-97.7747C466.3426,-83.4665 453.5093,-67.3116 442.9764,-54.0525\"/>\n",
       "<text text-anchor=\"start\" x=\"461.4861\" y=\"-73.6\" font-family=\"Times,serif\" font-size=\"8.00\" fill=\"#ff0000\">clamp_1</text>\n",
       "<text text-anchor=\"start\" x=\"424.7537\" y=\"-55.6525\" font-family=\"Times,serif\" font-size=\"8.00\" fill=\"#000000\">1 out </text>\n",
       "<text text-anchor=\"start\" x=\"466.1582\" y=\"-91.3747\" font-family=\"Times,serif\" font-size=\"8.00\" fill=\"#000000\">2 a </text>\n",
       "</g>\n",
       "<!-- 17938776624773358847&#45;&#45;11401289394352117141 -->\n",
       "<g id=\"edge1\" class=\"edge\">\n",
       "<title>17938776624773358847&#45;&#45;11401289394352117141</title>\n",
       "<path fill=\"none\" stroke=\"#000000\" d=\"M534.9247,-97.7747C546.1573,-83.4665 558.8396,-67.3116 569.2486,-54.0525\"/>\n",
       "<text text-anchor=\"start\" x=\"554.4861\" y=\"-73.6\" font-family=\"Times,serif\" font-size=\"8.00\" fill=\"#ff0000\">clamp_2</text>\n",
       "<text text-anchor=\"start\" x=\"551.026\" y=\"-55.6525\" font-family=\"Times,serif\" font-size=\"8.00\" fill=\"#000000\">1 out </text>\n",
       "<text text-anchor=\"start\" x=\"522.9247\" y=\"-91.3747\" font-family=\"Times,serif\" font-size=\"8.00\" fill=\"#000000\">3 b </text>\n",
       "</g>\n",
       "<!-- 9979358668101620618 -->\n",
       "<g id=\"node14\" class=\"node\">\n",
       "<title>9979358668101620618</title>\n",
       "<polygon fill=\"#d3d3d3\" stroke=\"#000000\" points=\"284.9586,-277 200.0136,-277 200.0136,-223 284.9586,-223 284.9586,-277\"/>\n",
       "<text text-anchor=\"middle\" x=\"242.4861\" y=\"-247.3\" font-family=\"Times,serif\" font-size=\"9.00\" fill=\"#000000\">placeholder_w_a_t</text>\n",
       "</g>\n",
       "<!-- 9979358668101620618&#45;&#45;8046178073626798125 -->\n",
       "<g id=\"edge6\" class=\"edge\">\n",
       "<title>9979358668101620618&#45;&#45;8046178073626798125</title>\n",
       "<path fill=\"none\" stroke=\"#000000\" d=\"M236.7422,-222.9292C235.1814,-214.3585 233.7093,-204.8202 232.9353,-196 232.2022,-187.6461 232.7742,-178.7086 233.9325,-170.2942\"/>\n",
       "<text text-anchor=\"start\" x=\"233.4861\" y=\"-189.6\" font-family=\"Times,serif\" font-size=\"8.00\" fill=\"#ff0000\">w_a_t</text>\n",
       "<text text-anchor=\"start\" x=\"220.1551\" y=\"-171.8942\" font-family=\"Times,serif\" font-size=\"8.00\" fill=\"#000000\">3 w </text>\n",
       "<text text-anchor=\"start\" x=\"218.5195\" y=\"-216.5292\" font-family=\"Times,serif\" font-size=\"8.00\" fill=\"#000000\">1 out </text>\n",
       "</g>\n",
       "<!-- 5711667543474942468 -->\n",
       "<g id=\"node15\" class=\"node\">\n",
       "<title>5711667543474942468</title>\n",
       "<polygon fill=\"#d3d3d3\" stroke=\"#000000\" points=\"1486.465,-393 1400.5072,-393 1400.5072,-339 1486.465,-339 1486.465,-393\"/>\n",
       "<text text-anchor=\"middle\" x=\"1443.4861\" y=\"-363.3\" font-family=\"Times,serif\" font-size=\"9.00\" fill=\"#000000\">placeholder_m_y_t</text>\n",
       "</g>\n",
       "<!-- 5711667543474942468&#45;&#45;8936701364795128647 -->\n",
       "<g id=\"edge7\" class=\"edge\">\n",
       "<title>5711667543474942468&#45;&#45;8936701364795128647</title>\n",
       "<path fill=\"none\" stroke=\"#000000\" d=\"M1433.8734,-338.8032C1428.3349,-323.1333 1421.3029,-303.2377 1415.2993,-286.252\"/>\n",
       "<text text-anchor=\"start\" x=\"1423.4861\" y=\"-305.6\" font-family=\"Times,serif\" font-size=\"8.00\" fill=\"#ff0000\">m_y_t</text>\n",
       "<text text-anchor=\"start\" x=\"1401.0766\" y=\"-287.852\" font-family=\"Times,serif\" font-size=\"8.00\" fill=\"#000000\">2 m </text>\n",
       "<text text-anchor=\"start\" x=\"1415.6507\" y=\"-332.4032\" font-family=\"Times,serif\" font-size=\"8.00\" fill=\"#000000\">1 out </text>\n",
       "</g>\n",
       "</g>\n",
       "</svg>\n"
      ]
     },
     "metadata": {},
     "output_type": "display_data"
    }
   ],
   "source": [
    "g = FactorGraph()\n",
    "\n",
    "# declare priors as random variables\n",
    "@RV m_x_t_prev\n",
    "@RV w_x_t_prev\n",
    "@RV m_a_t\n",
    "@RV w_a_t\n",
    "@RV m_y_t\n",
    "\n",
    "@RV a ~ GaussianMeanPrecision(m_a_t, w_a_t)\n",
    "@RV x_t_prev ~ GaussianMeanPrecision(m_x_t_prev, w_x_t_prev)\n",
    "@RV w ~ Gamma(a_w, b_w)\n",
    "@RV x_t = AR(a, x_t_prev, w)\n",
    "c = zeros(ARorder); c[1] = 1.0\n",
    "@RV y_t ~ GaussianMeanPrecision(m_y_t, huge)\n",
    "DotProduct(y_t, c, x_t)\n",
    "\n",
    "# Placeholders for prior\n",
    "placeholder(m_a_t, :m_a_t, dims=(ARorder,))\n",
    "placeholder(w_a_t, :w_a_t, dims=(ARorder, ARorder))\n",
    "\n",
    "# Placeholder for data\n",
    "placeholder(m_x_t_prev, :m_x_t_prev, dims=(ARorder,))\n",
    "placeholder(w_x_t_prev, :w_x_t_prev, dims=(ARorder, ARorder))\n",
    "placeholder(m_y_t, :m_y_t)\n",
    "\n",
    "ForneyLab.draw(g)"
   ]
  },
  {
   "cell_type": "code",
   "execution_count": 128,
   "metadata": {},
   "outputs": [
    {
     "data": {
      "text/plain": [
       "stepX_t! (generic function with 3 methods)"
      ]
     },
     "execution_count": 128,
     "metadata": {},
     "output_type": "execute_result"
    }
   ],
   "source": [
    "# Specify recognition factorization\n",
    "q = RecognitionFactorization(a, x_t, ids=[:A :X_t])\n",
    "\n",
    "# Generate the variational update algorithms for each recognition factor\n",
    "algo = variationalAlgorithm(q)\n",
    "\n",
    "# Load algorithms\n",
    "eval(Meta.parse(algo))"
   ]
  },
  {
   "cell_type": "code",
   "execution_count": 129,
   "metadata": {},
   "outputs": [],
   "source": [
    "# Define values for prior statistics\n",
    "m_a_0 = 1.0*randn(ARorder)\n",
    "w_a_0 = (tiny*diagAR(ARorder))\n",
    "m_x_prev_0 = x[ARorder - 1]\n",
    "w_x_prev_0 = (0.001*diagAR(ARorder))\n",
    "\n",
    "# Storage\n",
    "m_x_prev = Vector{Vector{Float64}}(undef, length(y))\n",
    "w_x_prev = Vector{Array{Float64, 2}}(undef, length(y))\n",
    "m_a = Vector{Vector{Float64}}(undef, length(y))\n",
    "w_a = Vector{Array{Float64, 2}}(undef, length(y))\n",
    "\n",
    "# Inits\n",
    "m_x_t_prev_min = m_x_prev_0\n",
    "w_x_t_prev_min = w_x_prev_0\n",
    "m_a_t_min = m_a_0\n",
    "w_a_t_min = w_a_0;"
   ]
  },
  {
   "cell_type": "code",
   "execution_count": 130,
   "metadata": {},
   "outputs": [
    {
     "name": "stderr",
     "output_type": "stream",
     "text": [
      "\u001b[32mObserved 100%|██████████████████████████████████████████| Time: 0:00:02\u001b[39m\n"
     ]
    }
   ],
   "source": [
    "marginals = Dict()\n",
    "# VMP iterations\n",
    "n_its = 10\n",
    "# Storage for predictions\n",
    "predictions = []\n",
    "\n",
    "# Storage for MSE of test set\n",
    "MSEs = []\n",
    "# making first dummy prediction\n",
    "push!(predictions, m_a_t_min'm_x_t_prev_min)\n",
    "p = Progress(length(y), 1, \"Observed \")\n",
    "for t in 1:length(y)\n",
    "    push!(MSEs, mse(predictions, y[1:t]))\n",
    "    update!(p, t)\n",
    "    marginals[:a] = ProbabilityDistribution(Multivariate, GaussianMeanPrecision, m=m_a_t_min, w=w_a_t_min)\n",
    "    marginals[:x_t_prev] = ProbabilityDistribution(Multivariate, GaussianMeanPrecision, m=m_x_t_prev_min, w=w_x_t_prev_min)\n",
    "    marginals[:w] = ProbabilityDistribution(Univariate, Gamma, a=a_w, b=b_w)\n",
    "    global m_x_t_prev_min, w_x_t_prev_min, m_a_t_min, w_a_t_min\n",
    "\n",
    "    for i = 1:n_its\n",
    "        data = Dict(:m_y_t => y[t],\n",
    "                    :m_a_t => m_a_t_min,\n",
    "                    :w_a_t => w_a_t_min,\n",
    "                    :m_x_t_prev => m_x_t_prev_min,\n",
    "                    :w_x_t_prev => w_x_t_prev_min)\n",
    "        stepX_t!(data, marginals)\n",
    "        stepA!(data, marginals)\n",
    "        m_a[t] = unsafeMean(marginals[:a])\n",
    "        w_a[t] = unsafePrecision(marginals[:a])\n",
    "        m_x_prev[t] = unsafeMean(marginals[:x_t])\n",
    "        w_x_prev[t] = (huge*diagAR(ARorder))\n",
    "        m_a_t_min = m_a[t]\n",
    "        w_a_t_min = w_a[t]\n",
    "        m_x_t_prev_min = m_x_prev[t]\n",
    "        w_x_t_prev_min = w_x_prev[t]\n",
    "    end\n",
    "    predicted = m_a[t]'m_x_prev[t]\n",
    "    push!(predictions, predicted)\n",
    "end"
   ]
  },
  {
   "cell_type": "code",
   "execution_count": 131,
   "metadata": {},
   "outputs": [],
   "source": [
    "using Plots\n",
    "# Plotting predictions\n",
    "toshow = 10 # number of points to plot at once (length(predictions) - length(y) = 1)\n",
    "anim = @animate for i in 1:length(predictions)-toshow-1\n",
    "    s = plot(xticks = i:div(toshow, 2):i+toshow);\n",
    "    ylims!(minimum(y) - .1, maximum(y) + .1);\n",
    "    plot!(collect(i:i+toshow), y[i:i+toshow], xlabel=\"observation\", ylabel=\"value\", label=\"actual\")\n",
    "    plot!(collect(i:i+toshow+1), predictions[i:i+toshow+1], label=\"predicted\")\n",
    "end;"
   ]
  },
  {
   "cell_type": "code",
   "execution_count": 132,
   "metadata": {
    "scrolled": false
   },
   "outputs": [
    {
     "name": "stderr",
     "output_type": "stream",
     "text": [
      "┌ Info: Saved animation to \n",
      "│   fn = /Users/albertpod/Desktop/VMP-AR/gifs/predictions.gif\n",
      "└ @ Plots /Users/albertpod/.julia/packages/Plots/QYETN/src/animation.jl:90\n"
     ]
    },
    {
     "data": {
      "text/html": [
       "<img src=\"../gifs/predictions.gif\" />"
      ],
      "text/plain": [
       "Plots.AnimatedGif(\"/Users/albertpod/Desktop/VMP-AR/gifs/predictions.gif\")"
      ]
     },
     "execution_count": 132,
     "metadata": {},
     "output_type": "execute_result"
    }
   ],
   "source": [
    "gif(anim, \"../gifs/predictions.gif\", fps = 10)"
   ]
  },
  {
   "cell_type": "code",
   "execution_count": 148,
   "metadata": {},
   "outputs": [
    {
     "data": {
      "image/svg+xml": [
       "<?xml version=\"1.0\" encoding=\"utf-8\"?>\n",
       "<svg xmlns=\"http://www.w3.org/2000/svg\" xmlns:xlink=\"http://www.w3.org/1999/xlink\" width=\"600\" height=\"400\" viewBox=\"0 0 2400 1600\">\n",
       "<defs>\n",
       "  <clipPath id=\"clip4200\">\n",
       "    <rect x=\"0\" y=\"0\" width=\"2000\" height=\"2000\"/>\n",
       "  </clipPath>\n",
       "</defs>\n",
       "<defs>\n",
       "  <clipPath id=\"clip4201\">\n",
       "    <rect x=\"0\" y=\"0\" width=\"2400\" height=\"1600\"/>\n",
       "  </clipPath>\n",
       "</defs>\n",
       "<polygon clip-path=\"url(#clip4201)\" points=\"\n",
       "0,1600 2400,1600 2400,0 0,0 \n",
       "  \" fill=\"#ffffff\" fill-rule=\"evenodd\" fill-opacity=\"1\"/>\n",
       "<defs>\n",
       "  <clipPath id=\"clip4202\">\n",
       "    <rect x=\"480\" y=\"0\" width=\"1681\" height=\"1600\"/>\n",
       "  </clipPath>\n",
       "</defs>\n",
       "<polygon clip-path=\"url(#clip4201)\" points=\"\n",
       "212.353,1440.48 2321.26,1440.48 2321.26,47.2441 212.353,47.2441 \n",
       "  \" fill=\"#ffffff\" fill-rule=\"evenodd\" fill-opacity=\"1\"/>\n",
       "<defs>\n",
       "  <clipPath id=\"clip4203\">\n",
       "    <rect x=\"212\" y=\"47\" width=\"2110\" height=\"1394\"/>\n",
       "  </clipPath>\n",
       "</defs>\n",
       "<polyline clip-path=\"url(#clip4203)\" style=\"stroke:#000000; stroke-width:2; stroke-opacity:0.1; fill:none\" points=\"\n",
       "  543.339,1440.48 543.339,47.2441 \n",
       "  \"/>\n",
       "<polyline clip-path=\"url(#clip4203)\" style=\"stroke:#000000; stroke-width:2; stroke-opacity:0.1; fill:none\" points=\"\n",
       "  995.506,1440.48 995.506,47.2441 \n",
       "  \"/>\n",
       "<polyline clip-path=\"url(#clip4203)\" style=\"stroke:#000000; stroke-width:2; stroke-opacity:0.1; fill:none\" points=\"\n",
       "  1447.67,1440.48 1447.67,47.2441 \n",
       "  \"/>\n",
       "<polyline clip-path=\"url(#clip4203)\" style=\"stroke:#000000; stroke-width:2; stroke-opacity:0.1; fill:none\" points=\"\n",
       "  1899.84,1440.48 1899.84,47.2441 \n",
       "  \"/>\n",
       "<polyline clip-path=\"url(#clip4203)\" style=\"stroke:#000000; stroke-width:2; stroke-opacity:0.1; fill:none\" points=\"\n",
       "  212.353,1334.92 2321.26,1334.92 \n",
       "  \"/>\n",
       "<polyline clip-path=\"url(#clip4203)\" style=\"stroke:#000000; stroke-width:2; stroke-opacity:0.1; fill:none\" points=\"\n",
       "  212.353,1006.01 2321.26,1006.01 \n",
       "  \"/>\n",
       "<polyline clip-path=\"url(#clip4203)\" style=\"stroke:#000000; stroke-width:2; stroke-opacity:0.1; fill:none\" points=\"\n",
       "  212.353,677.1 2321.26,677.1 \n",
       "  \"/>\n",
       "<polyline clip-path=\"url(#clip4203)\" style=\"stroke:#000000; stroke-width:2; stroke-opacity:0.1; fill:none\" points=\"\n",
       "  212.353,348.189 2321.26,348.189 \n",
       "  \"/>\n",
       "<polyline clip-path=\"url(#clip4201)\" style=\"stroke:#000000; stroke-width:4; stroke-opacity:1; fill:none\" points=\"\n",
       "  212.353,1440.48 2321.26,1440.48 \n",
       "  \"/>\n",
       "<polyline clip-path=\"url(#clip4201)\" style=\"stroke:#000000; stroke-width:4; stroke-opacity:1; fill:none\" points=\"\n",
       "  212.353,1440.48 212.353,47.2441 \n",
       "  \"/>\n",
       "<polyline clip-path=\"url(#clip4201)\" style=\"stroke:#000000; stroke-width:4; stroke-opacity:1; fill:none\" points=\"\n",
       "  543.339,1440.48 543.339,1419.58 \n",
       "  \"/>\n",
       "<polyline clip-path=\"url(#clip4201)\" style=\"stroke:#000000; stroke-width:4; stroke-opacity:1; fill:none\" points=\"\n",
       "  995.506,1440.48 995.506,1419.58 \n",
       "  \"/>\n",
       "<polyline clip-path=\"url(#clip4201)\" style=\"stroke:#000000; stroke-width:4; stroke-opacity:1; fill:none\" points=\"\n",
       "  1447.67,1440.48 1447.67,1419.58 \n",
       "  \"/>\n",
       "<polyline clip-path=\"url(#clip4201)\" style=\"stroke:#000000; stroke-width:4; stroke-opacity:1; fill:none\" points=\"\n",
       "  1899.84,1440.48 1899.84,1419.58 \n",
       "  \"/>\n",
       "<polyline clip-path=\"url(#clip4201)\" style=\"stroke:#000000; stroke-width:4; stroke-opacity:1; fill:none\" points=\"\n",
       "  212.353,1334.92 243.986,1334.92 \n",
       "  \"/>\n",
       "<polyline clip-path=\"url(#clip4201)\" style=\"stroke:#000000; stroke-width:4; stroke-opacity:1; fill:none\" points=\"\n",
       "  212.353,1006.01 243.986,1006.01 \n",
       "  \"/>\n",
       "<polyline clip-path=\"url(#clip4201)\" style=\"stroke:#000000; stroke-width:4; stroke-opacity:1; fill:none\" points=\"\n",
       "  212.353,677.1 243.986,677.1 \n",
       "  \"/>\n",
       "<polyline clip-path=\"url(#clip4201)\" style=\"stroke:#000000; stroke-width:4; stroke-opacity:1; fill:none\" points=\"\n",
       "  212.353,348.189 243.986,348.189 \n",
       "  \"/>\n",
       "<g clip-path=\"url(#clip4201)\">\n",
       "<text style=\"fill:#000000; fill-opacity:1; font-family:Arial,Helvetica Neue,Helvetica,sans-serif; font-size:48px; text-anchor:middle;\" transform=\"rotate(0, 543.339, 1494.48)\" x=\"543.339\" y=\"1494.48\">2.5</text>\n",
       "</g>\n",
       "<g clip-path=\"url(#clip4201)\">\n",
       "<text style=\"fill:#000000; fill-opacity:1; font-family:Arial,Helvetica Neue,Helvetica,sans-serif; font-size:48px; text-anchor:middle;\" transform=\"rotate(0, 995.506, 1494.48)\" x=\"995.506\" y=\"1494.48\">5.0</text>\n",
       "</g>\n",
       "<g clip-path=\"url(#clip4201)\">\n",
       "<text style=\"fill:#000000; fill-opacity:1; font-family:Arial,Helvetica Neue,Helvetica,sans-serif; font-size:48px; text-anchor:middle;\" transform=\"rotate(0, 1447.67, 1494.48)\" x=\"1447.67\" y=\"1494.48\">7.5</text>\n",
       "</g>\n",
       "<g clip-path=\"url(#clip4201)\">\n",
       "<text style=\"fill:#000000; fill-opacity:1; font-family:Arial,Helvetica Neue,Helvetica,sans-serif; font-size:48px; text-anchor:middle;\" transform=\"rotate(0, 1899.84, 1494.48)\" x=\"1899.84\" y=\"1494.48\">10.0</text>\n",
       "</g>\n",
       "<g clip-path=\"url(#clip4201)\">\n",
       "<text style=\"fill:#000000; fill-opacity:1; font-family:Arial,Helvetica Neue,Helvetica,sans-serif; font-size:48px; text-anchor:end;\" transform=\"rotate(0, 188.353, 1352.42)\" x=\"188.353\" y=\"1352.42\">-4</text>\n",
       "</g>\n",
       "<g clip-path=\"url(#clip4201)\">\n",
       "<text style=\"fill:#000000; fill-opacity:1; font-family:Arial,Helvetica Neue,Helvetica,sans-serif; font-size:48px; text-anchor:end;\" transform=\"rotate(0, 188.353, 1023.51)\" x=\"188.353\" y=\"1023.51\">-2</text>\n",
       "</g>\n",
       "<g clip-path=\"url(#clip4201)\">\n",
       "<text style=\"fill:#000000; fill-opacity:1; font-family:Arial,Helvetica Neue,Helvetica,sans-serif; font-size:48px; text-anchor:end;\" transform=\"rotate(0, 188.353, 694.6)\" x=\"188.353\" y=\"694.6\">0</text>\n",
       "</g>\n",
       "<g clip-path=\"url(#clip4201)\">\n",
       "<text style=\"fill:#000000; fill-opacity:1; font-family:Arial,Helvetica Neue,Helvetica,sans-serif; font-size:48px; text-anchor:end;\" transform=\"rotate(0, 188.353, 365.689)\" x=\"188.353\" y=\"365.689\">2</text>\n",
       "</g>\n",
       "<g clip-path=\"url(#clip4201)\">\n",
       "<text style=\"fill:#000000; fill-opacity:1; font-family:Arial,Helvetica Neue,Helvetica,sans-serif; font-size:66px; text-anchor:middle;\" transform=\"rotate(0, 1266.81, 1590.4)\" x=\"1266.81\" y=\"1590.4\">observation</text>\n",
       "</g>\n",
       "<g clip-path=\"url(#clip4201)\">\n",
       "<text style=\"fill:#000000; fill-opacity:1; font-family:Arial,Helvetica Neue,Helvetica,sans-serif; font-size:66px; text-anchor:middle;\" transform=\"rotate(-90, 57.6, 743.863)\" x=\"57.6\" y=\"743.863\">value</text>\n",
       "</g>\n",
       "<polyline clip-path=\"url(#clip4203)\" style=\"stroke:#009af9; stroke-width:4; stroke-opacity:1; fill:none\" points=\"\n",
       "  272.039,1179.17 452.906,196.254 633.772,1293.85 814.639,86.6754 995.506,1264.81 1176.37,163.39 1357.24,1401.05 1538.11,296.187 1718.97,1272.12 1899.84,165.915 \n",
       "  2080.71,1223.01 \n",
       "  \"/>\n",
       "<polyline clip-path=\"url(#clip4203)\" style=\"stroke:#e26f46; stroke-width:4; stroke-opacity:1; fill:none\" points=\"\n",
       "  272.039,889.046 452.906,350.56 633.772,1099.22 814.639,196.044 995.506,1196.05 1176.37,169.135 1357.24,1147.79 1538.11,130.446 1718.97,1133.75 1899.84,243.489 \n",
       "  2080.71,1149.84 2261.57,218.574 \n",
       "  \"/>\n",
       "<polygon clip-path=\"url(#clip4201)\" points=\"\n",
       "1811.29,312.204 2249.26,312.204 2249.26,130.764 1811.29,130.764 \n",
       "  \" fill=\"#ffffff\" fill-rule=\"evenodd\" fill-opacity=\"1\"/>\n",
       "<polyline clip-path=\"url(#clip4201)\" style=\"stroke:#000000; stroke-width:4; stroke-opacity:1; fill:none\" points=\"\n",
       "  1811.29,312.204 2249.26,312.204 2249.26,130.764 1811.29,130.764 1811.29,312.204 \n",
       "  \"/>\n",
       "<polyline clip-path=\"url(#clip4201)\" style=\"stroke:#009af9; stroke-width:4; stroke-opacity:1; fill:none\" points=\"\n",
       "  1835.29,191.244 1979.29,191.244 \n",
       "  \"/>\n",
       "<g clip-path=\"url(#clip4201)\">\n",
       "<text style=\"fill:#000000; fill-opacity:1; font-family:Arial,Helvetica Neue,Helvetica,sans-serif; font-size:48px; text-anchor:start;\" transform=\"rotate(0, 2003.29, 208.744)\" x=\"2003.29\" y=\"208.744\">actual</text>\n",
       "</g>\n",
       "<polyline clip-path=\"url(#clip4201)\" style=\"stroke:#e26f46; stroke-width:4; stroke-opacity:1; fill:none\" points=\"\n",
       "  1835.29,251.724 1979.29,251.724 \n",
       "  \"/>\n",
       "<g clip-path=\"url(#clip4201)\">\n",
       "<text style=\"fill:#000000; fill-opacity:1; font-family:Arial,Helvetica Neue,Helvetica,sans-serif; font-size:48px; text-anchor:start;\" transform=\"rotate(0, 2003.29, 269.224)\" x=\"2003.29\" y=\"269.224\">predicted</text>\n",
       "</g>\n",
       "</svg>\n"
      ]
     },
     "execution_count": 148,
     "metadata": {},
     "output_type": "execute_result"
    }
   ],
   "source": [
    "from = length(y) - 10\n",
    "plot(y[from:end], xlabel=\"observation\", ylabel=\"value\", label=\"actual\")\n",
    "plot!(predictions[from:end], label=\"predicted\")"
   ]
  },
  {
   "cell_type": "code",
   "execution_count": 133,
   "metadata": {},
   "outputs": [],
   "source": [
    "# Plotting MSE\n",
    "anim = @animate for i in 1:length(MSEs)\n",
    "    s = plot()\n",
    "    ylims!(minimum(MSEs) - 1, maximum(MSEs) + 1)\n",
    "    xlims!(1, length(MSEs))\n",
    "    plot!(collect(1:i), MSEs[1:i], xlabel=\"observation\", ylabel=\"MSE\", label=\"\")\n",
    "end;"
   ]
  },
  {
   "cell_type": "code",
   "execution_count": 134,
   "metadata": {},
   "outputs": [
    {
     "name": "stderr",
     "output_type": "stream",
     "text": [
      "┌ Info: Saved animation to \n",
      "│   fn = /Users/albertpod/Desktop/VMP-AR/gifs/MSE_evo.gif\n",
      "└ @ Plots /Users/albertpod/.julia/packages/Plots/QYETN/src/animation.jl:90\n"
     ]
    },
    {
     "data": {
      "text/html": [
       "<img src=\"../gifs/MSE_evo.gif\" />"
      ],
      "text/plain": [
       "Plots.AnimatedGif(\"/Users/albertpod/Desktop/VMP-AR/gifs/MSE_evo.gif\")"
      ]
     },
     "execution_count": 134,
     "metadata": {},
     "output_type": "execute_result"
    }
   ],
   "source": [
    "gif(anim, \"../gifs/MSE_evo.gif\", fps = 100)"
   ]
  },
  {
   "cell_type": "code",
   "execution_count": 135,
   "metadata": {},
   "outputs": [
    {
     "data": {
      "text/plain": [
       "0.01607528002140285"
      ]
     },
     "execution_count": 135,
     "metadata": {},
     "output_type": "execute_result"
    }
   ],
   "source": [
    "mse(coefs, mean(marginals[:a]))"
   ]
  },
  {
   "cell_type": "code",
   "execution_count": 140,
   "metadata": {},
   "outputs": [],
   "source": [
    "# Plotting AR coefs\n",
    "# !!! ONLY FOR AR(2)\n",
    "using LinearAlgebra; \n",
    "\n",
    "len = 64\n",
    "\n",
    "# Definition of the bivariate gaussian using a covariance matrix\n",
    "𝓝(x, μ, Σ) = 1/((2 * π)^(length(μ)/2) * det(Σ)^(1/2)) * exp(-(1/2) * (x-μ)' * Σ^(-1) * (x-μ));\n",
    "\n",
    "anim = @animate for i in 1:100:length(m_a)\n",
    "    if !isassigned(m_a, i)\n",
    "        continue\n",
    "    end\n",
    "    s = plot();\n",
    "    xlims!(-1.0, 1.0)\n",
    "    ylims!(-1.0, 1.0)\n",
    "    plot!([m_a_0[1]],[m_a_0[2]], seriestype=:scatter, title = \"AR coefs\", label=\"prior\")\n",
    "    plot!([coefs[1]],[coefs[2]], seriestype=:scatter, label=\"true\")\n",
    "    plot!([m_a[i][1]],[m_a[i][2]], seriestype=:scatter, label=\"posterior\")\n",
    "    # get the maximum σ (used to construct the x and y ranges)\n",
    "    σ_max = sqrt((w_a[i][1]^-1 > w_a[i][4]^-1 ) ? w_a[i][1]^-1 : w_a[i][4]^-1)\n",
    "    rx = range(m_a[i][1]-3*σ_max, m_a[i][1]+3*σ_max, length=len)\n",
    "    ry = range(m_a[i][2]-3*σ_max, m_a[i][2]+3*σ_max, length=len)\n",
    "    contour!(rx, ry, (x1, x2) -> 𝓝([x1 ; x2], m_a[i], w_a[i]^-1), xlabel=\"a1\", ylabel=\"a2\")\n",
    "end;"
   ]
  },
  {
   "cell_type": "code",
   "execution_count": 141,
   "metadata": {},
   "outputs": [
    {
     "name": "stderr",
     "output_type": "stream",
     "text": [
      "┌ Info: Saved animation to \n",
      "│   fn = /Users/albertpod/Desktop/VMP-AR/gifs/kpcoefs_evo.gif\n",
      "└ @ Plots /Users/albertpod/.julia/packages/Plots/QYETN/src/animation.jl:90\n"
     ]
    },
    {
     "data": {
      "text/html": [
       "<img src=\"../gifs/kpcoefs_evo.gif\" />"
      ],
      "text/plain": [
       "Plots.AnimatedGif(\"/Users/albertpod/Desktop/VMP-AR/gifs/kpcoefs_evo.gif\")"
      ]
     },
     "execution_count": 141,
     "metadata": {},
     "output_type": "execute_result"
    },
    {
     "name": "stderr",
     "output_type": "stream",
     "text": [
      "WARNING: both Plots and Images export \"center\"; uses of it in module Main must be qualified\n"
     ]
    }
   ],
   "source": [
    "gif(anim, \"../gifs/kpcoefs_evo.gif\", fps = 10)"
   ]
  }
 ],
 "metadata": {
  "kernelspec": {
   "display_name": "Julia 1.0.0",
   "language": "julia",
   "name": "julia-1.0"
  },
  "language_info": {
   "file_extension": ".jl",
   "mimetype": "application/julia",
   "name": "julia",
   "version": "1.0.0"
  }
 },
 "nbformat": 4,
 "nbformat_minor": 2
}
