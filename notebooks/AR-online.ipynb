{
 "cells": [
  {
   "cell_type": "markdown",
   "metadata": {},
   "source": [
    "# Online learning of AR(p) coefficients\n",
    "$$p(\\mathbf{x}_n\\,|\\,\\mathbf{x}_{n-1},\\mathbf{a},\\gamma) = \\mathcal{N}\\left(\\mathbf{x}_n \\;\\middle|\\; \\mathbf{A}\\mathbf{x}_{n-1}, \\mathbf{I}\\gamma^{-1} \\right)$$\n",
    "where\n",
    "\\begin{align*}\n",
    "    &\\mathbf{x}_n = (x_n, x_{n-1}, \\dots, x_{n-p+1})^\\text{T} \\quad \\mathbf{x}_{n-1} = (x_{n-1}, x_{n-2}, \\dots, x_{n-p})^\\text{T} \n",
    "    \\\\ \\\\\n",
    "    &\\mathbf{A} = \n",
    "    \\begin{bmatrix}\n",
    "        a_1 & a_2 & a_3 & \\dots & a_p \\\\\n",
    "        1 & 0 & 0 & \\dots & 0 \\\\ \n",
    "        0 & 1 & 0 & \\dots & 0 \\\\   \n",
    "        \\vdots & \\vdots & \\vdots & \\ddots & \\vdots \\\\\n",
    "        0 & 0 & 0 & \\dots & 0\n",
    "    \\end{bmatrix}\n",
    "    =\n",
    "    \\begin{bmatrix}\n",
    "         \\mathbf{a}^\\text{T} \\\\\n",
    "         \\mathbf{I}_{p-1} \\quad \\mathbf{0}\n",
    "    \\end{bmatrix}\n",
    "    \\\\ \\\\\n",
    "    &\\mathbf{I} = \\mathbf{I}_p = \n",
    "    \\begin{bmatrix}\n",
    "        1 & 0 & 0 & \\dots & 0 \\\\ \n",
    "        0 & 1 & 0 & \\dots & 0 \\\\   \n",
    "        \\vdots & \\vdots & \\vdots & \\ddots & \\vdots \\\\\n",
    "        0 & 0 & 0 & \\dots & 1\n",
    "    \\end{bmatrix}\n",
    "\\end{align*}"
   ]
  },
  {
   "cell_type": "code",
   "execution_count": 1,
   "metadata": {},
   "outputs": [
    {
     "name": "stderr",
     "output_type": "stream",
     "text": [
      "┌ Info: Precompiling Images [916415d5-f1e6-5110-898d-aaa5f9f070e0]\n",
      "└ @ Base loading.jl:1186\n",
      "┌ Info: Precompiling QuartzImageIO [dca85d43-d64c-5e67-8c65-017450d5d020]\n",
      "└ @ Base loading.jl:1186\n"
     ]
    },
    {
     "data": {
      "image/png": "[encoded data removed]",
      "text/plain": [
       "421×412 Array{RGBA{N0f8},2} with eltype RGBA{Normed{UInt8,8}}:\n",
       " RGBA{N0f8}(1.0,1.0,1.0,1.0)  …  RGBA{N0f8}(1.0,1.0,1.0,1.0)\n",
       " RGBA{N0f8}(1.0,1.0,1.0,1.0)     RGBA{N0f8}(1.0,1.0,1.0,1.0)\n",
       " RGBA{N0f8}(1.0,1.0,1.0,1.0)     RGBA{N0f8}(1.0,1.0,1.0,1.0)\n",
       " RGBA{N0f8}(1.0,1.0,1.0,1.0)     RGBA{N0f8}(1.0,1.0,1.0,1.0)\n",
       " RGBA{N0f8}(1.0,1.0,1.0,1.0)     RGBA{N0f8}(1.0,1.0,1.0,1.0)\n",
       " RGBA{N0f8}(1.0,1.0,1.0,1.0)  …  RGBA{N0f8}(1.0,1.0,1.0,1.0)\n",
       " RGBA{N0f8}(1.0,1.0,1.0,1.0)     RGBA{N0f8}(1.0,1.0,1.0,1.0)\n",
       " RGBA{N0f8}(1.0,1.0,1.0,1.0)     RGBA{N0f8}(1.0,1.0,1.0,1.0)\n",
       " RGBA{N0f8}(1.0,1.0,1.0,1.0)     RGBA{N0f8}(1.0,1.0,1.0,1.0)\n",
       " RGBA{N0f8}(1.0,1.0,1.0,1.0)     RGBA{N0f8}(1.0,1.0,1.0,1.0)\n",
       " RGBA{N0f8}(1.0,1.0,1.0,1.0)  …  RGBA{N0f8}(1.0,1.0,1.0,1.0)\n",
       " RGBA{N0f8}(1.0,1.0,1.0,1.0)     RGBA{N0f8}(1.0,1.0,1.0,1.0)\n",
       " RGBA{N0f8}(1.0,1.0,1.0,1.0)     RGBA{N0f8}(1.0,1.0,1.0,1.0)\n",
       " ⋮                            ⋱                             \n",
       " RGBA{N0f8}(1.0,1.0,1.0,1.0)     RGBA{N0f8}(1.0,1.0,1.0,1.0)\n",
       " RGBA{N0f8}(1.0,1.0,1.0,1.0)  …  RGBA{N0f8}(1.0,1.0,1.0,1.0)\n",
       " RGBA{N0f8}(1.0,1.0,1.0,1.0)     RGBA{N0f8}(1.0,1.0,1.0,1.0)\n",
       " RGBA{N0f8}(1.0,1.0,1.0,1.0)     RGBA{N0f8}(1.0,1.0,1.0,1.0)\n",
       " RGBA{N0f8}(1.0,1.0,1.0,1.0)     RGBA{N0f8}(1.0,1.0,1.0,1.0)\n",
       " RGBA{N0f8}(1.0,1.0,1.0,1.0)     RGBA{N0f8}(1.0,1.0,1.0,1.0)\n",
       " RGBA{N0f8}(1.0,1.0,1.0,1.0)  …  RGBA{N0f8}(1.0,1.0,1.0,1.0)\n",
       " RGBA{N0f8}(1.0,1.0,1.0,1.0)     RGBA{N0f8}(1.0,1.0,1.0,1.0)\n",
       " RGBA{N0f8}(1.0,1.0,1.0,1.0)     RGBA{N0f8}(1.0,1.0,1.0,1.0)\n",
       " RGBA{N0f8}(1.0,1.0,1.0,1.0)     RGBA{N0f8}(1.0,1.0,1.0,1.0)\n",
       " RGBA{N0f8}(1.0,1.0,1.0,1.0)     RGBA{N0f8}(1.0,1.0,1.0,1.0)\n",
       " RGBA{N0f8}(1.0,1.0,1.0,1.0)  …  RGBA{N0f8}(1.0,1.0,1.0,1.0)"
      ]
     },
     "execution_count": 1,
     "metadata": {},
     "output_type": "execute_result"
    }
   ],
   "source": [
    "using Images\n",
    "img = load(\"../ffgs/AR-online.png\")"
   ]
  },
  {
   "cell_type": "markdown",
   "metadata": {},
   "source": [
    "We are interested in a joint estimation of the AR coefficients $\\mathbf{a}$, the precision  of the driving noise $\\gamma$"
   ]
  },
  {
   "cell_type": "code",
   "execution_count": 96,
   "metadata": {},
   "outputs": [
    {
     "name": "stderr",
     "output_type": "stream",
     "text": [
      "WARNING: replacing module ARdata.\n",
      "WARNING: ignoring conflicting import of ARdata.use_data into Main\n",
      "WARNING: ignoring conflicting import of ARdata.generate_data into Main\n"
     ]
    }
   ],
   "source": [
    "using ProgressMeter\n",
    "using Revise\n",
    "using ForneyLab\n",
    "include(\"../AR-node/autoregression.jl\")\n",
    "include(\"../AR-node/rules_prototypes.jl\")\n",
    "include(\"../AR-node/vmp_rules.jl\")\n",
    "# helpers for evaluation of the model\n",
    "include(\"../helpers/functions.jl\")\n",
    "# module to generate data for AR\n",
    "include(\"../data/ARdata.jl\")\n",
    "import Main.ARdata: use_data, generate_data\n",
    "import LinearAlgebra.I, LinearAlgebra.Symmetric\n",
    "import ForneyLab: unsafeCov, unsafeMean, unsafePrecision"
   ]
  },
  {
   "cell_type": "code",
   "execution_count": 97,
   "metadata": {},
   "outputs": [
    {
     "data": {
      "text/plain": [
       "([-0.356693, -0.43865], Array{Float64,1}[[0.440916, 0.9271], [0.351683, 0.440916], [-0.978591, 0.351683], [1.37769, -0.978591], [-0.867875, 1.37769], [-0.538551, -0.867875], [0.951128, -0.538551], [-0.219053, 0.951128], [0.519575, -0.219053], [0.384992, 0.519575]  …  [-0.436644, -1.22392], [0.946618, -0.436644], [-1.84002, 0.946618], [-0.138146, -1.84002], [0.35311, -0.138146], [-1.8805, 0.35311], [1.91467, -1.8805], [0.388083, 1.91467], [-0.576238, 0.388083], [-0.978382, -0.576238]])"
      ]
     },
     "execution_count": 97,
     "metadata": {},
     "output_type": "execute_result"
    }
   ],
   "source": [
    "ARorder = 2 # order of AR model\n",
    "diagAR(dim) = Matrix{Float64}(I, dim, dim)\n",
    "x = []\n",
    "# Coefs and Observations\n",
    "p_noise_var = 1.0\n",
    "coefs, x = generate_data(10000, ARorder, 1, noise_variance=p_noise_var)"
   ]
  },
  {
   "cell_type": "code",
   "execution_count": 98,
   "metadata": {},
   "outputs": [
    {
     "data": {
      "text/html": [
       "<?xml version=\"1.0\" encoding=\"UTF-8\" standalone=\"no\"?>\n",
       "<!DOCTYPE svg PUBLIC \"-//W3C//DTD SVG 1.1//EN\"\n",
       " \"http://www.w3.org/Graphics/SVG/1.1/DTD/svg11.dtd\">\n",
       "<!-- Generated by graphviz version 2.40.1 (20161225.0304)\n",
       " -->\n",
       "<!-- Title: G Pages: 1 -->\n",
       "<svg width=\"1912pt\" height=\"196pt\"\n",
       " viewBox=\"0.00 0.00 1912.22 196.00\" xmlns=\"http://www.w3.org/2000/svg\" xmlns:xlink=\"http://www.w3.org/1999/xlink\">\n",
       "<g id=\"graph0\" class=\"graph\" transform=\"scale(1 1) rotate(0) translate(4 192)\">\n",
       "<title>G</title>\n",
       "<polygon fill=\"#ffffff\" stroke=\"transparent\" points=\"-4,4 -4,-192 1908.2224,-192 1908.2224,4 -4,4\"/>\n",
       "<!-- 14558589878057740453 -->\n",
       "<g id=\"node1\" class=\"node\">\n",
       "<title>14558589878057740453</title>\n",
       "<polygon fill=\"#d3d3d3\" stroke=\"#000000\" points=\"326.7034,-179 220.7649,-179 220.7649,-125 326.7034,-125 326.7034,-179\"/>\n",
       "<text text-anchor=\"middle\" x=\"273.7341\" y=\"-149.3\" font-family=\"Times,serif\" font-size=\"9.00\" fill=\"#000000\">placeholder_m_x_t_prev</text>\n",
       "</g>\n",
       "<!-- 7306386350202045500 -->\n",
       "<g id=\"node3\" class=\"node\">\n",
       "<title>7306386350202045500</title>\n",
       "<polygon fill=\"none\" stroke=\"#000000\" points=\"328.2093,-72 219.259,-72 219.259,0 328.2093,0 328.2093,-72\"/>\n",
       "<text text-anchor=\"middle\" x=\"273.7341\" y=\"-40.095\" font-family=\"Times,serif\" font-size=\"9.00\" fill=\"#000000\">𝒩</text>\n",
       "<text text-anchor=\"middle\" x=\"273.7341\" y=\"-26.505\" font-family=\"Times,serif\" font-size=\"9.00\" fill=\"#000000\">gaussianmeanprecision_2</text>\n",
       "</g>\n",
       "<!-- 14558589878057740453&#45;&#45;7306386350202045500 -->\n",
       "<g id=\"edge12\" class=\"edge\">\n",
       "<title>14558589878057740453&#45;&#45;7306386350202045500</title>\n",
       "<path fill=\"none\" stroke=\"#000000\" d=\"M273.7341,-124.8032C273.7341,-109.1333 273.7341,-89.2377 273.7341,-72.252\"/>\n",
       "<text text-anchor=\"start\" x=\"273.7341\" y=\"-91.6\" font-family=\"Times,serif\" font-size=\"8.00\" fill=\"#ff0000\">m_x_t_prev</text>\n",
       "<text text-anchor=\"start\" x=\"259.5115\" y=\"-73.852\" font-family=\"Times,serif\" font-size=\"8.00\" fill=\"#000000\">2 m </text>\n",
       "<text text-anchor=\"start\" x=\"255.5115\" y=\"-118.4032\" font-family=\"Times,serif\" font-size=\"8.00\" fill=\"#000000\">1 out </text>\n",
       "</g>\n",
       "<!-- 7117345441254069779 -->\n",
       "<g id=\"node2\" class=\"node\">\n",
       "<title>7117345441254069779</title>\n",
       "<polygon fill=\"#d3d3d3\" stroke=\"#000000\" points=\"526.2063,-179 441.262,-179 441.262,-125 526.2063,-125 526.2063,-179\"/>\n",
       "<text text-anchor=\"middle\" x=\"483.7341\" y=\"-149.3\" font-family=\"Times,serif\" font-size=\"9.00\" fill=\"#000000\">placeholder_m_a_t</text>\n",
       "</g>\n",
       "<!-- 18394934494836818597 -->\n",
       "<g id=\"node4\" class=\"node\">\n",
       "<title>18394934494836818597</title>\n",
       "<polygon fill=\"none\" stroke=\"#000000\" points=\"826.2093,-72 717.259,-72 717.259,0 826.2093,0 826.2093,-72\"/>\n",
       "<text text-anchor=\"middle\" x=\"771.7341\" y=\"-40.095\" font-family=\"Times,serif\" font-size=\"9.00\" fill=\"#000000\">𝒩</text>\n",
       "<text text-anchor=\"middle\" x=\"771.7341\" y=\"-26.505\" font-family=\"Times,serif\" font-size=\"9.00\" fill=\"#000000\">gaussianmeanprecision_1</text>\n",
       "</g>\n",
       "<!-- 7117345441254069779&#45;&#45;18394934494836818597 -->\n",
       "<g id=\"edge3\" class=\"edge\">\n",
       "<title>7117345441254069779&#45;&#45;18394934494836818597</title>\n",
       "<path fill=\"none\" stroke=\"#000000\" d=\"M470.5657,-124.7403C466.8821,-112.8785 465.7712,-99.5403 473.738,-90 504.1533,-53.5779 639.8226,-41.6713 717.2008,-37.8163\"/>\n",
       "<text text-anchor=\"start\" x=\"474.7341\" y=\"-91.6\" font-family=\"Times,serif\" font-size=\"8.00\" fill=\"#ff0000\">m_a_t</text>\n",
       "<text text-anchor=\"start\" x=\"702.9782\" y=\"-39.4163\" font-family=\"Times,serif\" font-size=\"8.00\" fill=\"#000000\">2 m </text>\n",
       "<text text-anchor=\"start\" x=\"452.343\" y=\"-118.3403\" font-family=\"Times,serif\" font-size=\"8.00\" fill=\"#000000\">1 out </text>\n",
       "</g>\n",
       "<!-- 15831188690545866086 -->\n",
       "<g id=\"node5\" class=\"node\">\n",
       "<title>15831188690545866086</title>\n",
       "<polygon fill=\"none\" stroke=\"#000000\" points=\"1346.2093,-72 1237.259,-72 1237.259,0 1346.2093,0 1346.2093,-72\"/>\n",
       "<text text-anchor=\"middle\" x=\"1291.7341\" y=\"-40.095\" font-family=\"Times,serif\" font-size=\"9.00\" fill=\"#000000\">𝒩</text>\n",
       "<text text-anchor=\"middle\" x=\"1291.7341\" y=\"-26.505\" font-family=\"Times,serif\" font-size=\"9.00\" fill=\"#000000\">gaussianmeanprecision_3</text>\n",
       "</g>\n",
       "<!-- 554587886096909065 -->\n",
       "<g id=\"node6\" class=\"node\">\n",
       "<title>554587886096909065</title>\n",
       "<polygon fill=\"#d3d3d3\" stroke=\"#000000\" points=\"814.2066,-179 729.2616,-179 729.2616,-125 814.2066,-125 814.2066,-179\"/>\n",
       "<text text-anchor=\"middle\" x=\"771.7341\" y=\"-149.3\" font-family=\"Times,serif\" font-size=\"9.00\" fill=\"#000000\">placeholder_w_a_t</text>\n",
       "</g>\n",
       "<!-- 554587886096909065&#45;&#45;18394934494836818597 -->\n",
       "<g id=\"edge4\" class=\"edge\">\n",
       "<title>554587886096909065&#45;&#45;18394934494836818597</title>\n",
       "<path fill=\"none\" stroke=\"#000000\" d=\"M765.9902,-124.9292C764.4294,-116.3585 762.9573,-106.8202 762.1833,-98 761.4503,-89.6461 762.0223,-80.7086 763.1805,-72.2942\"/>\n",
       "<text text-anchor=\"start\" x=\"762.7341\" y=\"-91.6\" font-family=\"Times,serif\" font-size=\"8.00\" fill=\"#ff0000\">w_a_t</text>\n",
       "<text text-anchor=\"start\" x=\"749.4032\" y=\"-73.8942\" font-family=\"Times,serif\" font-size=\"8.00\" fill=\"#000000\">3 w </text>\n",
       "<text text-anchor=\"start\" x=\"747.7676\" y=\"-118.5292\" font-family=\"Times,serif\" font-size=\"8.00\" fill=\"#000000\">1 out </text>\n",
       "</g>\n",
       "<!-- 10219610879776073396 -->\n",
       "<g id=\"node7\" class=\"node\">\n",
       "<title>10219610879776073396</title>\n",
       "<polygon fill=\"#d3d3d3\" stroke=\"#000000\" points=\"1504.2107,-179 1419.2576,-179 1419.2576,-125 1504.2107,-125 1504.2107,-179\"/>\n",
       "<text text-anchor=\"middle\" x=\"1461.7341\" y=\"-149.3\" font-family=\"Times,serif\" font-size=\"9.00\" fill=\"#000000\">placeholder_w_x_t</text>\n",
       "</g>\n",
       "<!-- 10219610879776073396&#45;&#45;15831188690545866086 -->\n",
       "<g id=\"edge8\" class=\"edge\">\n",
       "<title>10219610879776073396&#45;&#45;15831188690545866086</title>\n",
       "<path fill=\"none\" stroke=\"#000000\" d=\"M1421.8767,-124.8032C1398.8141,-109.0664 1369.5056,-89.0676 1344.5432,-72.0344\"/>\n",
       "<text text-anchor=\"start\" x=\"1382.7341\" y=\"-91.6\" font-family=\"Times,serif\" font-size=\"8.00\" fill=\"#ff0000\">w_x_t</text>\n",
       "<text text-anchor=\"start\" x=\"1330.7659\" y=\"-73.6344\" font-family=\"Times,serif\" font-size=\"8.00\" fill=\"#000000\">3 w </text>\n",
       "<text text-anchor=\"start\" x=\"1403.654\" y=\"-118.4032\" font-family=\"Times,serif\" font-size=\"8.00\" fill=\"#000000\">1 out </text>\n",
       "</g>\n",
       "<!-- 12248605799872316670 -->\n",
       "<g id=\"node8\" class=\"node\">\n",
       "<title>12248605799872316670</title>\n",
       "<polygon fill=\"none\" stroke=\"#000000\" points=\"1040.7195,-188 962.7487,-188 962.7487,-116 1040.7195,-116 1040.7195,-188\"/>\n",
       "<text text-anchor=\"middle\" x=\"1001.7341\" y=\"-153.8\" font-family=\"Times,serif\" font-size=\"9.00\" fill=\"#000000\">Autoregression</text>\n",
       "<text text-anchor=\"middle\" x=\"1001.7341\" y=\"-144.8\" font-family=\"Times,serif\" font-size=\"9.00\" fill=\"#000000\">autoregression_1</text>\n",
       "</g>\n",
       "<!-- 12248605799872316670&#45;&#45;7306386350202045500 -->\n",
       "<g id=\"edge9\" class=\"edge\">\n",
       "<title>12248605799872316670&#45;&#45;7306386350202045500</title>\n",
       "<path fill=\"none\" stroke=\"#000000\" d=\"M962.8715,-139.4615C937.2388,-131.634 902.785,-121.948 871.7341,-116 799.0932,-102.0851 779.6779,-107.2482 706.2966,-98 570.0584,-80.8299 410.2345,-56.946 328.2811,-44.4253\"/>\n",
       "<text text-anchor=\"start\" x=\"706.7341\" y=\"-91.6\" font-family=\"Times,serif\" font-size=\"8.00\" fill=\"#ff0000\">x_t_prev</text>\n",
       "<text text-anchor=\"start\" x=\"328.2811\" y=\"-46.0253\" font-family=\"Times,serif\" font-size=\"8.00\" fill=\"#000000\">1 out </text>\n",
       "<text text-anchor=\"start\" x=\"950.8715\" y=\"-141.0615\" font-family=\"Times,serif\" font-size=\"8.00\" fill=\"#000000\">2 x </text>\n",
       "</g>\n",
       "<!-- 12248605799872316670&#45;&#45;18394934494836818597 -->\n",
       "<g id=\"edge7\" class=\"edge\">\n",
       "<title>12248605799872316670&#45;&#45;18394934494836818597</title>\n",
       "<path fill=\"none\" stroke=\"#000000\" d=\"M962.9778,-132.4534C925.4668,-113.5348 868.2583,-84.6818 826.1812,-63.4602\"/>\n",
       "<text text-anchor=\"start\" x=\"893.7341\" y=\"-91.6\" font-family=\"Times,serif\" font-size=\"8.00\" fill=\"#ff0000\">a</text>\n",
       "<text text-anchor=\"start\" x=\"826.1812\" y=\"-65.0602\" font-family=\"Times,serif\" font-size=\"8.00\" fill=\"#000000\">1 out </text>\n",
       "<text text-anchor=\"start\" x=\"951.4271\" y=\"-126.0534\" font-family=\"Times,serif\" font-size=\"8.00\" fill=\"#000000\">3 a </text>\n",
       "</g>\n",
       "<!-- 12248605799872316670&#45;&#45;15831188690545866086 -->\n",
       "<g id=\"edge5\" class=\"edge\">\n",
       "<title>12248605799872316670&#45;&#45;15831188690545866086</title>\n",
       "<path fill=\"none\" stroke=\"#000000\" d=\"M1014.7595,-115.9095C1019.8598,-106.2051 1026.6618,-96.5867 1035.5115,-90 1066.9195,-66.6234 1172.0611,-50.2574 1237.4935,-42.051\"/>\n",
       "<text text-anchor=\"start\" x=\"1035.7341\" y=\"-91.6\" font-family=\"Times,serif\" font-size=\"8.00\" fill=\"#ff0000\">x_t</text>\n",
       "<text text-anchor=\"start\" x=\"1219.2708\" y=\"-43.651\" font-family=\"Times,serif\" font-size=\"8.00\" fill=\"#000000\">1 out </text>\n",
       "<text text-anchor=\"start\" x=\"996.5368\" y=\"-109.5095\" font-family=\"Times,serif\" font-size=\"8.00\" fill=\"#000000\">1 out </text>\n",
       "</g>\n",
       "<!-- 5447542862467637469 -->\n",
       "<g id=\"node13\" class=\"node\">\n",
       "<title>5447542862467637469</title>\n",
       "<polygon fill=\"none\" stroke=\"#000000\" points=\"1697.7341,-72 1625.7341,-72 1625.7341,0 1697.7341,0 1697.7341,-72\"/>\n",
       "<text text-anchor=\"middle\" x=\"1661.7341\" y=\"-37.8\" font-family=\"Times,serif\" font-size=\"9.00\" fill=\"#000000\">Gam</text>\n",
       "<text text-anchor=\"middle\" x=\"1661.7341\" y=\"-28.8\" font-family=\"Times,serif\" font-size=\"9.00\" fill=\"#000000\">gamma_1</text>\n",
       "</g>\n",
       "<!-- 12248605799872316670&#45;&#45;5447542862467637469 -->\n",
       "<g id=\"edge10\" class=\"edge\">\n",
       "<title>12248605799872316670&#45;&#45;5447542862467637469</title>\n",
       "<path fill=\"none\" stroke=\"#000000\" d=\"M1040.6344,-140.2033C1088.0059,-126.2572 1170.6565,-103.2711 1242.9568,-90 1313.6783,-77.0187 1332.3927,-80.9692 1403.7341,-72 1482.9339,-62.0429 1575.5638,-48.7032 1625.4576,-41.3783\"/>\n",
       "<text text-anchor=\"start\" x=\"1243.7341\" y=\"-91.6\" font-family=\"Times,serif\" font-size=\"8.00\" fill=\"#ff0000\">w</text>\n",
       "<text text-anchor=\"start\" x=\"1607.235\" y=\"-42.9783\" font-family=\"Times,serif\" font-size=\"8.00\" fill=\"#000000\">1 out </text>\n",
       "<text text-anchor=\"start\" x=\"1040.6344\" y=\"-141.8033\" font-family=\"Times,serif\" font-size=\"8.00\" fill=\"#000000\">4 W </text>\n",
       "</g>\n",
       "<!-- 10425015530434812458 -->\n",
       "<g id=\"node9\" class=\"node\">\n",
       "<title>10425015530434812458</title>\n",
       "<polygon fill=\"#d3d3d3\" stroke=\"#000000\" points=\"1704.2066,-179 1619.2616,-179 1619.2616,-125 1704.2066,-125 1704.2066,-179\"/>\n",
       "<text text-anchor=\"middle\" x=\"1661.7341\" y=\"-149.3\" font-family=\"Times,serif\" font-size=\"9.00\" fill=\"#000000\">placeholder_a_w_t</text>\n",
       "</g>\n",
       "<!-- 10425015530434812458&#45;&#45;5447542862467637469 -->\n",
       "<g id=\"edge11\" class=\"edge\">\n",
       "<title>10425015530434812458&#45;&#45;5447542862467637469</title>\n",
       "<path fill=\"none\" stroke=\"#000000\" d=\"M1661.7341,-124.8032C1661.7341,-109.1333 1661.7341,-89.2377 1661.7341,-72.252\"/>\n",
       "<text text-anchor=\"start\" x=\"1661.7341\" y=\"-91.6\" font-family=\"Times,serif\" font-size=\"8.00\" fill=\"#ff0000\">a_w_t</text>\n",
       "<text text-anchor=\"start\" x=\"1650.1833\" y=\"-73.852\" font-family=\"Times,serif\" font-size=\"8.00\" fill=\"#000000\">2 a </text>\n",
       "<text text-anchor=\"start\" x=\"1643.5115\" y=\"-118.4032\" font-family=\"Times,serif\" font-size=\"8.00\" fill=\"#000000\">1 out </text>\n",
       "</g>\n",
       "<!-- 2751441161984728905 -->\n",
       "<g id=\"node10\" class=\"node\">\n",
       "<title>2751441161984728905</title>\n",
       "<polygon fill=\"#d3d3d3\" stroke=\"#000000\" points=\"1304.713,-179 1218.7553,-179 1218.7553,-125 1304.713,-125 1304.713,-179\"/>\n",
       "<text text-anchor=\"middle\" x=\"1261.7341\" y=\"-149.3\" font-family=\"Times,serif\" font-size=\"9.00\" fill=\"#000000\">placeholder_m_x_t</text>\n",
       "</g>\n",
       "<!-- 2751441161984728905&#45;&#45;15831188690545866086 -->\n",
       "<g id=\"edge6\" class=\"edge\">\n",
       "<title>2751441161984728905&#45;&#45;15831188690545866086</title>\n",
       "<path fill=\"none\" stroke=\"#000000\" d=\"M1268.7678,-124.8032C1272.8203,-109.1333 1277.9658,-89.2377 1282.3586,-72.252\"/>\n",
       "<text text-anchor=\"start\" x=\"1277.7341\" y=\"-91.6\" font-family=\"Times,serif\" font-size=\"8.00\" fill=\"#ff0000\">m_x_t</text>\n",
       "<text text-anchor=\"start\" x=\"1268.136\" y=\"-73.852\" font-family=\"Times,serif\" font-size=\"8.00\" fill=\"#000000\">2 m </text>\n",
       "<text text-anchor=\"start\" x=\"1250.5451\" y=\"-118.4032\" font-family=\"Times,serif\" font-size=\"8.00\" fill=\"#000000\">1 out </text>\n",
       "</g>\n",
       "<!-- 14003064619309508190 -->\n",
       "<g id=\"node11\" class=\"node\">\n",
       "<title>14003064619309508190</title>\n",
       "<polygon fill=\"#d3d3d3\" stroke=\"#000000\" points=\"105.7034,-179 -.2352,-179 -.2352,-125 105.7034,-125 105.7034,-179\"/>\n",
       "<text text-anchor=\"middle\" x=\"52.7341\" y=\"-149.3\" font-family=\"Times,serif\" font-size=\"9.00\" fill=\"#000000\">placeholder_w_x_t_prev</text>\n",
       "</g>\n",
       "<!-- 14003064619309508190&#45;&#45;7306386350202045500 -->\n",
       "<g id=\"edge1\" class=\"edge\">\n",
       "<title>14003064619309508190&#45;&#45;7306386350202045500</title>\n",
       "<path fill=\"none\" stroke=\"#000000\" d=\"M104.2699,-124.9496C138.835,-106.8068 184.286,-82.9502 219.4155,-64.5111\"/>\n",
       "<text text-anchor=\"start\" x=\"170.7341\" y=\"-91.6\" font-family=\"Times,serif\" font-size=\"8.00\" fill=\"#ff0000\">w_x_t_prev</text>\n",
       "<text text-anchor=\"start\" x=\"205.6382\" y=\"-66.1111\" font-family=\"Times,serif\" font-size=\"8.00\" fill=\"#000000\">3 w </text>\n",
       "<text text-anchor=\"start\" x=\"86.0472\" y=\"-118.5496\" font-family=\"Times,serif\" font-size=\"8.00\" fill=\"#000000\">1 out </text>\n",
       "</g>\n",
       "<!-- 14846345576705333374 -->\n",
       "<g id=\"node12\" class=\"node\">\n",
       "<title>14846345576705333374</title>\n",
       "<polygon fill=\"#d3d3d3\" stroke=\"#000000\" points=\"1904.2107,-179 1819.2576,-179 1819.2576,-125 1904.2107,-125 1904.2107,-179\"/>\n",
       "<text text-anchor=\"middle\" x=\"1861.7341\" y=\"-149.3\" font-family=\"Times,serif\" font-size=\"9.00\" fill=\"#000000\">placeholder_b_w_t</text>\n",
       "</g>\n",
       "<!-- 14846345576705333374&#45;&#45;5447542862467637469 -->\n",
       "<g id=\"edge2\" class=\"edge\">\n",
       "<title>14846345576705333374&#45;&#45;5447542862467637469</title>\n",
       "<path fill=\"none\" stroke=\"#000000\" d=\"M1818.8291,-127.1151C1782.7887,-106.2116 1731.8685,-76.6779 1697.8748,-56.9616\"/>\n",
       "<text text-anchor=\"start\" x=\"1766.7341\" y=\"-91.6\" font-family=\"Times,serif\" font-size=\"8.00\" fill=\"#ff0000\">b_w_t</text>\n",
       "<text text-anchor=\"start\" x=\"1697.8748\" y=\"-58.5616\" font-family=\"Times,serif\" font-size=\"8.00\" fill=\"#000000\">3 b </text>\n",
       "<text text-anchor=\"start\" x=\"1800.6065\" y=\"-128.7151\" font-family=\"Times,serif\" font-size=\"8.00\" fill=\"#000000\">1 out </text>\n",
       "</g>\n",
       "</g>\n",
       "</svg>\n"
      ]
     },
     "metadata": {},
     "output_type": "display_data"
    }
   ],
   "source": [
    "g = FactorGraph()\n",
    "\n",
    "# declare priors as random variables\n",
    "@RV m_x_t_prev\n",
    "@RV w_x_t_prev\n",
    "@RV m_x_t\n",
    "@RV w_x_t\n",
    "@RV a_w_t\n",
    "@RV b_w_t\n",
    "@RV m_a_t\n",
    "@RV w_a_t\n",
    "\n",
    "@RV a ~ GaussianMeanPrecision(m_a_t, w_a_t)\n",
    "@RV x_t_prev ~ GaussianMeanPrecision(m_x_t_prev, w_x_t_prev)\n",
    "@RV x_t ~ GaussianMeanPrecision(m_x_t, w_x_t)\n",
    "@RV w ~ Gamma(a_w_t, b_w_t)\n",
    "Autoregression(x_t, x_t_prev, a, w)\n",
    "\n",
    "# Placeholders for prior\n",
    "placeholder(a_w_t, :a_w_t)\n",
    "placeholder(b_w_t, :b_w_t)\n",
    "placeholder(m_a_t, :m_a_t, dims=(ARorder,))\n",
    "placeholder(w_a_t, :w_a_t, dims=(ARorder, ARorder))\n",
    "\n",
    "# Placeholder for data\n",
    "placeholder(m_x_t_prev, :m_x_t_prev, dims=(ARorder,))\n",
    "placeholder(w_x_t_prev, :w_x_t_prev, dims=(ARorder, ARorder))\n",
    "placeholder(m_x_t, :m_x_t, dims=(ARorder,))\n",
    "placeholder(w_x_t, :w_x_t, dims=(ARorder, ARorder))\n",
    "\n",
    "ForneyLab.draw(g)"
   ]
  },
  {
   "cell_type": "code",
   "execution_count": 99,
   "metadata": {},
   "outputs": [
    {
     "data": {
      "text/plain": [
       "stepW! (generic function with 3 methods)"
      ]
     },
     "execution_count": 99,
     "metadata": {},
     "output_type": "execute_result"
    }
   ],
   "source": [
    "# Specify recognition factorization\n",
    "q = RecognitionFactorization(a, w, ids=[:A, :W])\n",
    "\n",
    "# Generate the variational update algorithms for each recognition factor\n",
    "algo = variationalAlgorithm(q)\n",
    "\n",
    "# Load algorithms\n",
    "eval(Meta.parse(algo))"
   ]
  },
  {
   "cell_type": "code",
   "execution_count": 100,
   "metadata": {},
   "outputs": [],
   "source": [
    "# Define values for prior statistics\n",
    "a_w_0 = 0.1\n",
    "b_w_0 = 0.3\n",
    "m_a_0 = -5.0 .+ zeros(ARorder)\n",
    "w_a_0 = (tiny*diagAR(ARorder))\n",
    "\n",
    "# First observations\n",
    "m_x_prev_0 = x[1]\n",
    "w_x_prev_0 = (huge*diagAR(ARorder))\n",
    "m_x_0 = x[2]\n",
    "w_x_0 = (huge*diagAR(ARorder));"
   ]
  },
  {
   "cell_type": "code",
   "execution_count": 101,
   "metadata": {},
   "outputs": [],
   "source": [
    "# Storage\n",
    "m_x_prev = Vector{Vector{Float64}}(undef, length(x))\n",
    "w_x_prev = Vector{Array{Float64, 2}}(undef, length(x))\n",
    "m_x = Vector{Vector{Float64}}(undef, length(x))\n",
    "w_x = Vector{Array{Float64, 2}}(undef, length(x))\n",
    "a_w = Vector{Float64}(undef, length(x))\n",
    "b_w = Vector{Float64}(undef, length(x))\n",
    "m_a = Vector{Vector{Float64}}(undef, length(x))\n",
    "w_a = Vector{Array{Float64, 2}}(undef, length(x))\n",
    "\n",
    "# Inits\n",
    "m_x_t_prev_min = m_x_prev_0\n",
    "w_x_t_prev_min = w_x_prev_0\n",
    "m_x_t_min = m_x_0\n",
    "w_x_t_min = w_x_0\n",
    "a_w_t_min = a_w_0\n",
    "b_w_t_min = b_w_0\n",
    "m_a_t_min = m_a_0\n",
    "w_a_t_min = w_a_0;"
   ]
  },
  {
   "cell_type": "code",
   "execution_count": 102,
   "metadata": {},
   "outputs": [],
   "source": [
    "marginals = Dict()\n",
    "n_its = 10\n",
    "testSize = 20 # Number of points for test set\n",
    "trainSize = length(x) - testSize\n",
    "MSEs = []; # Storage for MSE for test set\n",
    "\n",
    "# Storage for predictions\n",
    "predictions = []\n",
    "aCov = []\n",
    "aMean = []\n",
    "wVar = []\n",
    "actual = [x[1] for x in x][trainSize:end];"
   ]
  },
  {
   "cell_type": "code",
   "execution_count": 103,
   "metadata": {},
   "outputs": [
    {
     "name": "stderr",
     "output_type": "stream",
     "text": [
      "\u001b[32mObserved 100%|██████████████████████████████████████████| Time: 0:00:11\u001b[39m\n"
     ]
    }
   ],
   "source": [
    "p = Progress(trainSize, 1, \"Observed \")\n",
    "for t = 2:trainSize\n",
    "    update!(p, t)\n",
    "    marginals[:a] = ProbabilityDistribution(Multivariate, GaussianMeanPrecision, m=m_a_t_min, w=w_a_t_min)\n",
    "    marginals[:x_t_prev] = ProbabilityDistribution(Multivariate, GaussianMeanPrecision, m=m_x_t_prev_min, w=w_x_t_prev_min)\n",
    "    marginals[:x_t] = ProbabilityDistribution(Multivariate, GaussianMeanPrecision, m=m_x_t_min, w=w_x_t_min)\n",
    "    marginals[:w] = ProbabilityDistribution(Univariate, Gamma, a=a_w_t_min, b=b_w_t_min)\n",
    "    global m_x_t_prev_min, w_x_t_prev_min, m_x_t_min, w_x_t_min,\n",
    "           a_w_t_min, b_w_t_min, m_a_t_min, w_a_t_min\n",
    "\n",
    "    for i = 1:n_its\n",
    "        data = Dict(:m_a_t => m_a_t_min,\n",
    "            :w_a_t => w_a_t_min,\n",
    "            :m_x_t_prev => m_x_t_prev_min,\n",
    "            :w_x_t_prev => w_x_t_prev_min,\n",
    "            :m_x_t => m_x_t_min,\n",
    "            :w_x_t => w_x_t_min,\n",
    "            :a_w_t => a_w_t_min,\n",
    "            :b_w_t => b_w_t_min)\n",
    "        stepA!(data, marginals)\n",
    "        stepW!(data, marginals)\n",
    "        m_a[t] = unsafeMean(marginals[:a])\n",
    "        w_a[t] = unsafePrecision(marginals[:a])\n",
    "        m_x[t] = unsafeMean(marginals[:x_t])\n",
    "        w_x[t] = (huge*diagAR(ARorder))\n",
    "        m_x_prev[t] = unsafeMean(marginals[:x_t_prev])\n",
    "        w_x_prev[t] = (huge*diagAR(ARorder))\n",
    "        a_w[t] = marginals[:w].params[:a]\n",
    "        b_w[t] = marginals[:w].params[:b]\n",
    "        m_a_t_min = m_a[t]\n",
    "        w_a_t_min = w_a[t]\n",
    "        m_x_t_prev_min = x[t]\n",
    "        w_x_t_prev_min = w_x_prev[t]\n",
    "        m_x_t_min = x[t+1]\n",
    "        w_x_t_min = w_x[t]\n",
    "        a_w_t_min = a_w[t]\n",
    "        b_w_t_min = b_w[t]\n",
    "    end\n",
    "    \n",
    "    pred = [mean(marginals[:a])'x for x in x[trainSize-1:end-1]]\n",
    "    push!(aMean, mean(marginals[:a]))\n",
    "    push!(aCov, unsafeCov(marginals[:a]))\n",
    "    push!(wVar, mean(marginals[:w]))\n",
    "    push!(predictions, pred)\n",
    "    push!(MSEs, mse(pred, actual))\n",
    "end"
   ]
  },
  {
   "cell_type": "code",
   "execution_count": 106,
   "metadata": {},
   "outputs": [
    {
     "data": {
      "image/svg+xml": [
       "<?xml version=\"1.0\" encoding=\"utf-8\"?>\n",
       "<svg xmlns=\"http://www.w3.org/2000/svg\" xmlns:xlink=\"http://www.w3.org/1999/xlink\" width=\"600\" height=\"400\" viewBox=\"0 0 2400 1600\">\n",
       "<defs>\n",
       "  <clipPath id=\"clip8300\">\n",
       "    <rect x=\"0\" y=\"0\" width=\"2000\" height=\"2000\"/>\n",
       "  </clipPath>\n",
       "</defs>\n",
       "<defs>\n",
       "  <clipPath id=\"clip8301\">\n",
       "    <rect x=\"0\" y=\"0\" width=\"2400\" height=\"1600\"/>\n",
       "  </clipPath>\n",
       "</defs>\n",
       "<polygon clip-path=\"url(#clip8301)\" points=\"\n",
       "0,1600 2400,1600 2400,0 0,0 \n",
       "  \" fill=\"#ffffff\" fill-rule=\"evenodd\" fill-opacity=\"1\"/>\n",
       "<defs>\n",
       "  <clipPath id=\"clip8302\">\n",
       "    <rect x=\"480\" y=\"0\" width=\"1681\" height=\"1600\"/>\n",
       "  </clipPath>\n",
       "</defs>\n",
       "<polygon clip-path=\"url(#clip8301)\" points=\"\n",
       "237.767,1440.48 2321.26,1440.48 2321.26,125.984 237.767,125.984 \n",
       "  \" fill=\"#ffffff\" fill-rule=\"evenodd\" fill-opacity=\"1\"/>\n",
       "<defs>\n",
       "  <clipPath id=\"clip8303\">\n",
       "    <rect x=\"237\" y=\"125\" width=\"2084\" height=\"1315\"/>\n",
       "  </clipPath>\n",
       "</defs>\n",
       "<polyline clip-path=\"url(#clip8303)\" style=\"stroke:#000000; stroke-width:2; stroke-opacity:0.1; fill:none\" points=\"\n",
       "  276.88,1440.48 276.88,125.984 \n",
       "  \"/>\n",
       "<polyline clip-path=\"url(#clip8303)\" style=\"stroke:#000000; stroke-width:2; stroke-opacity:0.1; fill:none\" points=\"\n",
       "  773.233,1440.48 773.233,125.984 \n",
       "  \"/>\n",
       "<polyline clip-path=\"url(#clip8303)\" style=\"stroke:#000000; stroke-width:2; stroke-opacity:0.1; fill:none\" points=\"\n",
       "  1269.59,1440.48 1269.59,125.984 \n",
       "  \"/>\n",
       "<polyline clip-path=\"url(#clip8303)\" style=\"stroke:#000000; stroke-width:2; stroke-opacity:0.1; fill:none\" points=\"\n",
       "  1765.94,1440.48 1765.94,125.984 \n",
       "  \"/>\n",
       "<polyline clip-path=\"url(#clip8303)\" style=\"stroke:#000000; stroke-width:2; stroke-opacity:0.1; fill:none\" points=\"\n",
       "  2262.29,1440.48 2262.29,125.984 \n",
       "  \"/>\n",
       "<polyline clip-path=\"url(#clip8303)\" style=\"stroke:#000000; stroke-width:2; stroke-opacity:0.1; fill:none\" points=\"\n",
       "  237.767,1414.38 2321.26,1414.38 \n",
       "  \"/>\n",
       "<polyline clip-path=\"url(#clip8303)\" style=\"stroke:#000000; stroke-width:2; stroke-opacity:0.1; fill:none\" points=\"\n",
       "  237.767,1141.7 2321.26,1141.7 \n",
       "  \"/>\n",
       "<polyline clip-path=\"url(#clip8303)\" style=\"stroke:#000000; stroke-width:2; stroke-opacity:0.1; fill:none\" points=\"\n",
       "  237.767,869.024 2321.26,869.024 \n",
       "  \"/>\n",
       "<polyline clip-path=\"url(#clip8303)\" style=\"stroke:#000000; stroke-width:2; stroke-opacity:0.1; fill:none\" points=\"\n",
       "  237.767,596.345 2321.26,596.345 \n",
       "  \"/>\n",
       "<polyline clip-path=\"url(#clip8303)\" style=\"stroke:#000000; stroke-width:2; stroke-opacity:0.1; fill:none\" points=\"\n",
       "  237.767,323.665 2321.26,323.665 \n",
       "  \"/>\n",
       "<polyline clip-path=\"url(#clip8301)\" style=\"stroke:#000000; stroke-width:4; stroke-opacity:1; fill:none\" points=\"\n",
       "  237.767,1440.48 2321.26,1440.48 \n",
       "  \"/>\n",
       "<polyline clip-path=\"url(#clip8301)\" style=\"stroke:#000000; stroke-width:4; stroke-opacity:1; fill:none\" points=\"\n",
       "  237.767,1440.48 237.767,125.984 \n",
       "  \"/>\n",
       "<polyline clip-path=\"url(#clip8301)\" style=\"stroke:#000000; stroke-width:4; stroke-opacity:1; fill:none\" points=\"\n",
       "  276.88,1440.48 276.88,1420.77 \n",
       "  \"/>\n",
       "<polyline clip-path=\"url(#clip8301)\" style=\"stroke:#000000; stroke-width:4; stroke-opacity:1; fill:none\" points=\"\n",
       "  773.233,1440.48 773.233,1420.77 \n",
       "  \"/>\n",
       "<polyline clip-path=\"url(#clip8301)\" style=\"stroke:#000000; stroke-width:4; stroke-opacity:1; fill:none\" points=\"\n",
       "  1269.59,1440.48 1269.59,1420.77 \n",
       "  \"/>\n",
       "<polyline clip-path=\"url(#clip8301)\" style=\"stroke:#000000; stroke-width:4; stroke-opacity:1; fill:none\" points=\"\n",
       "  1765.94,1440.48 1765.94,1420.77 \n",
       "  \"/>\n",
       "<polyline clip-path=\"url(#clip8301)\" style=\"stroke:#000000; stroke-width:4; stroke-opacity:1; fill:none\" points=\"\n",
       "  2262.29,1440.48 2262.29,1420.77 \n",
       "  \"/>\n",
       "<polyline clip-path=\"url(#clip8301)\" style=\"stroke:#000000; stroke-width:4; stroke-opacity:1; fill:none\" points=\"\n",
       "  237.767,1414.38 269.02,1414.38 \n",
       "  \"/>\n",
       "<polyline clip-path=\"url(#clip8301)\" style=\"stroke:#000000; stroke-width:4; stroke-opacity:1; fill:none\" points=\"\n",
       "  237.767,1141.7 269.02,1141.7 \n",
       "  \"/>\n",
       "<polyline clip-path=\"url(#clip8301)\" style=\"stroke:#000000; stroke-width:4; stroke-opacity:1; fill:none\" points=\"\n",
       "  237.767,869.024 269.02,869.024 \n",
       "  \"/>\n",
       "<polyline clip-path=\"url(#clip8301)\" style=\"stroke:#000000; stroke-width:4; stroke-opacity:1; fill:none\" points=\"\n",
       "  237.767,596.345 269.02,596.345 \n",
       "  \"/>\n",
       "<polyline clip-path=\"url(#clip8301)\" style=\"stroke:#000000; stroke-width:4; stroke-opacity:1; fill:none\" points=\"\n",
       "  237.767,323.665 269.02,323.665 \n",
       "  \"/>\n",
       "<g clip-path=\"url(#clip8301)\">\n",
       "<text style=\"fill:#000000; fill-opacity:1; font-family:Arial,Helvetica Neue,Helvetica,sans-serif; font-size:48px; text-anchor:middle;\" transform=\"rotate(0, 276.88, 1494.48)\" x=\"276.88\" y=\"1494.48\">0</text>\n",
       "</g>\n",
       "<g clip-path=\"url(#clip8301)\">\n",
       "<text style=\"fill:#000000; fill-opacity:1; font-family:Arial,Helvetica Neue,Helvetica,sans-serif; font-size:48px; text-anchor:middle;\" transform=\"rotate(0, 773.233, 1494.48)\" x=\"773.233\" y=\"1494.48\">25</text>\n",
       "</g>\n",
       "<g clip-path=\"url(#clip8301)\">\n",
       "<text style=\"fill:#000000; fill-opacity:1; font-family:Arial,Helvetica Neue,Helvetica,sans-serif; font-size:48px; text-anchor:middle;\" transform=\"rotate(0, 1269.59, 1494.48)\" x=\"1269.59\" y=\"1494.48\">50</text>\n",
       "</g>\n",
       "<g clip-path=\"url(#clip8301)\">\n",
       "<text style=\"fill:#000000; fill-opacity:1; font-family:Arial,Helvetica Neue,Helvetica,sans-serif; font-size:48px; text-anchor:middle;\" transform=\"rotate(0, 1765.94, 1494.48)\" x=\"1765.94\" y=\"1494.48\">75</text>\n",
       "</g>\n",
       "<g clip-path=\"url(#clip8301)\">\n",
       "<text style=\"fill:#000000; fill-opacity:1; font-family:Arial,Helvetica Neue,Helvetica,sans-serif; font-size:48px; text-anchor:middle;\" transform=\"rotate(0, 2262.29, 1494.48)\" x=\"2262.29\" y=\"1494.48\">100</text>\n",
       "</g>\n",
       "<g clip-path=\"url(#clip8301)\">\n",
       "<text style=\"fill:#000000; fill-opacity:1; font-family:Arial,Helvetica Neue,Helvetica,sans-serif; font-size:48px; text-anchor:end;\" transform=\"rotate(0, 213.767, 1431.88)\" x=\"213.767\" y=\"1431.88\">0</text>\n",
       "</g>\n",
       "<g clip-path=\"url(#clip8301)\">\n",
       "<text style=\"fill:#000000; fill-opacity:1; font-family:Arial,Helvetica Neue,Helvetica,sans-serif; font-size:48px; text-anchor:end;\" transform=\"rotate(0, 213.767, 1159.2)\" x=\"213.767\" y=\"1159.2\">25</text>\n",
       "</g>\n",
       "<g clip-path=\"url(#clip8301)\">\n",
       "<text style=\"fill:#000000; fill-opacity:1; font-family:Arial,Helvetica Neue,Helvetica,sans-serif; font-size:48px; text-anchor:end;\" transform=\"rotate(0, 213.767, 886.524)\" x=\"213.767\" y=\"886.524\">50</text>\n",
       "</g>\n",
       "<g clip-path=\"url(#clip8301)\">\n",
       "<text style=\"fill:#000000; fill-opacity:1; font-family:Arial,Helvetica Neue,Helvetica,sans-serif; font-size:48px; text-anchor:end;\" transform=\"rotate(0, 213.767, 613.845)\" x=\"213.767\" y=\"613.845\">75</text>\n",
       "</g>\n",
       "<g clip-path=\"url(#clip8301)\">\n",
       "<text style=\"fill:#000000; fill-opacity:1; font-family:Arial,Helvetica Neue,Helvetica,sans-serif; font-size:48px; text-anchor:end;\" transform=\"rotate(0, 213.767, 341.165)\" x=\"213.767\" y=\"341.165\">100</text>\n",
       "</g>\n",
       "<g clip-path=\"url(#clip8301)\">\n",
       "<text style=\"fill:#000000; fill-opacity:1; font-family:Arial,Helvetica Neue,Helvetica,sans-serif; font-size:84px; text-anchor:middle;\" transform=\"rotate(0, 1279.51, 73.2)\" x=\"1279.51\" y=\"73.2\">mean squared error</text>\n",
       "</g>\n",
       "<g clip-path=\"url(#clip8301)\">\n",
       "<text style=\"fill:#000000; fill-opacity:1; font-family:Arial,Helvetica Neue,Helvetica,sans-serif; font-size:66px; text-anchor:middle;\" transform=\"rotate(0, 1279.51, 1590.4)\" x=\"1279.51\" y=\"1590.4\">observations</text>\n",
       "</g>\n",
       "<g clip-path=\"url(#clip8301)\">\n",
       "<text style=\"fill:#000000; fill-opacity:1; font-family:Arial,Helvetica Neue,Helvetica,sans-serif; font-size:66px; text-anchor:middle;\" transform=\"rotate(-90, 57.6, 783.233)\" x=\"57.6\" y=\"783.233\">MSE</text>\n",
       "</g>\n",
       "<polyline clip-path=\"url(#clip8303)\" style=\"stroke:#009af9; stroke-width:4; stroke-opacity:1; fill:none\" points=\"\n",
       "  296.734,1394.71 316.588,163.187 336.442,1379.12 356.296,1395.52 376.151,1390.6 396.005,1394.95 415.859,1396.57 435.713,1399.04 455.567,1400.29 475.421,1401.22 \n",
       "  495.275,1401.1 515.13,1399.63 534.984,1401.36 554.838,1401.09 574.692,1401.76 594.546,1401.67 614.4,1401.74 634.254,1401.63 654.108,1403.07 673.963,1402.12 \n",
       "  693.817,1401.78 713.671,1402.01 733.525,1402 753.379,1401.68 773.233,1402.81 793.087,1402.91 812.942,1402.9 832.796,1402.86 852.65,1403.28 872.504,1403.01 \n",
       "  892.358,1402.99 912.212,1403.1 932.066,1403.09 951.92,1403.07 971.775,1403.08 991.629,1403.06 1011.48,1402.96 1031.34,1402.93 1051.19,1402.93 1071.05,1402.84 \n",
       "  1090.9,1402.92 1110.75,1402.74 1130.61,1402.81 1150.46,1402.81 1170.32,1403.08 1190.17,1403.06 1210.02,1403.06 1229.88,1403.01 1249.73,1403.05 1269.59,1403.02 \n",
       "  1289.44,1402.86 1309.29,1402.78 1329.15,1402.77 1349,1402.74 1368.86,1402.69 1388.71,1402.73 1408.57,1402.84 1428.42,1402.79 1448.27,1402.58 1468.13,1402.64 \n",
       "  1487.98,1402.8 1507.84,1402.8 1527.69,1402.85 1547.54,1402.86 1567.4,1402.85 1587.25,1402.84 1607.11,1402.63 1626.96,1402.3 1646.82,1402.29 1666.67,1402.34 \n",
       "  1686.52,1402.25 1706.38,1402.14 1726.23,1402.12 1746.09,1402.17 1765.94,1402.28 1785.79,1402.55 1805.65,1402.6 1825.5,1402.6 1845.36,1402.57 1865.21,1402.56 \n",
       "  1885.06,1402.56 1904.92,1402.58 1924.77,1402.6 1944.63,1402.55 1964.48,1402.56 1984.34,1402.58 2004.19,1402.58 2024.04,1402.65 2043.9,1402.54 2063.75,1402.55 \n",
       "  2083.61,1402.54 2103.46,1402.62 2123.31,1402.62 2143.17,1402.58 2163.02,1402.55 2182.88,1402.6 2202.73,1402.29 2222.58,1402.25 2242.44,1402.25 2262.29,1402.16 \n",
       "  \n",
       "  \"/>\n",
       "</svg>\n"
      ]
     },
     "execution_count": 106,
     "metadata": {},
     "output_type": "execute_result"
    }
   ],
   "source": [
    "using Plots; theme(:default)\n",
    "plot(MSEs[1:100], title=\"mean squared error\", xlabel=\"observations\", ylabel=\"MSE\", legend=false)"
   ]
  },
  {
   "cell_type": "code",
   "execution_count": 107,
   "metadata": {},
   "outputs": [
    {
     "name": "stderr",
     "output_type": "stream",
     "text": [
      "┌ Info: Saved animation to \n",
      "│   fn = /Users/albertpod/Documents/Julia/VariationalBayes/gifs/AR-online.gif\n",
      "└ @ Plots /Users/albertpod/.julia/packages/Plots/gylTh/src/animation.jl:90\n"
     ]
    },
    {
     "data": {
      "text/html": [
       "<img src=\"../gifs/AR-online.gif\" />"
      ],
      "text/plain": [
       "Plots.AnimatedGif(\"/Users/albertpod/Documents/Julia/VariationalBayes/gifs/AR-online.gif\")"
      ]
     },
     "execution_count": 107,
     "metadata": {},
     "output_type": "execute_result"
    }
   ],
   "source": [
    "# Plotting predictions\n",
    "anim = @animate for i in 1:100:length(predictions)\n",
    "    s = plot();\n",
    "    ylims!(minimum(actual) - .1, maximum(actual) + .1);\n",
    "    predicted = predictions[i]\n",
    "    plot!(actual, title = \"unforeseen data\", xlabel=\"time\", ylabel=\"value\", label=\"actual\")\n",
    "    plot!(predicted, label=\"predicted\")\n",
    "end\n",
    "gif(anim, \"../gifs/AR-online.gif\", fps = 10)"
   ]
  },
  {
   "cell_type": "code",
   "execution_count": 88,
   "metadata": {},
   "outputs": [
    {
     "name": "stderr",
     "output_type": "stream",
     "text": [
      "┌ Warning: `pdf(d::UnivariateDistribution, X::AbstractArray)` is deprecated, use `pdf.(d, X)` instead.\n",
      "│   caller = macro expansion at In[88]:11 [inlined]\n",
      "└ @ Core ./In[88]:11\n",
      "┌ Warning: `pdf(d::UnivariateDistribution, X::AbstractArray)` is deprecated, use `pdf.(d, X)` instead.\n",
      "│   caller = macro expansion at In[88]:12 [inlined]\n",
      "└ @ Core ./In[88]:12\n",
      "┌ Info: Saved animation to \n",
      "│   fn = /Users/albertpod/Documents/Julia/VariationalBayes/gifs/AR-weights.gif\n",
      "└ @ Plots /Users/albertpod/.julia/packages/Plots/gylTh/src/animation.jl:90\n"
     ]
    },
    {
     "data": {
      "text/html": [
       "<img src=\"../gifs/AR-weights.gif\" />"
      ],
      "text/plain": [
       "Plots.AnimatedGif(\"/Users/albertpod/Documents/Julia/VariationalBayes/gifs/AR-weights.gif\")"
      ]
     },
     "execution_count": 88,
     "metadata": {},
     "output_type": "execute_result"
    }
   ],
   "source": [
    "# Noise precision estimation\n",
    "using Distributions\n",
    "prior = Distributions.Gamma(a_w_0, 1/b_w_0)\n",
    "\n",
    "anim = @animate for i in 1:100:length(a_w)\n",
    "    s = plot();\n",
    "    if a_w[i] <= 0 || b_w[i] <= 0\n",
    "        continue\n",
    "    end\n",
    "    posterior = Distributions.Gamma(a_w[i], 1/b_w[i])\n",
    "    plot!(pdf(prior,0:0.1:10), label=\"prior\")\n",
    "    plot!(pdf(posterior,0:0.1:10), label=\"posterior\")\n",
    "end\n",
    "gif(anim, \"../gifs/AR-gamma.gif\", fps = 10)"
   ]
  },
  {
   "cell_type": "code",
   "execution_count": null,
   "metadata": {},
   "outputs": [],
   "source": [
    "println(\"Δnoise(process, inferred)=\", abs(p_noise_var - mean(marginals[:w])^-1))"
   ]
  },
  {
   "cell_type": "code",
   "execution_count": 91,
   "metadata": {},
   "outputs": [
    {
     "data": {
      "text/plain": [
       "0.995049879379294"
      ]
     },
     "execution_count": 91,
     "metadata": {},
     "output_type": "execute_result"
    }
   ],
   "source": [
    "# For plotting contours\n",
    "using LinearAlgebra; \n",
    " # use pyplot backend and define some defaults\n",
    "\n",
    "len = 64\n",
    "\n",
    "# Definition of the bivariate gaussian using a covariance matrix\n",
    "𝓝(x, μ, Σ) = 1/((2 * π)^(length(μ)/2) * det(Σ)^(1/2)) * exp(-(1/2) * (x-μ)' * Σ^(-1) * (x-μ));"
   ]
  },
  {
   "cell_type": "code",
   "execution_count": 95,
   "metadata": {},
   "outputs": [
    {
     "name": "stderr",
     "output_type": "stream",
     "text": [
      "┌ Info: Saved animation to \n",
      "│   fn = /Users/albertpod/Documents/Julia/VariationalBayes/gifs/AR-coefs.gif\n",
      "└ @ Plots /Users/albertpod/.julia/packages/Plots/gylTh/src/animation.jl:90\n"
     ]
    },
    {
     "data": {
      "text/html": [
       "<img src=\"../gifs/AR-coefs.gif\" />"
      ],
      "text/plain": [
       "Plots.AnimatedGif(\"/Users/albertpod/Documents/Julia/VariationalBayes/gifs/AR-coefs.gif\")"
      ]
     },
     "execution_count": 95,
     "metadata": {},
     "output_type": "execute_result"
    }
   ],
   "source": [
    "# !!! ONLY FOR AR(2)\n",
    "\n",
    "# Plotting AR coefs\n",
    "anim = @animate for i in 1:100:length(m_a)\n",
    "    if !isassigned(m_a, i)\n",
    "        continue\n",
    "    end\n",
    "    s = plot();\n",
    "    plot!([m_a_0[1]],[m_a_0[2]], seriestype=:scatter, title = \"AR coefs\", label=\"prior\")\n",
    "    plot!([coefs[1]],[coefs[2]], seriestype=:scatter, label=\"true\")\n",
    "    plot!([m_a[i][1]],[m_a[i][2]], seriestype=:scatter, label=\"posterior\")\n",
    "    # get the maximum σ (used to construct the x and y ranges)\n",
    "    σ_max = sqrt((w_a[i][1]^-1 > w_a[i][4]^-1 ) ? w_a[i][1]^-1 : w_a[i][4]^-1)\n",
    "\n",
    "    rx = range(m_a[i][1]-3*σ_max, m_a[i][1]+3*σ_max, length=len)\n",
    "    ry = range(m_a[i][2]-3*σ_max, m_a[i][2]+3*σ_max, length=len)\n",
    "    contour!(rx, ry, (x1, x2) -> 𝓝([x1 ; x2], m_a[i], w_a[i]^-1), xlabel=\"a1\", ylabel=\"a2\")\n",
    "end\n",
    "gif(anim, \"../gifs/AR-coefs.gif\", fps = 10)"
   ]
  }
 ],
 "metadata": {
  "kernelspec": {
   "display_name": "Julia 1.1.0",
   "language": "julia",
   "name": "julia-1.1"
  },
  "language_info": {
   "file_extension": ".jl",
   "mimetype": "application/julia",
   "name": "julia",
   "version": "1.1.0"
  }
 },
 "nbformat": 4,
 "nbformat_minor": 2
}
