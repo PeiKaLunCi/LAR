{
 "cells": [
  {
   "cell_type": "markdown",
   "metadata": {},
   "source": [
    "# Online learning of AR(p) coefficients\n",
    "$$p(\\mathbf{x}_n\\,|\\,\\mathbf{x}_{n-1},\\mathbf{a},\\gamma) = \\mathcal{N}\\left(\\mathbf{x}_n \\;\\middle|\\; \\mathbf{A}\\mathbf{x}_{n-1}, \\mathbf{I}\\gamma^{-1} \\right)$$\n",
    "where\n",
    "\\begin{align*}\n",
    "    &\\mathbf{x}_n = (x_n, x_{n-1}, \\dots, x_{n-p+1})^\\text{T} \\quad \\mathbf{x}_{n-1} = (x_{n-1}, x_{n-2}, \\dots, x_{n-p})^\\text{T} \n",
    "    \\\\ \\\\\n",
    "    &\\mathbf{A} = \n",
    "    \\begin{bmatrix}\n",
    "        a_1 & a_2 & a_3 & \\dots & a_p \\\\\n",
    "        1 & 0 & 0 & \\dots & 0 \\\\ \n",
    "        0 & 1 & 0 & \\dots & 0 \\\\   \n",
    "        \\vdots & \\vdots & \\vdots & \\ddots & \\vdots \\\\\n",
    "        0 & 0 & 0 & \\dots & 0\n",
    "    \\end{bmatrix}\n",
    "    =\n",
    "    \\begin{bmatrix}\n",
    "         \\mathbf{a}^\\text{T} \\\\\n",
    "         \\mathbf{I}_{p-1} \\quad \\mathbf{0}\n",
    "    \\end{bmatrix}\n",
    "    \\\\ \\\\\n",
    "    &\\mathbf{I} = \\mathbf{I}_p = \n",
    "    \\begin{bmatrix}\n",
    "        1 & 0 & 0 & \\dots & 0 \\\\ \n",
    "        0 & 1 & 0 & \\dots & 0 \\\\   \n",
    "        \\vdots & \\vdots & \\vdots & \\ddots & \\vdots \\\\\n",
    "        0 & 0 & 0 & \\dots & 1\n",
    "    \\end{bmatrix}\n",
    "\\end{align*}"
   ]
  },
  {
   "cell_type": "code",
   "execution_count": 1,
   "metadata": {},
   "outputs": [
    {
     "name": "stderr",
     "output_type": "stream",
     "text": [
      "┌ Info: Precompiling Images [916415d5-f1e6-5110-898d-aaa5f9f070e0]\n",
      "└ @ Base loading.jl:1186\n",
      "┌ Info: Precompiling QuartzImageIO [dca85d43-d64c-5e67-8c65-017450d5d020]\n",
      "└ @ Base loading.jl:1186\n"
     ]
    },
    {
     "data": {
      "image/png": "[encoded data removed]",
      "text/plain": [
       "421×412 Array{RGBA{N0f8},2} with eltype RGBA{Normed{UInt8,8}}:\n",
       " RGBA{N0f8}(1.0,1.0,1.0,1.0)  …  RGBA{N0f8}(1.0,1.0,1.0,1.0)\n",
       " RGBA{N0f8}(1.0,1.0,1.0,1.0)     RGBA{N0f8}(1.0,1.0,1.0,1.0)\n",
       " RGBA{N0f8}(1.0,1.0,1.0,1.0)     RGBA{N0f8}(1.0,1.0,1.0,1.0)\n",
       " RGBA{N0f8}(1.0,1.0,1.0,1.0)     RGBA{N0f8}(1.0,1.0,1.0,1.0)\n",
       " RGBA{N0f8}(1.0,1.0,1.0,1.0)     RGBA{N0f8}(1.0,1.0,1.0,1.0)\n",
       " RGBA{N0f8}(1.0,1.0,1.0,1.0)  …  RGBA{N0f8}(1.0,1.0,1.0,1.0)\n",
       " RGBA{N0f8}(1.0,1.0,1.0,1.0)     RGBA{N0f8}(1.0,1.0,1.0,1.0)\n",
       " RGBA{N0f8}(1.0,1.0,1.0,1.0)     RGBA{N0f8}(1.0,1.0,1.0,1.0)\n",
       " RGBA{N0f8}(1.0,1.0,1.0,1.0)     RGBA{N0f8}(1.0,1.0,1.0,1.0)\n",
       " RGBA{N0f8}(1.0,1.0,1.0,1.0)     RGBA{N0f8}(1.0,1.0,1.0,1.0)\n",
       " RGBA{N0f8}(1.0,1.0,1.0,1.0)  …  RGBA{N0f8}(1.0,1.0,1.0,1.0)\n",
       " RGBA{N0f8}(1.0,1.0,1.0,1.0)     RGBA{N0f8}(1.0,1.0,1.0,1.0)\n",
       " RGBA{N0f8}(1.0,1.0,1.0,1.0)     RGBA{N0f8}(1.0,1.0,1.0,1.0)\n",
       " ⋮                            ⋱                             \n",
       " RGBA{N0f8}(1.0,1.0,1.0,1.0)     RGBA{N0f8}(1.0,1.0,1.0,1.0)\n",
       " RGBA{N0f8}(1.0,1.0,1.0,1.0)  …  RGBA{N0f8}(1.0,1.0,1.0,1.0)\n",
       " RGBA{N0f8}(1.0,1.0,1.0,1.0)     RGBA{N0f8}(1.0,1.0,1.0,1.0)\n",
       " RGBA{N0f8}(1.0,1.0,1.0,1.0)     RGBA{N0f8}(1.0,1.0,1.0,1.0)\n",
       " RGBA{N0f8}(1.0,1.0,1.0,1.0)     RGBA{N0f8}(1.0,1.0,1.0,1.0)\n",
       " RGBA{N0f8}(1.0,1.0,1.0,1.0)     RGBA{N0f8}(1.0,1.0,1.0,1.0)\n",
       " RGBA{N0f8}(1.0,1.0,1.0,1.0)  …  RGBA{N0f8}(1.0,1.0,1.0,1.0)\n",
       " RGBA{N0f8}(1.0,1.0,1.0,1.0)     RGBA{N0f8}(1.0,1.0,1.0,1.0)\n",
       " RGBA{N0f8}(1.0,1.0,1.0,1.0)     RGBA{N0f8}(1.0,1.0,1.0,1.0)\n",
       " RGBA{N0f8}(1.0,1.0,1.0,1.0)     RGBA{N0f8}(1.0,1.0,1.0,1.0)\n",
       " RGBA{N0f8}(1.0,1.0,1.0,1.0)     RGBA{N0f8}(1.0,1.0,1.0,1.0)\n",
       " RGBA{N0f8}(1.0,1.0,1.0,1.0)  …  RGBA{N0f8}(1.0,1.0,1.0,1.0)"
      ]
     },
     "execution_count": 1,
     "metadata": {},
     "output_type": "execute_result"
    }
   ],
   "source": [
    "using Images\n",
    "img = load(\"../ffgs/AR-online.png\")"
   ]
  },
  {
   "cell_type": "markdown",
   "metadata": {},
   "source": [
    "We are interested in a joint estimation of the AR coefficients $\\mathbf{a}$, the precision  of the driving noise $\\gamma$"
   ]
  },
  {
   "cell_type": "code",
   "execution_count": 21,
   "metadata": {},
   "outputs": [
    {
     "name": "stderr",
     "output_type": "stream",
     "text": [
      "WARNING: replacing module ARdata.\n",
      "WARNING: ignoring conflicting import of ARdata.use_data into Main\n",
      "WARNING: ignoring conflicting import of ARdata.generate_data into Main\n"
     ]
    }
   ],
   "source": [
    "using ProgressMeter\n",
    "using Revise\n",
    "using ForneyLab\n",
    "include(\"../AR-node/autoregression.jl\")\n",
    "include(\"../AR-node/rules_prototypes.jl\")\n",
    "include(\"../AR-node/vmp_rules.jl\")\n",
    "# helpers for evaluation of the model\n",
    "include(\"../helpers/functions.jl\")\n",
    "# module to generate data for AR\n",
    "include(\"../data/ARdata.jl\")\n",
    "import Main.ARdata: use_data, generate_data\n",
    "import LinearAlgebra.I, LinearAlgebra.Symmetric\n",
    "import ForneyLab: unsafeCov, unsafeMean, unsafePrecision"
   ]
  },
  {
   "cell_type": "code",
   "execution_count": 25,
   "metadata": {},
   "outputs": [
    {
     "data": {
      "text/plain": [
       "([-0.21984, 0.100983, -0.00889062, -0.204999, 0.0289466, 0.152255, -0.699689, -0.267148, 0.179456, 0.184912], Array{Float64,1}[[-1.82372, 1.6479, 4.27504, -1.28628, 0.403537, -1.18262, 1.16409, 0.860451, -0.792213, -2.7596], [-2.02783, -1.82372, 1.6479, 4.27504, -1.28628, 0.403537, -1.18262, 1.16409, 0.860451, -0.792213], [1.24448, -2.02783, -1.82372, 1.6479, 4.27504, -1.28628, 0.403537, -1.18262, 1.16409, 0.860451], [-0.78064, 1.24448, -2.02783, -1.82372, 1.6479, 4.27504, -1.28628, 0.403537, -1.18262, 1.16409], [1.95979, -0.78064, 1.24448, -2.02783, -1.82372, 1.6479, 4.27504, -1.28628, 0.403537, -1.18262], [-1.49795, 1.95979, -0.78064, 1.24448, -2.02783, -1.82372, 1.6479, 4.27504, -1.28628, 0.403537], [-2.28286, -1.49795, 1.95979, -0.78064, 1.24448, -2.02783, -1.82372, 1.6479, 4.27504, -1.28628], [2.04315, -2.28286, -1.49795, 1.95979, -0.78064, 1.24448, -2.02783, -1.82372, 1.6479, 4.27504], [2.49374, 2.04315, -2.28286, -1.49795, 1.95979, -0.78064, 1.24448, -2.02783, -1.82372, 1.6479], [0.210207, 2.49374, 2.04315, -2.28286, -1.49795, 1.95979, -0.78064, 1.24448, -2.02783, -1.82372]  …  [-1.2747, -0.532101, 0.750473, -0.0323712, -1.5643, -0.989048, 2.40067, 2.43093, 1.74717, -0.666855], [-1.79545, -1.2747, -0.532101, 0.750473, -0.0323712, -1.5643, -0.989048, 2.40067, 2.43093, 1.74717], [0.946705, -1.79545, -1.2747, -0.532101, 0.750473, -0.0323712, -1.5643, -0.989048, 2.40067, 2.43093], [0.776921, 0.946705, -1.79545, -1.2747, -0.532101, 0.750473, -0.0323712, -1.5643, -0.989048, 2.40067], [0.69928, 0.776921, 0.946705, -1.79545, -1.2747, -0.532101, 0.750473, -0.0323712, -1.5643, -0.989048], [-2.42383, 0.69928, 0.776921, 0.946705, -1.79545, -1.2747, -0.532101, 0.750473, -0.0323712, -1.5643], [0.147367, -2.42383, 0.69928, 0.776921, 0.946705, -1.79545, -1.2747, -0.532101, 0.750473, -0.0323712], [2.73306, 0.147367, -2.42383, 0.69928, 0.776921, 0.946705, -1.79545, -1.2747, -0.532101, 0.750473], [0.101048, 2.73306, 0.147367, -2.42383, 0.69928, 0.776921, 0.946705, -1.79545, -1.2747, -0.532101], [1.30741, 0.101048, 2.73306, 0.147367, -2.42383, 0.69928, 0.776921, 0.946705, -1.79545, -1.2747]])"
      ]
     },
     "execution_count": 25,
     "metadata": {},
     "output_type": "execute_result"
    }
   ],
   "source": [
    "ARorder = 10 # order of AR model\n",
    "diagAR(dim) = Matrix{Float64}(I, dim, dim)\n",
    "x = []\n",
    "# Coefs and Observations\n",
    "p_noise_var = 1.0\n",
    "coefs, x = generate_data(1000, ARorder, 1, noise_variance=p_noise_var)"
   ]
  },
  {
   "cell_type": "code",
   "execution_count": 26,
   "metadata": {},
   "outputs": [
    {
     "data": {
      "text/html": [
       "<?xml version=\"1.0\" encoding=\"UTF-8\" standalone=\"no\"?>\n",
       "<!DOCTYPE svg PUBLIC \"-//W3C//DTD SVG 1.1//EN\"\n",
       " \"http://www.w3.org/Graphics/SVG/1.1/DTD/svg11.dtd\">\n",
       "<!-- Generated by graphviz version 2.40.1 (20161225.0304)\n",
       " -->\n",
       "<!-- Title: G Pages: 1 -->\n",
       "<svg width=\"1900pt\" height=\"196pt\"\n",
       " viewBox=\"0.00 0.00 1900.47 196.00\" xmlns=\"http://www.w3.org/2000/svg\" xmlns:xlink=\"http://www.w3.org/1999/xlink\">\n",
       "<g id=\"graph0\" class=\"graph\" transform=\"scale(1 1) rotate(0) translate(4 192)\">\n",
       "<title>G</title>\n",
       "<polygon fill=\"#ffffff\" stroke=\"transparent\" points=\"-4,4 -4,-192 1896.4729,-192 1896.4729,4 -4,4\"/>\n",
       "<!-- 1299156548023787014 -->\n",
       "<g id=\"node1\" class=\"node\">\n",
       "<title>1299156548023787014</title>\n",
       "<polygon fill=\"none\" stroke=\"#000000\" points=\"328.4598,-72 219.5095,-72 219.5095,0 328.4598,0 328.4598,-72\"/>\n",
       "<text text-anchor=\"middle\" x=\"273.9846\" y=\"-40.095\" font-family=\"Times,serif\" font-size=\"9.00\" fill=\"#000000\">𝒩</text>\n",
       "<text text-anchor=\"middle\" x=\"273.9846\" y=\"-26.505\" font-family=\"Times,serif\" font-size=\"9.00\" fill=\"#000000\">gaussianmeanprecision_2</text>\n",
       "</g>\n",
       "<!-- 5684441983335510782 -->\n",
       "<g id=\"node2\" class=\"node\">\n",
       "<title>5684441983335510782</title>\n",
       "<polygon fill=\"#d3d3d3\" stroke=\"#000000\" points=\"1692.9635,-179 1607.0057,-179 1607.0057,-125 1692.9635,-125 1692.9635,-179\"/>\n",
       "<text text-anchor=\"middle\" x=\"1649.9846\" y=\"-149.3\" font-family=\"Times,serif\" font-size=\"9.00\" fill=\"#000000\">placeholder_m_x_t</text>\n",
       "</g>\n",
       "<!-- 15719350341563803652 -->\n",
       "<g id=\"node13\" class=\"node\">\n",
       "<title>15719350341563803652</title>\n",
       "<polygon fill=\"none\" stroke=\"#000000\" points=\"1704.4598,-72 1595.5095,-72 1595.5095,0 1704.4598,0 1704.4598,-72\"/>\n",
       "<text text-anchor=\"middle\" x=\"1649.9846\" y=\"-40.095\" font-family=\"Times,serif\" font-size=\"9.00\" fill=\"#000000\">𝒩</text>\n",
       "<text text-anchor=\"middle\" x=\"1649.9846\" y=\"-26.505\" font-family=\"Times,serif\" font-size=\"9.00\" fill=\"#000000\">gaussianmeanprecision_3</text>\n",
       "</g>\n",
       "<!-- 5684441983335510782&#45;&#45;15719350341563803652 -->\n",
       "<g id=\"edge10\" class=\"edge\">\n",
       "<title>5684441983335510782&#45;&#45;15719350341563803652</title>\n",
       "<path fill=\"none\" stroke=\"#000000\" d=\"M1649.9846,-124.8032C1649.9846,-109.1333 1649.9846,-89.2377 1649.9846,-72.252\"/>\n",
       "<text text-anchor=\"start\" x=\"1649.9846\" y=\"-91.6\" font-family=\"Times,serif\" font-size=\"8.00\" fill=\"#ff0000\">m_x_t</text>\n",
       "<text text-anchor=\"start\" x=\"1635.762\" y=\"-73.852\" font-family=\"Times,serif\" font-size=\"8.00\" fill=\"#000000\">2 m </text>\n",
       "<text text-anchor=\"start\" x=\"1631.762\" y=\"-118.4032\" font-family=\"Times,serif\" font-size=\"8.00\" fill=\"#000000\">1 out </text>\n",
       "</g>\n",
       "<!-- 12583226763229860050 -->\n",
       "<g id=\"node3\" class=\"node\">\n",
       "<title>12583226763229860050</title>\n",
       "<polygon fill=\"none\" stroke=\"#000000\" points=\"1058.97,-188 980.9992,-188 980.9992,-116 1058.97,-116 1058.97,-188\"/>\n",
       "<text text-anchor=\"middle\" x=\"1019.9846\" y=\"-153.8\" font-family=\"Times,serif\" font-size=\"9.00\" fill=\"#000000\">Autoregression</text>\n",
       "<text text-anchor=\"middle\" x=\"1019.9846\" y=\"-144.8\" font-family=\"Times,serif\" font-size=\"9.00\" fill=\"#000000\">autoregression_1</text>\n",
       "</g>\n",
       "<!-- 12583226763229860050&#45;&#45;1299156548023787014 -->\n",
       "<g id=\"edge2\" class=\"edge\">\n",
       "<title>12583226763229860050&#45;&#45;1299156548023787014</title>\n",
       "<path fill=\"none\" stroke=\"#000000\" d=\"M981.0174,-141.0347C951.3427,-133.0478 909.3658,-122.5265 871.9846,-116 798.2545,-103.1273 778.8081,-107.3353 704.5471,-98 568.9207,-80.9505 409.8433,-57.0167 328.2747,-44.4563\"/>\n",
       "<text text-anchor=\"start\" x=\"703.9846\" y=\"-91.6\" font-family=\"Times,serif\" font-size=\"8.00\" fill=\"#ff0000\">x_t_prev</text>\n",
       "<text text-anchor=\"start\" x=\"328.2747\" y=\"-46.0563\" font-family=\"Times,serif\" font-size=\"8.00\" fill=\"#000000\">1 out </text>\n",
       "<text text-anchor=\"start\" x=\"969.0174\" y=\"-142.6347\" font-family=\"Times,serif\" font-size=\"8.00\" fill=\"#000000\">2 x </text>\n",
       "</g>\n",
       "<!-- 10323725232569213959 -->\n",
       "<g id=\"node7\" class=\"node\">\n",
       "<title>10323725232569213959</title>\n",
       "<polygon fill=\"none\" stroke=\"#000000\" points=\"807.9846,-72 735.9846,-72 735.9846,0 807.9846,0 807.9846,-72\"/>\n",
       "<text text-anchor=\"middle\" x=\"771.9846\" y=\"-37.8\" font-family=\"Times,serif\" font-size=\"9.00\" fill=\"#000000\">Gam</text>\n",
       "<text text-anchor=\"middle\" x=\"771.9846\" y=\"-28.8\" font-family=\"Times,serif\" font-size=\"9.00\" fill=\"#000000\">gamma_1</text>\n",
       "</g>\n",
       "<!-- 12583226763229860050&#45;&#45;10323725232569213959 -->\n",
       "<g id=\"edge12\" class=\"edge\">\n",
       "<title>12583226763229860050&#45;&#45;10323725232569213959</title>\n",
       "<path fill=\"none\" stroke=\"#000000\" d=\"M981.2346,-133.875C933.8264,-111.7002 854.1954,-74.4535 808.0459,-52.8674\"/>\n",
       "<text text-anchor=\"start\" x=\"902.9846\" y=\"-91.6\" font-family=\"Times,serif\" font-size=\"8.00\" fill=\"#ff0000\">w</text>\n",
       "<text text-anchor=\"start\" x=\"808.0459\" y=\"-54.4674\" font-family=\"Times,serif\" font-size=\"8.00\" fill=\"#000000\">1 out </text>\n",
       "<text text-anchor=\"start\" x=\"965.9651\" y=\"-127.475\" font-family=\"Times,serif\" font-size=\"8.00\" fill=\"#000000\">4 W </text>\n",
       "</g>\n",
       "<!-- 15464078043236097373 -->\n",
       "<g id=\"node10\" class=\"node\">\n",
       "<title>15464078043236097373</title>\n",
       "<polygon fill=\"none\" stroke=\"#000000\" points=\"1346.4598,-72 1237.5095,-72 1237.5095,0 1346.4598,0 1346.4598,-72\"/>\n",
       "<text text-anchor=\"middle\" x=\"1291.9846\" y=\"-40.095\" font-family=\"Times,serif\" font-size=\"9.00\" fill=\"#000000\">𝒩</text>\n",
       "<text text-anchor=\"middle\" x=\"1291.9846\" y=\"-26.505\" font-family=\"Times,serif\" font-size=\"9.00\" fill=\"#000000\">gaussianmeanprecision_1</text>\n",
       "</g>\n",
       "<!-- 12583226763229860050&#45;&#45;15464078043236097373 -->\n",
       "<g id=\"edge8\" class=\"edge\">\n",
       "<title>12583226763229860050&#45;&#45;15464078043236097373</title>\n",
       "<path fill=\"none\" stroke=\"#000000\" d=\"M1027.6104,-115.7898C1031.246,-106.2 1036.5907,-96.6731 1044.4338,-90 1073.0786,-65.6282 1173.9085,-49.7218 1237.7079,-41.8458\"/>\n",
       "<text text-anchor=\"start\" x=\"1043.9846\" y=\"-91.6\" font-family=\"Times,serif\" font-size=\"8.00\" fill=\"#ff0000\">a</text>\n",
       "<text text-anchor=\"start\" x=\"1219.4853\" y=\"-43.4458\" font-family=\"Times,serif\" font-size=\"8.00\" fill=\"#000000\">1 out </text>\n",
       "<text text-anchor=\"start\" x=\"1016.0596\" y=\"-109.3898\" font-family=\"Times,serif\" font-size=\"8.00\" fill=\"#000000\">3 a </text>\n",
       "</g>\n",
       "<!-- 12583226763229860050&#45;&#45;15719350341563803652 -->\n",
       "<g id=\"edge7\" class=\"edge\">\n",
       "<title>12583226763229860050&#45;&#45;15719350341563803652</title>\n",
       "<path fill=\"none\" stroke=\"#000000\" d=\"M1059.0745,-138.1631C1100.9918,-123.8801 1169.764,-102.0357 1230.762,-90 1306.7002,-75.0164 1327.1806,-81.606 1403.9846,-72 1469.9421,-63.7506 1545.5663,-52.3987 1595.3585,-44.6622\"/>\n",
       "<text text-anchor=\"start\" x=\"1229.9846\" y=\"-91.6\" font-family=\"Times,serif\" font-size=\"8.00\" fill=\"#ff0000\">x_t</text>\n",
       "<text text-anchor=\"start\" x=\"1577.1358\" y=\"-46.2622\" font-family=\"Times,serif\" font-size=\"8.00\" fill=\"#000000\">1 out </text>\n",
       "<text text-anchor=\"start\" x=\"1059.0745\" y=\"-139.7631\" font-family=\"Times,serif\" font-size=\"8.00\" fill=\"#000000\">1 out </text>\n",
       "</g>\n",
       "<!-- 2446374953036783633 -->\n",
       "<g id=\"node4\" class=\"node\">\n",
       "<title>2446374953036783633</title>\n",
       "<polygon fill=\"#d3d3d3\" stroke=\"#000000\" points=\"526.4571,-179 441.5121,-179 441.5121,-125 526.4571,-125 526.4571,-179\"/>\n",
       "<text text-anchor=\"middle\" x=\"483.9846\" y=\"-149.3\" font-family=\"Times,serif\" font-size=\"9.00\" fill=\"#000000\">placeholder_a_w_t</text>\n",
       "</g>\n",
       "<!-- 2446374953036783633&#45;&#45;10323725232569213959 -->\n",
       "<g id=\"edge4\" class=\"edge\">\n",
       "<title>2446374953036783633&#45;&#45;10323725232569213959</title>\n",
       "<path fill=\"none\" stroke=\"#000000\" d=\"M471.0845,-124.7316C467.5007,-112.868 466.477,-99.5308 474.4338,-90 507.3659,-50.5535 663.9092,-39.8593 735.7705,-37.0105\"/>\n",
       "<text text-anchor=\"start\" x=\"473.9846\" y=\"-91.6\" font-family=\"Times,serif\" font-size=\"8.00\" fill=\"#ff0000\">a_w_t</text>\n",
       "<text text-anchor=\"start\" x=\"724.2197\" y=\"-38.6105\" font-family=\"Times,serif\" font-size=\"8.00\" fill=\"#000000\">2 a </text>\n",
       "<text text-anchor=\"start\" x=\"452.8618\" y=\"-118.3316\" font-family=\"Times,serif\" font-size=\"8.00\" fill=\"#000000\">1 out </text>\n",
       "</g>\n",
       "<!-- 1877984566444955650 -->\n",
       "<g id=\"node5\" class=\"node\">\n",
       "<title>1877984566444955650</title>\n",
       "<polygon fill=\"#d3d3d3\" stroke=\"#000000\" points=\"1492.4568,-179 1407.5124,-179 1407.5124,-125 1492.4568,-125 1492.4568,-179\"/>\n",
       "<text text-anchor=\"middle\" x=\"1449.9846\" y=\"-149.3\" font-family=\"Times,serif\" font-size=\"9.00\" fill=\"#000000\">placeholder_m_a_t</text>\n",
       "</g>\n",
       "<!-- 1877984566444955650&#45;&#45;15464078043236097373 -->\n",
       "<g id=\"edge3\" class=\"edge\">\n",
       "<title>1877984566444955650&#45;&#45;15464078043236097373</title>\n",
       "<path fill=\"none\" stroke=\"#000000\" d=\"M1412.9406,-124.8032C1391.506,-109.0664 1364.2663,-89.0676 1341.066,-72.0344\"/>\n",
       "<text text-anchor=\"start\" x=\"1374.9846\" y=\"-91.6\" font-family=\"Times,serif\" font-size=\"8.00\" fill=\"#ff0000\">m_a_t</text>\n",
       "<text text-anchor=\"start\" x=\"1326.8433\" y=\"-73.6344\" font-family=\"Times,serif\" font-size=\"8.00\" fill=\"#000000\">2 m </text>\n",
       "<text text-anchor=\"start\" x=\"1394.718\" y=\"-118.4032\" font-family=\"Times,serif\" font-size=\"8.00\" fill=\"#000000\">1 out </text>\n",
       "</g>\n",
       "<!-- 8619901292263632698 -->\n",
       "<g id=\"node6\" class=\"node\">\n",
       "<title>8619901292263632698</title>\n",
       "<polygon fill=\"#d3d3d3\" stroke=\"#000000\" points=\"1892.4612,-179 1807.5081,-179 1807.5081,-125 1892.4612,-125 1892.4612,-179\"/>\n",
       "<text text-anchor=\"middle\" x=\"1849.9846\" y=\"-149.3\" font-family=\"Times,serif\" font-size=\"9.00\" fill=\"#000000\">placeholder_w_x_t</text>\n",
       "</g>\n",
       "<!-- 8619901292263632698&#45;&#45;15719350341563803652 -->\n",
       "<g id=\"edge11\" class=\"edge\">\n",
       "<title>8619901292263632698&#45;&#45;15719350341563803652</title>\n",
       "<path fill=\"none\" stroke=\"#000000\" d=\"M1807.0796,-127.1151C1777.0076,-109.6734 1736.5762,-86.2231 1704.262,-67.4809\"/>\n",
       "<text text-anchor=\"start\" x=\"1754.9846\" y=\"-91.6\" font-family=\"Times,serif\" font-size=\"8.00\" fill=\"#ff0000\">w_x_t</text>\n",
       "<text text-anchor=\"start\" x=\"1704.262\" y=\"-69.0809\" font-family=\"Times,serif\" font-size=\"8.00\" fill=\"#000000\">3 w </text>\n",
       "<text text-anchor=\"start\" x=\"1788.8569\" y=\"-128.7151\" font-family=\"Times,serif\" font-size=\"8.00\" fill=\"#000000\">1 out </text>\n",
       "</g>\n",
       "<!-- 9516506860708614493 -->\n",
       "<g id=\"node8\" class=\"node\">\n",
       "<title>9516506860708614493</title>\n",
       "<polygon fill=\"#d3d3d3\" stroke=\"#000000\" points=\"1292.4571,-179 1207.5121,-179 1207.5121,-125 1292.4571,-125 1292.4571,-179\"/>\n",
       "<text text-anchor=\"middle\" x=\"1249.9846\" y=\"-149.3\" font-family=\"Times,serif\" font-size=\"9.00\" fill=\"#000000\">placeholder_w_a_t</text>\n",
       "</g>\n",
       "<!-- 9516506860708614493&#45;&#45;15464078043236097373 -->\n",
       "<g id=\"edge9\" class=\"edge\">\n",
       "<title>9516506860708614493&#45;&#45;15464078043236097373</title>\n",
       "<path fill=\"none\" stroke=\"#000000\" d=\"M1259.8318,-124.8032C1265.5053,-109.1333 1272.7089,-89.2377 1278.8589,-72.252\"/>\n",
       "<text text-anchor=\"start\" x=\"1271.9846\" y=\"-91.6\" font-family=\"Times,serif\" font-size=\"8.00\" fill=\"#ff0000\">w_a_t</text>\n",
       "<text text-anchor=\"start\" x=\"1265.0815\" y=\"-73.852\" font-family=\"Times,serif\" font-size=\"8.00\" fill=\"#000000\">3 w </text>\n",
       "<text text-anchor=\"start\" x=\"1241.6091\" y=\"-118.4032\" font-family=\"Times,serif\" font-size=\"8.00\" fill=\"#000000\">1 out </text>\n",
       "</g>\n",
       "<!-- 13582103824619297348 -->\n",
       "<g id=\"node9\" class=\"node\">\n",
       "<title>13582103824619297348</title>\n",
       "<polygon fill=\"#d3d3d3\" stroke=\"#000000\" points=\"814.4612,-179 729.5081,-179 729.5081,-125 814.4612,-125 814.4612,-179\"/>\n",
       "<text text-anchor=\"middle\" x=\"771.9846\" y=\"-149.3\" font-family=\"Times,serif\" font-size=\"9.00\" fill=\"#000000\">placeholder_b_w_t</text>\n",
       "</g>\n",
       "<!-- 13582103824619297348&#45;&#45;10323725232569213959 -->\n",
       "<g id=\"edge5\" class=\"edge\">\n",
       "<title>13582103824619297348&#45;&#45;10323725232569213959</title>\n",
       "<path fill=\"none\" stroke=\"#000000\" d=\"M764.6199,-124.9402C762.4608,-114.1166 760.928,-101.5088 761.9846,-90 762.5164,-84.2084 763.3625,-78.1108 764.3429,-72.1819\"/>\n",
       "<text text-anchor=\"start\" x=\"761.9846\" y=\"-91.6\" font-family=\"Times,serif\" font-size=\"8.00\" fill=\"#ff0000\">b_w_t</text>\n",
       "<text text-anchor=\"start\" x=\"752.3429\" y=\"-73.7819\" font-family=\"Times,serif\" font-size=\"8.00\" fill=\"#000000\">3 b </text>\n",
       "<text text-anchor=\"start\" x=\"746.3973\" y=\"-118.5402\" font-family=\"Times,serif\" font-size=\"8.00\" fill=\"#000000\">1 out </text>\n",
       "</g>\n",
       "<!-- 12575928724799506188 -->\n",
       "<g id=\"node11\" class=\"node\">\n",
       "<title>12575928724799506188</title>\n",
       "<polygon fill=\"#d3d3d3\" stroke=\"#000000\" points=\"105.9539,-179 .0154,-179 .0154,-125 105.9539,-125 105.9539,-179\"/>\n",
       "<text text-anchor=\"middle\" x=\"52.9846\" y=\"-149.3\" font-family=\"Times,serif\" font-size=\"9.00\" fill=\"#000000\">placeholder_m_x_t_prev</text>\n",
       "</g>\n",
       "<!-- 12575928724799506188&#45;&#45;1299156548023787014 -->\n",
       "<g id=\"edge6\" class=\"edge\">\n",
       "<title>12575928724799506188&#45;&#45;1299156548023787014</title>\n",
       "<path fill=\"none\" stroke=\"#000000\" d=\"M104.5204,-124.9496C139.0855,-106.8068 184.5364,-82.9502 219.666,-64.5111\"/>\n",
       "<text text-anchor=\"start\" x=\"169.9846\" y=\"-91.6\" font-family=\"Times,serif\" font-size=\"8.00\" fill=\"#ff0000\">m_x_t_prev</text>\n",
       "<text text-anchor=\"start\" x=\"205.4433\" y=\"-66.1111\" font-family=\"Times,serif\" font-size=\"8.00\" fill=\"#000000\">2 m </text>\n",
       "<text text-anchor=\"start\" x=\"86.2977\" y=\"-118.5496\" font-family=\"Times,serif\" font-size=\"8.00\" fill=\"#000000\">1 out </text>\n",
       "</g>\n",
       "<!-- 3117831577590692021 -->\n",
       "<g id=\"node12\" class=\"node\">\n",
       "<title>3117831577590692021</title>\n",
       "<polygon fill=\"#d3d3d3\" stroke=\"#000000\" points=\"326.9539,-179 221.0153,-179 221.0153,-125 326.9539,-125 326.9539,-179\"/>\n",
       "<text text-anchor=\"middle\" x=\"273.9846\" y=\"-149.3\" font-family=\"Times,serif\" font-size=\"9.00\" fill=\"#000000\">placeholder_w_x_t_prev</text>\n",
       "</g>\n",
       "<!-- 3117831577590692021&#45;&#45;1299156548023787014 -->\n",
       "<g id=\"edge1\" class=\"edge\">\n",
       "<title>3117831577590692021&#45;&#45;1299156548023787014</title>\n",
       "<path fill=\"none\" stroke=\"#000000\" d=\"M273.9846,-124.8032C273.9846,-109.1333 273.9846,-89.2377 273.9846,-72.252\"/>\n",
       "<text text-anchor=\"start\" x=\"273.9846\" y=\"-91.6\" font-family=\"Times,serif\" font-size=\"8.00\" fill=\"#ff0000\">w_x_t_prev</text>\n",
       "<text text-anchor=\"start\" x=\"260.2073\" y=\"-73.852\" font-family=\"Times,serif\" font-size=\"8.00\" fill=\"#000000\">3 w </text>\n",
       "<text text-anchor=\"start\" x=\"255.762\" y=\"-118.4032\" font-family=\"Times,serif\" font-size=\"8.00\" fill=\"#000000\">1 out </text>\n",
       "</g>\n",
       "</g>\n",
       "</svg>\n"
      ]
     },
     "metadata": {},
     "output_type": "display_data"
    }
   ],
   "source": [
    "g = FactorGraph()\n",
    "\n",
    "# declare priors as random variables\n",
    "@RV m_x_t_prev\n",
    "@RV w_x_t_prev\n",
    "@RV m_x_t\n",
    "@RV w_x_t\n",
    "@RV a_w_t\n",
    "@RV b_w_t\n",
    "@RV m_a_t\n",
    "@RV w_a_t\n",
    "\n",
    "@RV a ~ GaussianMeanPrecision(m_a_t, w_a_t)\n",
    "@RV x_t_prev ~ GaussianMeanPrecision(m_x_t_prev, w_x_t_prev)\n",
    "@RV x_t ~ GaussianMeanPrecision(m_x_t, w_x_t)\n",
    "@RV w ~ Gamma(a_w_t, b_w_t)\n",
    "Autoregression(x_t, x_t_prev, a, w)\n",
    "\n",
    "# Placeholders for prior\n",
    "placeholder(a_w_t, :a_w_t)\n",
    "placeholder(b_w_t, :b_w_t)\n",
    "placeholder(m_a_t, :m_a_t, dims=(ARorder,))\n",
    "placeholder(w_a_t, :w_a_t, dims=(ARorder, ARorder))\n",
    "\n",
    "# Placeholder for data\n",
    "placeholder(m_x_t_prev, :m_x_t_prev, dims=(ARorder,))\n",
    "placeholder(w_x_t_prev, :w_x_t_prev, dims=(ARorder, ARorder))\n",
    "placeholder(m_x_t, :m_x_t, dims=(ARorder,))\n",
    "placeholder(w_x_t, :w_x_t, dims=(ARorder, ARorder))\n",
    "\n",
    "ForneyLab.draw(g)"
   ]
  },
  {
   "cell_type": "code",
   "execution_count": 27,
   "metadata": {},
   "outputs": [
    {
     "data": {
      "text/plain": [
       "stepW! (generic function with 3 methods)"
      ]
     },
     "execution_count": 27,
     "metadata": {},
     "output_type": "execute_result"
    }
   ],
   "source": [
    "# Specify recognition factorization\n",
    "q = RecognitionFactorization(a, w, ids=[:A, :W])\n",
    "\n",
    "# Generate the variational update algorithms for each recognition factor\n",
    "algo = variationalAlgorithm(q)\n",
    "\n",
    "# Load algorithms\n",
    "eval(Meta.parse(algo))"
   ]
  },
  {
   "cell_type": "code",
   "execution_count": 32,
   "metadata": {},
   "outputs": [],
   "source": [
    "# Define values for prior statistics\n",
    "a_w_0 = 0.1\n",
    "b_w_0 = 0.3\n",
    "m_a_0 = -5.0 .+ zeros(ARorder)\n",
    "w_a_0 = (tiny*diagAR(ARorder))\n",
    "\n",
    "# First observations\n",
    "m_x_prev_0 = x[1]\n",
    "w_x_prev_0 = (huge*diagAR(ARorder))\n",
    "m_x_0 = x[2]\n",
    "w_x_0 = (huge*diagAR(ARorder));"
   ]
  },
  {
   "cell_type": "code",
   "execution_count": 33,
   "metadata": {},
   "outputs": [],
   "source": [
    "# Storage\n",
    "m_x_prev = Vector{Vector{Float64}}(undef, length(x))\n",
    "w_x_prev = Vector{Array{Float64, 2}}(undef, length(x))\n",
    "m_x = Vector{Vector{Float64}}(undef, length(x))\n",
    "w_x = Vector{Array{Float64, 2}}(undef, length(x))\n",
    "a_w = Vector{Float64}(undef, length(x))\n",
    "b_w = Vector{Float64}(undef, length(x))\n",
    "m_a = Vector{Vector{Float64}}(undef, length(x))\n",
    "w_a = Vector{Array{Float64, 2}}(undef, length(x))\n",
    "\n",
    "# Inits\n",
    "m_x_t_prev_min = m_x_prev_0\n",
    "w_x_t_prev_min = w_x_prev_0\n",
    "m_x_t_min = m_x_0\n",
    "w_x_t_min = w_x_0\n",
    "a_w_t_min = a_w_0\n",
    "b_w_t_min = b_w_0\n",
    "m_a_t_min = m_a_0\n",
    "w_a_t_min = w_a_0;"
   ]
  },
  {
   "cell_type": "code",
   "execution_count": 34,
   "metadata": {},
   "outputs": [],
   "source": [
    "marginals = Dict()\n",
    "n_its = 10\n",
    "testSize = 20 # Number of points for test set\n",
    "trainSize = length(x) - testSize\n",
    "MSEs = []; # Storage for MSE for test set\n",
    "\n",
    "# Storage for predictions\n",
    "predictions = []\n",
    "aCov = []\n",
    "aMean = []\n",
    "wVar = []\n",
    "actual = [x[1] for x in x][trainSize:end];"
   ]
  },
  {
   "cell_type": "code",
   "execution_count": 35,
   "metadata": {},
   "outputs": [
    {
     "name": "stderr",
     "output_type": "stream",
     "text": [
      "\u001b[32mObserved 100%|██████████████████████████████████████████| Time: 0:00:06\u001b[39m\n"
     ]
    }
   ],
   "source": [
    "p = Progress(trainSize, 1, \"Observed \")\n",
    "for t = 2:trainSize\n",
    "    update!(p, t)\n",
    "    marginals[:a] = ProbabilityDistribution(Multivariate, GaussianMeanPrecision, m=m_a_t_min, w=w_a_t_min)\n",
    "    marginals[:x_t_prev] = ProbabilityDistribution(Multivariate, GaussianMeanPrecision, m=m_x_t_prev_min, w=w_x_t_prev_min)\n",
    "    marginals[:x_t] = ProbabilityDistribution(Multivariate, GaussianMeanPrecision, m=m_x_t_min, w=w_x_t_min)\n",
    "    marginals[:w] = ProbabilityDistribution(Univariate, Gamma, a=a_w_t_min, b=b_w_t_min)\n",
    "    global m_x_t_prev_min, w_x_t_prev_min, m_x_t_min, w_x_t_min,\n",
    "           a_w_t_min, b_w_t_min, m_a_t_min, w_a_t_min\n",
    "\n",
    "    for i = 1:n_its\n",
    "        data = Dict(:m_a_t => m_a_t_min,\n",
    "            :w_a_t => w_a_t_min,\n",
    "            :m_x_t_prev => m_x_t_prev_min,\n",
    "            :w_x_t_prev => w_x_t_prev_min,\n",
    "            :m_x_t => m_x_t_min,\n",
    "            :w_x_t => w_x_t_min,\n",
    "            :a_w_t => a_w_t_min,\n",
    "            :b_w_t => b_w_t_min)\n",
    "        stepA!(data, marginals)\n",
    "        stepW!(data, marginals)\n",
    "        m_a[t] = unsafeMean(marginals[:a])\n",
    "        w_a[t] = unsafePrecision(marginals[:a])\n",
    "        m_x[t] = unsafeMean(marginals[:x_t])\n",
    "        w_x[t] = (huge*diagAR(ARorder))\n",
    "        m_x_prev[t] = unsafeMean(marginals[:x_t_prev])\n",
    "        w_x_prev[t] = (huge*diagAR(ARorder))\n",
    "        a_w[t] = marginals[:w].params[:a]\n",
    "        b_w[t] = marginals[:w].params[:b]\n",
    "        m_a_t_min = m_a[t]\n",
    "        w_a_t_min = w_a[t]\n",
    "        m_x_t_prev_min = x[t]\n",
    "        w_x_t_prev_min = w_x_prev[t]\n",
    "        m_x_t_min = x[t+1]\n",
    "        w_x_t_min = w_x[t]\n",
    "        a_w_t_min = a_w[t]\n",
    "        b_w_t_min = b_w[t]\n",
    "    end\n",
    "    \n",
    "    pred = [mean(marginals[:a])'x for x in x[trainSize-1:end-1]]\n",
    "    push!(aMean, mean(marginals[:a]))\n",
    "    push!(aCov, unsafeCov(marginals[:a]))\n",
    "    push!(wVar, mean(marginals[:w]))\n",
    "    push!(predictions, pred)\n",
    "    push!(MSEs, mse(pred, actual))\n",
    "end"
   ]
  },
  {
   "cell_type": "code",
   "execution_count": 36,
   "metadata": {},
   "outputs": [
    {
     "data": {
      "image/svg+xml": [
       "<?xml version=\"1.0\" encoding=\"utf-8\"?>\n",
       "<svg xmlns=\"http://www.w3.org/2000/svg\" xmlns:xlink=\"http://www.w3.org/1999/xlink\" width=\"600\" height=\"400\" viewBox=\"0 0 2400 1600\">\n",
       "<defs>\n",
       "  <clipPath id=\"clip3600\">\n",
       "    <rect x=\"0\" y=\"0\" width=\"2000\" height=\"2000\"/>\n",
       "  </clipPath>\n",
       "</defs>\n",
       "<defs>\n",
       "  <clipPath id=\"clip3601\">\n",
       "    <rect x=\"0\" y=\"0\" width=\"2400\" height=\"1600\"/>\n",
       "  </clipPath>\n",
       "</defs>\n",
       "<polygon clip-path=\"url(#clip3601)\" points=\"\n",
       "0,1600 2400,1600 2400,0 0,0 \n",
       "  \" fill=\"#ffffff\" fill-rule=\"evenodd\" fill-opacity=\"1\"/>\n",
       "<defs>\n",
       "  <clipPath id=\"clip3602\">\n",
       "    <rect x=\"480\" y=\"0\" width=\"1681\" height=\"1600\"/>\n",
       "  </clipPath>\n",
       "</defs>\n",
       "<polygon clip-path=\"url(#clip3601)\" points=\"\n",
       "184.243,1440.48 2321.26,1440.48 2321.26,125.984 184.243,125.984 \n",
       "  \" fill=\"#ffffff\" fill-rule=\"evenodd\" fill-opacity=\"1\"/>\n",
       "<defs>\n",
       "  <clipPath id=\"clip3603\">\n",
       "    <rect x=\"184\" y=\"125\" width=\"2138\" height=\"1315\"/>\n",
       "  </clipPath>\n",
       "</defs>\n",
       "<polyline clip-path=\"url(#clip3603)\" style=\"stroke:#000000; stroke-width:2; stroke-opacity:0.1; fill:none\" points=\"\n",
       "  224.36,1440.48 224.36,125.984 \n",
       "  \"/>\n",
       "<polyline clip-path=\"url(#clip3603)\" style=\"stroke:#000000; stroke-width:2; stroke-opacity:0.1; fill:none\" points=\"\n",
       "  733.465,1440.48 733.465,125.984 \n",
       "  \"/>\n",
       "<polyline clip-path=\"url(#clip3603)\" style=\"stroke:#000000; stroke-width:2; stroke-opacity:0.1; fill:none\" points=\"\n",
       "  1242.57,1440.48 1242.57,125.984 \n",
       "  \"/>\n",
       "<polyline clip-path=\"url(#clip3603)\" style=\"stroke:#000000; stroke-width:2; stroke-opacity:0.1; fill:none\" points=\"\n",
       "  1751.67,1440.48 1751.67,125.984 \n",
       "  \"/>\n",
       "<polyline clip-path=\"url(#clip3603)\" style=\"stroke:#000000; stroke-width:2; stroke-opacity:0.1; fill:none\" points=\"\n",
       "  2260.78,1440.48 2260.78,125.984 \n",
       "  \"/>\n",
       "<polyline clip-path=\"url(#clip3603)\" style=\"stroke:#000000; stroke-width:2; stroke-opacity:0.1; fill:none\" points=\"\n",
       "  184.243,1379.72 2321.26,1379.72 \n",
       "  \"/>\n",
       "<polyline clip-path=\"url(#clip3603)\" style=\"stroke:#000000; stroke-width:2; stroke-opacity:0.1; fill:none\" points=\"\n",
       "  184.243,1159.56 2321.26,1159.56 \n",
       "  \"/>\n",
       "<polyline clip-path=\"url(#clip3603)\" style=\"stroke:#000000; stroke-width:2; stroke-opacity:0.1; fill:none\" points=\"\n",
       "  184.243,939.402 2321.26,939.402 \n",
       "  \"/>\n",
       "<polyline clip-path=\"url(#clip3603)\" style=\"stroke:#000000; stroke-width:2; stroke-opacity:0.1; fill:none\" points=\"\n",
       "  184.243,719.241 2321.26,719.241 \n",
       "  \"/>\n",
       "<polyline clip-path=\"url(#clip3603)\" style=\"stroke:#000000; stroke-width:2; stroke-opacity:0.1; fill:none\" points=\"\n",
       "  184.243,499.081 2321.26,499.081 \n",
       "  \"/>\n",
       "<polyline clip-path=\"url(#clip3603)\" style=\"stroke:#000000; stroke-width:2; stroke-opacity:0.1; fill:none\" points=\"\n",
       "  184.243,278.92 2321.26,278.92 \n",
       "  \"/>\n",
       "<polyline clip-path=\"url(#clip3601)\" style=\"stroke:#000000; stroke-width:4; stroke-opacity:1; fill:none\" points=\"\n",
       "  184.243,1440.48 2321.26,1440.48 \n",
       "  \"/>\n",
       "<polyline clip-path=\"url(#clip3601)\" style=\"stroke:#000000; stroke-width:4; stroke-opacity:1; fill:none\" points=\"\n",
       "  184.243,1440.48 184.243,125.984 \n",
       "  \"/>\n",
       "<polyline clip-path=\"url(#clip3601)\" style=\"stroke:#000000; stroke-width:4; stroke-opacity:1; fill:none\" points=\"\n",
       "  224.36,1440.48 224.36,1420.77 \n",
       "  \"/>\n",
       "<polyline clip-path=\"url(#clip3601)\" style=\"stroke:#000000; stroke-width:4; stroke-opacity:1; fill:none\" points=\"\n",
       "  733.465,1440.48 733.465,1420.77 \n",
       "  \"/>\n",
       "<polyline clip-path=\"url(#clip3601)\" style=\"stroke:#000000; stroke-width:4; stroke-opacity:1; fill:none\" points=\"\n",
       "  1242.57,1440.48 1242.57,1420.77 \n",
       "  \"/>\n",
       "<polyline clip-path=\"url(#clip3601)\" style=\"stroke:#000000; stroke-width:4; stroke-opacity:1; fill:none\" points=\"\n",
       "  1751.67,1440.48 1751.67,1420.77 \n",
       "  \"/>\n",
       "<polyline clip-path=\"url(#clip3601)\" style=\"stroke:#000000; stroke-width:4; stroke-opacity:1; fill:none\" points=\"\n",
       "  2260.78,1440.48 2260.78,1420.77 \n",
       "  \"/>\n",
       "<polyline clip-path=\"url(#clip3601)\" style=\"stroke:#000000; stroke-width:4; stroke-opacity:1; fill:none\" points=\"\n",
       "  184.243,1379.72 216.298,1379.72 \n",
       "  \"/>\n",
       "<polyline clip-path=\"url(#clip3601)\" style=\"stroke:#000000; stroke-width:4; stroke-opacity:1; fill:none\" points=\"\n",
       "  184.243,1159.56 216.298,1159.56 \n",
       "  \"/>\n",
       "<polyline clip-path=\"url(#clip3601)\" style=\"stroke:#000000; stroke-width:4; stroke-opacity:1; fill:none\" points=\"\n",
       "  184.243,939.402 216.298,939.402 \n",
       "  \"/>\n",
       "<polyline clip-path=\"url(#clip3601)\" style=\"stroke:#000000; stroke-width:4; stroke-opacity:1; fill:none\" points=\"\n",
       "  184.243,719.241 216.298,719.241 \n",
       "  \"/>\n",
       "<polyline clip-path=\"url(#clip3601)\" style=\"stroke:#000000; stroke-width:4; stroke-opacity:1; fill:none\" points=\"\n",
       "  184.243,499.081 216.298,499.081 \n",
       "  \"/>\n",
       "<polyline clip-path=\"url(#clip3601)\" style=\"stroke:#000000; stroke-width:4; stroke-opacity:1; fill:none\" points=\"\n",
       "  184.243,278.92 216.298,278.92 \n",
       "  \"/>\n",
       "<g clip-path=\"url(#clip3601)\">\n",
       "<text style=\"fill:#000000; fill-opacity:1; font-family:Arial,Helvetica Neue,Helvetica,sans-serif; font-size:48px; text-anchor:middle;\" transform=\"rotate(0, 224.36, 1494.48)\" x=\"224.36\" y=\"1494.48\">0</text>\n",
       "</g>\n",
       "<g clip-path=\"url(#clip3601)\">\n",
       "<text style=\"fill:#000000; fill-opacity:1; font-family:Arial,Helvetica Neue,Helvetica,sans-serif; font-size:48px; text-anchor:middle;\" transform=\"rotate(0, 733.465, 1494.48)\" x=\"733.465\" y=\"1494.48\">25</text>\n",
       "</g>\n",
       "<g clip-path=\"url(#clip3601)\">\n",
       "<text style=\"fill:#000000; fill-opacity:1; font-family:Arial,Helvetica Neue,Helvetica,sans-serif; font-size:48px; text-anchor:middle;\" transform=\"rotate(0, 1242.57, 1494.48)\" x=\"1242.57\" y=\"1494.48\">50</text>\n",
       "</g>\n",
       "<g clip-path=\"url(#clip3601)\">\n",
       "<text style=\"fill:#000000; fill-opacity:1; font-family:Arial,Helvetica Neue,Helvetica,sans-serif; font-size:48px; text-anchor:middle;\" transform=\"rotate(0, 1751.67, 1494.48)\" x=\"1751.67\" y=\"1494.48\">75</text>\n",
       "</g>\n",
       "<g clip-path=\"url(#clip3601)\">\n",
       "<text style=\"fill:#000000; fill-opacity:1; font-family:Arial,Helvetica Neue,Helvetica,sans-serif; font-size:48px; text-anchor:middle;\" transform=\"rotate(0, 2260.78, 1494.48)\" x=\"2260.78\" y=\"1494.48\">100</text>\n",
       "</g>\n",
       "<g clip-path=\"url(#clip3601)\">\n",
       "<text style=\"fill:#000000; fill-opacity:1; font-family:Arial,Helvetica Neue,Helvetica,sans-serif; font-size:48px; text-anchor:end;\" transform=\"rotate(0, 160.243, 1397.22)\" x=\"160.243\" y=\"1397.22\">1</text>\n",
       "</g>\n",
       "<g clip-path=\"url(#clip3601)\">\n",
       "<text style=\"fill:#000000; fill-opacity:1; font-family:Arial,Helvetica Neue,Helvetica,sans-serif; font-size:48px; text-anchor:end;\" transform=\"rotate(0, 160.243, 1177.06)\" x=\"160.243\" y=\"1177.06\">2</text>\n",
       "</g>\n",
       "<g clip-path=\"url(#clip3601)\">\n",
       "<text style=\"fill:#000000; fill-opacity:1; font-family:Arial,Helvetica Neue,Helvetica,sans-serif; font-size:48px; text-anchor:end;\" transform=\"rotate(0, 160.243, 956.902)\" x=\"160.243\" y=\"956.902\">3</text>\n",
       "</g>\n",
       "<g clip-path=\"url(#clip3601)\">\n",
       "<text style=\"fill:#000000; fill-opacity:1; font-family:Arial,Helvetica Neue,Helvetica,sans-serif; font-size:48px; text-anchor:end;\" transform=\"rotate(0, 160.243, 736.741)\" x=\"160.243\" y=\"736.741\">4</text>\n",
       "</g>\n",
       "<g clip-path=\"url(#clip3601)\">\n",
       "<text style=\"fill:#000000; fill-opacity:1; font-family:Arial,Helvetica Neue,Helvetica,sans-serif; font-size:48px; text-anchor:end;\" transform=\"rotate(0, 160.243, 516.581)\" x=\"160.243\" y=\"516.581\">5</text>\n",
       "</g>\n",
       "<g clip-path=\"url(#clip3601)\">\n",
       "<text style=\"fill:#000000; fill-opacity:1; font-family:Arial,Helvetica Neue,Helvetica,sans-serif; font-size:48px; text-anchor:end;\" transform=\"rotate(0, 160.243, 296.42)\" x=\"160.243\" y=\"296.42\">6</text>\n",
       "</g>\n",
       "<g clip-path=\"url(#clip3601)\">\n",
       "<text style=\"fill:#000000; fill-opacity:1; font-family:Arial,Helvetica Neue,Helvetica,sans-serif; font-size:84px; text-anchor:middle;\" transform=\"rotate(0, 1252.75, 73.2)\" x=\"1252.75\" y=\"73.2\">mean squared error</text>\n",
       "</g>\n",
       "<g clip-path=\"url(#clip3601)\">\n",
       "<text style=\"fill:#000000; fill-opacity:1; font-family:Arial,Helvetica Neue,Helvetica,sans-serif; font-size:66px; text-anchor:middle;\" transform=\"rotate(0, 1252.75, 1590.4)\" x=\"1252.75\" y=\"1590.4\">observations</text>\n",
       "</g>\n",
       "<g clip-path=\"url(#clip3601)\">\n",
       "<text style=\"fill:#000000; fill-opacity:1; font-family:Arial,Helvetica Neue,Helvetica,sans-serif; font-size:66px; text-anchor:middle;\" transform=\"rotate(-90, 57.6, 783.233)\" x=\"57.6\" y=\"783.233\">MSE</text>\n",
       "</g>\n",
       "<polyline clip-path=\"url(#clip3603)\" style=\"stroke:#009af9; stroke-width:4; stroke-opacity:1; fill:none\" points=\"\n",
       "  244.724,461.088 265.088,1179.09 285.453,1177.1 305.817,1199.3 326.181,1210.84 346.545,1325.9 366.909,1280.43 387.274,1268.61 407.638,452.504 428.002,163.187 \n",
       "  448.366,1265.8 468.73,1277.04 489.094,1305.25 509.459,1330.03 529.823,1376.45 550.187,1374.69 570.551,1391.38 590.915,1381.16 611.28,1378.89 631.644,1380.54 \n",
       "  652.008,1384.28 672.372,1399.01 692.736,1401.31 713.1,1400.99 733.465,1392.04 753.829,1388.79 774.193,1384.12 794.557,1387.31 814.921,1394.74 835.286,1396.19 \n",
       "  855.65,1395.8 876.014,1393.17 896.378,1395.83 916.742,1395.37 937.106,1395.29 957.471,1399.32 977.835,1399.23 998.199,1399.01 1018.56,1395.43 1038.93,1395.1 \n",
       "  1059.29,1400.32 1079.66,1399.69 1100.02,1399.53 1120.38,1399.11 1140.75,1399.66 1161.11,1399.85 1181.48,1396.52 1201.84,1397.82 1222.2,1398.36 1242.57,1397.57 \n",
       "  1262.93,1398.04 1283.3,1398.18 1303.66,1397.51 1324.03,1397.48 1344.39,1397.5 1364.75,1396.52 1385.12,1395.2 1405.48,1395.18 1425.85,1395.07 1446.21,1397.22 \n",
       "  1466.58,1397.14 1486.94,1396.9 1507.3,1396.27 1527.67,1395.77 1548.03,1394.56 1568.4,1396.04 1588.76,1394.98 1609.12,1395.75 1629.49,1395.16 1649.85,1394.45 \n",
       "  1670.22,1395.06 1690.58,1396 1710.95,1397.05 1731.31,1398.73 1751.67,1399.74 1772.04,1399.78 1792.4,1400.15 1812.77,1400.14 1833.13,1399.98 1853.49,1399.11 \n",
       "  1873.86,1399.19 1894.22,1399.89 1914.59,1399.98 1934.95,1399.81 1955.32,1399.54 1975.68,1399.44 1996.04,1399.93 2016.41,1400.47 2036.77,1400.89 2057.14,1400.35 \n",
       "  2077.5,1400.38 2097.86,1401.23 2118.23,1402.73 2138.59,1402.96 2158.96,1403.28 2179.32,1402.78 2199.69,1401.9 2220.05,1400.7 2240.41,1399.62 2260.78,1399.38 \n",
       "  \n",
       "  \"/>\n",
       "</svg>\n"
      ]
     },
     "execution_count": 36,
     "metadata": {},
     "output_type": "execute_result"
    }
   ],
   "source": [
    "using Plots; theme(:default)\n",
    "plot(MSEs[1:100], title=\"mean squared error\", xlabel=\"observations\", ylabel=\"MSE\", legend=false)"
   ]
  },
  {
   "cell_type": "code",
   "execution_count": 37,
   "metadata": {},
   "outputs": [
    {
     "name": "stderr",
     "output_type": "stream",
     "text": [
      "┌ Info: Saved animation to \n",
      "│   fn = /Users/albertpod/Documents/Julia/VariationalBayes/gifs/AR-online.gif\n",
      "└ @ Plots /Users/albertpod/.julia/packages/Plots/gylTh/src/animation.jl:90\n"
     ]
    },
    {
     "data": {
      "text/html": [
       "<img src=\"../gifs/AR-online.gif\" />"
      ],
      "text/plain": [
       "Plots.AnimatedGif(\"/Users/albertpod/Documents/Julia/VariationalBayes/gifs/AR-online.gif\")"
      ]
     },
     "execution_count": 37,
     "metadata": {},
     "output_type": "execute_result"
    }
   ],
   "source": [
    "# Plotting predictions\n",
    "anim = @animate for i in 1:100:length(predictions)\n",
    "    s = plot();\n",
    "    ylims!(minimum(actual) - .1, maximum(actual) + .1);\n",
    "    predicted = predictions[i]\n",
    "    plot!(actual, title = \"unforeseen data\", xlabel=\"time\", ylabel=\"value\", label=\"actual\")\n",
    "    plot!(predicted, label=\"predicted\")\n",
    "end\n",
    "gif(anim, \"../gifs/AR-online.gif\", fps = 10)"
   ]
  },
  {
   "cell_type": "code",
   "execution_count": 38,
   "metadata": {},
   "outputs": [
    {
     "name": "stderr",
     "output_type": "stream",
     "text": [
      "WARNING: using Distributions.Gamma in module Main conflicts with an existing identifier.\n",
      "WARNING: using Distributions.Multivariate in module Main conflicts with an existing identifier.\n",
      "WARNING: using Distributions.mode in module Main conflicts with an existing identifier.\n",
      "WARNING: using Distributions.Univariate in module Main conflicts with an existing identifier.\n",
      "┌ Warning: `pdf(d::UnivariateDistribution, X::AbstractArray)` is deprecated, use `pdf.(d, X)` instead.\n",
      "│   caller = macro expansion at In[38]:11 [inlined]\n",
      "└ @ Core ./In[38]:11\n",
      "┌ Warning: `pdf(d::UnivariateDistribution, X::AbstractArray)` is deprecated, use `pdf.(d, X)` instead.\n",
      "│   caller = macro expansion at In[38]:12 [inlined]\n",
      "└ @ Core ./In[38]:12\n",
      "┌ Info: Saved animation to \n",
      "│   fn = /Users/albertpod/Documents/Julia/VariationalBayes/gifs/AR-gamma.gif\n",
      "└ @ Plots /Users/albertpod/.julia/packages/Plots/gylTh/src/animation.jl:90\n"
     ]
    },
    {
     "data": {
      "text/html": [
       "<img src=\"../gifs/AR-gamma.gif\" />"
      ],
      "text/plain": [
       "Plots.AnimatedGif(\"/Users/albertpod/Documents/Julia/VariationalBayes/gifs/AR-gamma.gif\")"
      ]
     },
     "execution_count": 38,
     "metadata": {},
     "output_type": "execute_result"
    }
   ],
   "source": [
    "# Noise precision estimation\n",
    "using Distributions\n",
    "prior = Distributions.Gamma(a_w_0, 1/b_w_0)\n",
    "\n",
    "anim = @animate for i in 1:100:length(a_w)\n",
    "    s = plot();\n",
    "    if a_w[i] <= 0 || b_w[i] <= 0\n",
    "        continue\n",
    "    end\n",
    "    posterior = Distributions.Gamma(a_w[i], 1/b_w[i])\n",
    "    plot!(pdf(prior,0:0.1:10), label=\"prior\")\n",
    "    plot!(pdf(posterior,0:0.1:10), label=\"posterior\")\n",
    "end\n",
    "gif(anim, \"../gifs/AR-gamma.gif\", fps = 10)"
   ]
  },
  {
   "cell_type": "code",
   "execution_count": 39,
   "metadata": {},
   "outputs": [
    {
     "name": "stdout",
     "output_type": "stream",
     "text": [
      "Δnoise(process, inferred)=0.036120904544244437\n"
     ]
    }
   ],
   "source": [
    "println(\"Δnoise(process, inferred)=\", abs(p_noise_var - mean(marginals[:w])^-1))"
   ]
  },
  {
   "cell_type": "code",
   "execution_count": 40,
   "metadata": {},
   "outputs": [],
   "source": [
    "# For plotting contours\n",
    "using LinearAlgebra; \n",
    " # use pyplot backend and define some defaults\n",
    "\n",
    "len = 64\n",
    "\n",
    "# Definition of the bivariate gaussian using a covariance matrix\n",
    "𝓝(x, μ, Σ) = 1/((2 * π)^(length(μ)/2) * det(Σ)^(1/2)) * exp(-(1/2) * (x-μ)' * Σ^(-1) * (x-μ));"
   ]
  },
  {
   "cell_type": "code",
   "execution_count": 41,
   "metadata": {},
   "outputs": [
    {
     "ename": "DimensionMismatch",
     "evalue": "DimensionMismatch(\"dimensions must match\")",
     "output_type": "error",
     "traceback": [
      "DimensionMismatch(\"dimensions must match\")",
      "",
      "Stacktrace:",
      " [1] promote_shape at ./indices.jl:154 [inlined]",
      " [2] promote_shape at ./indices.jl:145 [inlined]",
      " [3] - at ./arraymath.jl:38 [inlined]",
      " [4] 𝓝(::Array{Float64,1}, ::Array{Float64,1}, ::Array{Float64,2}) at ./In[40]:8",
      " [5] (::getfield(Main, Symbol(\"##15#16\")))(::Float64, ::Float64) at ./In[41]:17",
      " [6] Surface(::getfield(Main, Symbol(\"##15#16\")), ::StepRangeLen{Float64,Base.TwicePrecision{Float64},Base.TwicePrecision{Float64}}, ::StepRangeLen{Float64,Base.TwicePrecision{Float64},Base.TwicePrecision{Float64}}) at /Users/albertpod/.julia/packages/Plots/gylTh/src/components.jl:658",
      " [7] macro expansion at /Users/albertpod/.julia/packages/Plots/gylTh/src/series.jl:473 [inlined]",
      " [8] apply_recipe(::Dict{Symbol,Any}, ::StepRangeLen{Float64,Base.TwicePrecision{Float64},Base.TwicePrecision{Float64}}, ::StepRangeLen{Float64,Base.TwicePrecision{Float64},Base.TwicePrecision{Float64}}, ::Function) at /Users/albertpod/.julia/packages/RecipesBase/Uz5AO/src/RecipesBase.jl:275",
      " [9] _process_userrecipes(::Plots.Plot{Plots.GRBackend}, ::Dict{Symbol,Any}, ::Tuple{StepRangeLen{Float64,Base.TwicePrecision{Float64},Base.TwicePrecision{Float64}},StepRangeLen{Float64,Base.TwicePrecision{Float64},Base.TwicePrecision{Float64}},getfield(Main, Symbol(\"##15#16\"))}) at /Users/albertpod/.julia/packages/Plots/gylTh/src/pipeline.jl:83",
      " [10] _plot!(::Plots.Plot{Plots.GRBackend}, ::Dict{Symbol,Any}, ::Tuple{StepRangeLen{Float64,Base.TwicePrecision{Float64},Base.TwicePrecision{Float64}},StepRangeLen{Float64,Base.TwicePrecision{Float64},Base.TwicePrecision{Float64}},getfield(Main, Symbol(\"##15#16\"))}) at /Users/albertpod/.julia/packages/Plots/gylTh/src/plot.jl:178",
      " [11] #plot!#141(::Base.Iterators.Pairs{Symbol,Any,Tuple{Symbol,Symbol,Symbol},NamedTuple{(:xlabel, :ylabel, :seriestype),Tuple{String,String,Symbol}}}, ::Function, ::Plots.Plot{Plots.GRBackend}, ::StepRangeLen{Float64,Base.TwicePrecision{Float64},Base.TwicePrecision{Float64}}, ::Vararg{Any,N} where N) at /Users/albertpod/.julia/packages/Plots/gylTh/src/plot.jl:158",
      " [12] (::getfield(RecipesBase, Symbol(\"#kw##plot!\")))(::NamedTuple{(:xlabel, :ylabel, :seriestype),Tuple{String,String,Symbol}}, ::typeof(plot!), ::Plots.Plot{Plots.GRBackend}, ::StepRangeLen{Float64,Base.TwicePrecision{Float64},Base.TwicePrecision{Float64}}, ::Vararg{Any,N} where N) at ./none:0",
      " [13] #plot!#140(::Base.Iterators.Pairs{Symbol,Any,Tuple{Symbol,Symbol,Symbol},NamedTuple{(:xlabel, :ylabel, :seriestype),Tuple{String,String,Symbol}}}, ::Function, ::StepRangeLen{Float64,Base.TwicePrecision{Float64},Base.TwicePrecision{Float64}}, ::Vararg{Any,N} where N) at /Users/albertpod/.julia/packages/Plots/gylTh/src/plot.jl:150",
      " [14] (::getfield(RecipesBase, Symbol(\"#kw##plot!\")))(::NamedTuple{(:xlabel, :ylabel, :seriestype),Tuple{String,String,Symbol}}, ::typeof(plot!), ::StepRangeLen{Float64,Base.TwicePrecision{Float64},Base.TwicePrecision{Float64}}, ::StepRangeLen{Float64,Base.TwicePrecision{Float64},Base.TwicePrecision{Float64}}, ::Vararg{Any,N} where N) at ./none:0",
      " [15] #contour!#397(::Base.Iterators.Pairs{Symbol,String,Tuple{Symbol,Symbol},NamedTuple{(:xlabel, :ylabel),Tuple{String,String}}}, ::Function, ::StepRangeLen{Float64,Base.TwicePrecision{Float64},Base.TwicePrecision{Float64}}, ::Vararg{Any,N} where N) at /Users/albertpod/.julia/packages/RecipesBase/Uz5AO/src/RecipesBase.jl:369",
      " [16] (::getfield(Plots, Symbol(\"#kw##contour!\")))(::NamedTuple{(:xlabel, :ylabel),Tuple{String,String}}, ::typeof(contour!), ::StepRangeLen{Float64,Base.TwicePrecision{Float64},Base.TwicePrecision{Float64}}, ::Vararg{Any,N} where N) at ./none:0",
      " [17] top-level scope at In[41]:17",
      " [18] top-level scope at /Users/albertpod/.julia/packages/Plots/gylTh/src/animation.jl:155",
      " [19] top-level scope at In[41]:1"
     ]
    }
   ],
   "source": [
    "# !!! ONLY FOR AR(2)\n",
    "\n",
    "# Plotting AR coefs\n",
    "anim = @animate for i in 1:100:length(m_a)\n",
    "    if !isassigned(m_a, i)\n",
    "        continue\n",
    "    end\n",
    "    s = plot();\n",
    "    plot!([m_a_0[1]],[m_a_0[2]], seriestype=:scatter, title = \"AR coefs\", label=\"prior\")\n",
    "    plot!([coefs[1]],[coefs[2]], seriestype=:scatter, label=\"true\")\n",
    "    plot!([m_a[i][1]],[m_a[i][2]], seriestype=:scatter, label=\"posterior\")\n",
    "    # get the maximum σ (used to construct the x and y ranges)\n",
    "    σ_max = sqrt((w_a[i][1]^-1 > w_a[i][4]^-1 ) ? w_a[i][1]^-1 : w_a[i][4]^-1)\n",
    "\n",
    "    rx = range(m_a[i][1]-3*σ_max, m_a[i][1]+3*σ_max, length=len)\n",
    "    ry = range(m_a[i][2]-3*σ_max, m_a[i][2]+3*σ_max, length=len)\n",
    "    contour!(rx, ry, (x1, x2) -> 𝓝([x1 ; x2], m_a[i], w_a[i]^-1), xlabel=\"a1\", ylabel=\"a2\")\n",
    "end\n",
    "gif(anim, \"../gifs/AR-coefs.gif\", fps = 10)"
   ]
  },
  {
   "cell_type": "code",
   "execution_count": 42,
   "metadata": {},
   "outputs": [
    {
     "data": {
      "text/plain": [
       "10-element Array{Float64,1}:\n",
       " -0.21983996266898148 \n",
       "  0.1009829709432127  \n",
       " -0.008890619061086505\n",
       " -0.20499858949027044 \n",
       "  0.028946605490908134\n",
       "  0.1522552107831785  \n",
       " -0.6996887391239058  \n",
       " -0.2671479598606842  \n",
       "  0.17945638828977928 \n",
       "  0.1849119945327074  "
      ]
     },
     "execution_count": 42,
     "metadata": {},
     "output_type": "execute_result"
    }
   ],
   "source": [
    "coefs"
   ]
  },
  {
   "cell_type": "code",
   "execution_count": 44,
   "metadata": {},
   "outputs": [
    {
     "data": {
      "text/plain": [
       "0.9638790954557556"
      ]
     },
     "execution_count": 44,
     "metadata": {},
     "output_type": "execute_result"
    }
   ],
   "source": [
    "mean(marginals[:w])^-1"
   ]
  },
  {
   "cell_type": "code",
   "execution_count": 45,
   "metadata": {},
   "outputs": [
    {
     "data": {
      "text/plain": [
       "10-element Array{Float64,1}:\n",
       " -0.2655096773890821  \n",
       "  0.04168944148294518 \n",
       " -0.022775038670294567\n",
       " -0.20896290705793058 \n",
       "  0.01944848427130319 \n",
       "  0.14004166688338743 \n",
       " -0.6838656098790034  \n",
       " -0.3115351548487379  \n",
       "  0.11375219370239587 \n",
       "  0.12858413187425174 "
      ]
     },
     "execution_count": 45,
     "metadata": {},
     "output_type": "execute_result"
    }
   ],
   "source": [
    "mean(marginals[:a])"
   ]
  },
  {
   "cell_type": "code",
   "execution_count": null,
   "metadata": {},
   "outputs": [],
   "source": []
  }
 ],
 "metadata": {
  "kernelspec": {
   "display_name": "Julia 1.1.0",
   "language": "julia",
   "name": "julia-1.1"
  },
  "language_info": {
   "file_extension": ".jl",
   "mimetype": "application/julia",
   "name": "julia",
   "version": "1.1.0"
  }
 },
 "nbformat": 4,
 "nbformat_minor": 2
}
