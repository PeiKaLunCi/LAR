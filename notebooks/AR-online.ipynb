{
 "cells": [
  {
   "cell_type": "markdown",
   "metadata": {},
   "source": [
    "# Online learning of AR(p) coefficients\n",
    "$$p(\\mathbf{x}_n\\,|\\,\\mathbf{x}_{n-1},\\mathbf{a},\\gamma) = \\mathcal{N}\\left(\\mathbf{x}_n \\;\\middle|\\; \\mathbf{A}\\mathbf{x}_{n-1}, \\mathbf{I}\\gamma^{-1} \\right)$$\n",
    "where\n",
    "\\begin{align*}\n",
    "    &\\mathbf{x}_n = (x_n, x_{n-1}, \\dots, x_{n-p+1})^\\text{T} \\quad \\mathbf{x}_{n-1} = (x_{n-1}, x_{n-2}, \\dots, x_{n-p})^\\text{T} \n",
    "    \\\\ \\\\\n",
    "    &\\mathbf{A} = \n",
    "    \\begin{bmatrix}\n",
    "        a_1 & a_2 & a_3 & \\dots & a_p \\\\\n",
    "        1 & 0 & 0 & \\dots & 0 \\\\ \n",
    "        0 & 1 & 0 & \\dots & 0 \\\\   \n",
    "        \\vdots & \\vdots & \\vdots & \\ddots & \\vdots \\\\\n",
    "        0 & 0 & 0 & \\dots & 0\n",
    "    \\end{bmatrix}\n",
    "    =\n",
    "    \\begin{bmatrix}\n",
    "         \\mathbf{a}^\\text{T} \\\\\n",
    "         \\mathbf{I}_{p-1} \\quad \\mathbf{0}\n",
    "    \\end{bmatrix}\n",
    "    \\\\ \\\\\n",
    "    &\\mathbf{I} = \\mathbf{I}_p = \n",
    "    \\begin{bmatrix}\n",
    "        1 & 0 & 0 & \\dots & 0 \\\\ \n",
    "        0 & 1 & 0 & \\dots & 0 \\\\   \n",
    "        \\vdots & \\vdots & \\vdots & \\ddots & \\vdots \\\\\n",
    "        0 & 0 & 0 & \\dots & 1\n",
    "    \\end{bmatrix}\n",
    "\\end{align*}"
   ]
  },
  {
   "cell_type": "code",
   "execution_count": 1,
   "metadata": {},
   "outputs": [
    {
     "name": "stderr",
     "output_type": "stream",
     "text": [
      "┌ Info: Precompiling Images [916415d5-f1e6-5110-898d-aaa5f9f070e0]\n",
      "└ @ Base loading.jl:1186\n",
      "┌ Info: Precompiling QuartzImageIO [dca85d43-d64c-5e67-8c65-017450d5d020]\n",
      "└ @ Base loading.jl:1186\n"
     ]
    },
    {
     "data": {
      "image/png": "[encoded data removed]",
      "text/plain": [
       "421×412 Array{RGBA{N0f8},2} with eltype RGBA{Normed{UInt8,8}}:\n",
       " RGBA{N0f8}(1.0,1.0,1.0,1.0)  …  RGBA{N0f8}(1.0,1.0,1.0,1.0)\n",
       " RGBA{N0f8}(1.0,1.0,1.0,1.0)     RGBA{N0f8}(1.0,1.0,1.0,1.0)\n",
       " RGBA{N0f8}(1.0,1.0,1.0,1.0)     RGBA{N0f8}(1.0,1.0,1.0,1.0)\n",
       " RGBA{N0f8}(1.0,1.0,1.0,1.0)     RGBA{N0f8}(1.0,1.0,1.0,1.0)\n",
       " RGBA{N0f8}(1.0,1.0,1.0,1.0)     RGBA{N0f8}(1.0,1.0,1.0,1.0)\n",
       " RGBA{N0f8}(1.0,1.0,1.0,1.0)  …  RGBA{N0f8}(1.0,1.0,1.0,1.0)\n",
       " RGBA{N0f8}(1.0,1.0,1.0,1.0)     RGBA{N0f8}(1.0,1.0,1.0,1.0)\n",
       " RGBA{N0f8}(1.0,1.0,1.0,1.0)     RGBA{N0f8}(1.0,1.0,1.0,1.0)\n",
       " RGBA{N0f8}(1.0,1.0,1.0,1.0)     RGBA{N0f8}(1.0,1.0,1.0,1.0)\n",
       " RGBA{N0f8}(1.0,1.0,1.0,1.0)     RGBA{N0f8}(1.0,1.0,1.0,1.0)\n",
       " RGBA{N0f8}(1.0,1.0,1.0,1.0)  …  RGBA{N0f8}(1.0,1.0,1.0,1.0)\n",
       " RGBA{N0f8}(1.0,1.0,1.0,1.0)     RGBA{N0f8}(1.0,1.0,1.0,1.0)\n",
       " RGBA{N0f8}(1.0,1.0,1.0,1.0)     RGBA{N0f8}(1.0,1.0,1.0,1.0)\n",
       " ⋮                            ⋱                             \n",
       " RGBA{N0f8}(1.0,1.0,1.0,1.0)     RGBA{N0f8}(1.0,1.0,1.0,1.0)\n",
       " RGBA{N0f8}(1.0,1.0,1.0,1.0)  …  RGBA{N0f8}(1.0,1.0,1.0,1.0)\n",
       " RGBA{N0f8}(1.0,1.0,1.0,1.0)     RGBA{N0f8}(1.0,1.0,1.0,1.0)\n",
       " RGBA{N0f8}(1.0,1.0,1.0,1.0)     RGBA{N0f8}(1.0,1.0,1.0,1.0)\n",
       " RGBA{N0f8}(1.0,1.0,1.0,1.0)     RGBA{N0f8}(1.0,1.0,1.0,1.0)\n",
       " RGBA{N0f8}(1.0,1.0,1.0,1.0)     RGBA{N0f8}(1.0,1.0,1.0,1.0)\n",
       " RGBA{N0f8}(1.0,1.0,1.0,1.0)  …  RGBA{N0f8}(1.0,1.0,1.0,1.0)\n",
       " RGBA{N0f8}(1.0,1.0,1.0,1.0)     RGBA{N0f8}(1.0,1.0,1.0,1.0)\n",
       " RGBA{N0f8}(1.0,1.0,1.0,1.0)     RGBA{N0f8}(1.0,1.0,1.0,1.0)\n",
       " RGBA{N0f8}(1.0,1.0,1.0,1.0)     RGBA{N0f8}(1.0,1.0,1.0,1.0)\n",
       " RGBA{N0f8}(1.0,1.0,1.0,1.0)     RGBA{N0f8}(1.0,1.0,1.0,1.0)\n",
       " RGBA{N0f8}(1.0,1.0,1.0,1.0)  …  RGBA{N0f8}(1.0,1.0,1.0,1.0)"
      ]
     },
     "execution_count": 1,
     "metadata": {},
     "output_type": "execute_result"
    }
   ],
   "source": [
    "using Images\n",
    "img = load(\"../ffgs/AR-online.png\")"
   ]
  },
  {
   "cell_type": "markdown",
   "metadata": {},
   "source": [
    "We are interested in a joint estimation of the AR coefficients $\\mathbf{a}$, the precision  of the driving noise $\\gamma$"
   ]
  },
  {
   "cell_type": "code",
   "execution_count": 16,
   "metadata": {},
   "outputs": [
    {
     "name": "stderr",
     "output_type": "stream",
     "text": [
      "WARNING: replacing module ARdata.\n",
      "WARNING: ignoring conflicting import of ARdata.use_data into Main\n",
      "WARNING: ignoring conflicting import of ARdata.generate_data into Main\n"
     ]
    }
   ],
   "source": [
    "using ProgressMeter\n",
    "using Revise\n",
    "using ForneyLab\n",
    "include(\"../AR-node/autoregression.jl\")\n",
    "include(\"../AR-node/rules_prototypes.jl\")\n",
    "include(\"../AR-node/vmp_rules.jl\")\n",
    "# helpers for evaluation of the model\n",
    "include(\"../helpers.jl\")\n",
    "# module to generate data for AR\n",
    "include(\"../data/ARdata.jl\")\n",
    "import Main.ARdata: use_data, generate_data\n",
    "import LinearAlgebra.I, LinearAlgebra.Symmetric\n",
    "import ForneyLab: unsafeCov, unsafeMean, unsafePrecision"
   ]
  },
  {
   "cell_type": "code",
   "execution_count": 24,
   "metadata": {},
   "outputs": [
    {
     "data": {
      "text/plain": [
       "([-0.221843, 0.0960999, -0.0162155, 0.019213, -0.419278, -0.23612, -0.116385, -0.0959833, -0.357645, 0.00349174], Array{Float64,1}[[-0.43931, -0.391835, -0.278556, 0.369086, 1.11299, 0.450886, 0.316231, -0.0839523, -0.0210019, 0.000188716], [-0.485192, -0.43931, -0.391835, -0.278556, 0.369086, 1.11299, 0.450886, 0.316231, -0.0839523, -0.0210019], [-0.484767, -0.485192, -0.43931, -0.391835, -0.278556, 0.369086, 1.11299, 0.450886, 0.316231, -0.0839523], [-0.093834, -0.484767, -0.485192, -0.43931, -0.391835, -0.278556, 0.369086, 1.11299, 0.450886, 0.316231], [-0.301524, -0.093834, -0.484767, -0.485192, -0.43931, -0.391835, -0.278556, 0.369086, 1.11299, 0.450886], [0.236654, -0.301524, -0.093834, -0.484767, -0.485192, -0.43931, -0.391835, -0.278556, 0.369086, 1.11299], [0.658737, 0.236654, -0.301524, -0.093834, -0.484767, -0.485192, -0.43931, -0.391835, -0.278556, 0.369086], [0.449244, 0.658737, 0.236654, -0.301524, -0.093834, -0.484767, -0.485192, -0.43931, -0.391835, -0.278556], [0.561224, 0.449244, 0.658737, 0.236654, -0.301524, -0.093834, -0.484767, -0.485192, -0.43931, -0.391835], [0.664751, 0.561224, 0.449244, 0.658737, 0.236654, -0.301524, -0.093834, -0.484767, -0.485192, -0.43931]  …  [0.216105, -0.481993, 1.29736, -0.191283, 0.499059, -0.121903, 0.225366, -0.940632, 0.0927537, -0.431105], [-0.705734, 0.216105, -0.481993, 1.29736, -0.191283, 0.499059, -0.121903, 0.225366, -0.940632, 0.0927537], [0.295127, -0.705734, 0.216105, -0.481993, 1.29736, -0.191283, 0.499059, -0.121903, 0.225366, -0.940632], [-0.642421, 0.295127, -0.705734, 0.216105, -0.481993, 1.29736, -0.191283, 0.499059, -0.121903, 0.225366], [0.862102, -0.642421, 0.295127, -0.705734, 0.216105, -0.481993, 1.29736, -0.191283, 0.499059, -0.121903], [-0.721132, 0.862102, -0.642421, 0.295127, -0.705734, 0.216105, -0.481993, 1.29736, -0.191283, 0.499059], [0.34573, -0.721132, 0.862102, -0.642421, 0.295127, -0.705734, 0.216105, -0.481993, 1.29736, -0.191283], [-1.00707, 0.34573, -0.721132, 0.862102, -0.642421, 0.295127, -0.705734, 0.216105, -0.481993, 1.29736], [0.970991, -1.00707, 0.34573, -0.721132, 0.862102, -0.642421, 0.295127, -0.705734, 0.216105, -0.481993], [-0.645505, 0.970991, -1.00707, 0.34573, -0.721132, 0.862102, -0.642421, 0.295127, -0.705734, 0.216105]])"
      ]
     },
     "execution_count": 24,
     "metadata": {},
     "output_type": "execute_result"
    }
   ],
   "source": [
    "ARorder = 10 # order of AR model\n",
    "diagAR(dim) = Matrix{Float64}(I, dim, dim)\n",
    "x = []\n",
    "# Coefs and Observations\n",
    "coefs, x = generate_data(10000, ARorder, 1, noise_variance=0.1)"
   ]
  },
  {
   "cell_type": "code",
   "execution_count": 25,
   "metadata": {},
   "outputs": [
    {
     "data": {
      "text/html": [
       "<?xml version=\"1.0\" encoding=\"UTF-8\" standalone=\"no\"?>\n",
       "<!DOCTYPE svg PUBLIC \"-//W3C//DTD SVG 1.1//EN\"\n",
       " \"http://www.w3.org/Graphics/SVG/1.1/DTD/svg11.dtd\">\n",
       "<!-- Generated by graphviz version 2.40.1 (20161225.0304)\n",
       " -->\n",
       "<!-- Title: G Pages: 1 -->\n",
       "<svg width=\"1912pt\" height=\"196pt\"\n",
       " viewBox=\"0.00 0.00 1912.22 196.00\" xmlns=\"http://www.w3.org/2000/svg\" xmlns:xlink=\"http://www.w3.org/1999/xlink\">\n",
       "<g id=\"graph0\" class=\"graph\" transform=\"scale(1 1) rotate(0) translate(4 192)\">\n",
       "<title>G</title>\n",
       "<polygon fill=\"#ffffff\" stroke=\"transparent\" points=\"-4,4 -4,-192 1908.2224,-192 1908.2224,4 -4,4\"/>\n",
       "<!-- 5631559122040787030 -->\n",
       "<g id=\"node1\" class=\"node\">\n",
       "<title>5631559122040787030</title>\n",
       "<polygon fill=\"#d3d3d3\" stroke=\"#000000\" points=\"284.9608,-179 200.0158,-179 200.0158,-125 284.9608,-125 284.9608,-179\"/>\n",
       "<text text-anchor=\"middle\" x=\"242.4883\" y=\"-149.3\" font-family=\"Times,serif\" font-size=\"9.00\" fill=\"#000000\">placeholder_a_w_t</text>\n",
       "</g>\n",
       "<!-- 6053369646629523709 -->\n",
       "<g id=\"node13\" class=\"node\">\n",
       "<title>6053369646629523709</title>\n",
       "<polygon fill=\"none\" stroke=\"#000000\" points=\"278.4883,-72 206.4883,-72 206.4883,0 278.4883,0 278.4883,-72\"/>\n",
       "<text text-anchor=\"middle\" x=\"242.4883\" y=\"-37.8\" font-family=\"Times,serif\" font-size=\"9.00\" fill=\"#000000\">Gam</text>\n",
       "<text text-anchor=\"middle\" x=\"242.4883\" y=\"-28.8\" font-family=\"Times,serif\" font-size=\"9.00\" fill=\"#000000\">gamma_1</text>\n",
       "</g>\n",
       "<!-- 5631559122040787030&#45;&#45;6053369646629523709 -->\n",
       "<g id=\"edge3\" class=\"edge\">\n",
       "<title>5631559122040787030&#45;&#45;6053369646629523709</title>\n",
       "<path fill=\"none\" stroke=\"#000000\" d=\"M242.4883,-124.8032C242.4883,-109.1333 242.4883,-89.2377 242.4883,-72.252\"/>\n",
       "<text text-anchor=\"start\" x=\"242.4883\" y=\"-91.6\" font-family=\"Times,serif\" font-size=\"8.00\" fill=\"#ff0000\">a_w_t</text>\n",
       "<text text-anchor=\"start\" x=\"230.9375\" y=\"-73.852\" font-family=\"Times,serif\" font-size=\"8.00\" fill=\"#000000\">2 a </text>\n",
       "<text text-anchor=\"start\" x=\"224.2656\" y=\"-118.4032\" font-family=\"Times,serif\" font-size=\"8.00\" fill=\"#000000\">1 out </text>\n",
       "</g>\n",
       "<!-- 12509871783932880352 -->\n",
       "<g id=\"node2\" class=\"node\">\n",
       "<title>12509871783932880352</title>\n",
       "<polygon fill=\"none\" stroke=\"#000000\" points=\"762.9634,-72 654.0131,-72 654.0131,0 762.9634,0 762.9634,-72\"/>\n",
       "<text text-anchor=\"middle\" x=\"708.4883\" y=\"-40.095\" font-family=\"Times,serif\" font-size=\"9.00\" fill=\"#000000\">𝒩</text>\n",
       "<text text-anchor=\"middle\" x=\"708.4883\" y=\"-26.505\" font-family=\"Times,serif\" font-size=\"9.00\" fill=\"#000000\">gaussianmeanprecision_3</text>\n",
       "</g>\n",
       "<!-- 17014891355036284457 -->\n",
       "<g id=\"node3\" class=\"node\">\n",
       "<title>17014891355036284457</title>\n",
       "<polygon fill=\"#d3d3d3\" stroke=\"#000000\" points=\"84.9648,-179 .0117,-179 .0117,-125 84.9648,-125 84.9648,-179\"/>\n",
       "<text text-anchor=\"middle\" x=\"42.4883\" y=\"-149.3\" font-family=\"Times,serif\" font-size=\"9.00\" fill=\"#000000\">placeholder_b_w_t</text>\n",
       "</g>\n",
       "<!-- 17014891355036284457&#45;&#45;6053369646629523709 -->\n",
       "<g id=\"edge11\" class=\"edge\">\n",
       "<title>17014891355036284457&#45;&#45;6053369646629523709</title>\n",
       "<path fill=\"none\" stroke=\"#000000\" d=\"M85.3933,-127.1151C121.4337,-106.2116 172.3539,-76.6779 206.3476,-56.9616\"/>\n",
       "<text text-anchor=\"start\" x=\"148.4883\" y=\"-91.6\" font-family=\"Times,serif\" font-size=\"8.00\" fill=\"#ff0000\">b_w_t</text>\n",
       "<text text-anchor=\"start\" x=\"194.3476\" y=\"-58.5616\" font-family=\"Times,serif\" font-size=\"8.00\" fill=\"#000000\">3 b </text>\n",
       "<text text-anchor=\"start\" x=\"85.3933\" y=\"-128.7151\" font-family=\"Times,serif\" font-size=\"8.00\" fill=\"#000000\">1 out </text>\n",
       "</g>\n",
       "<!-- 16708911695678382631 -->\n",
       "<g id=\"node4\" class=\"node\">\n",
       "<title>16708911695678382631</title>\n",
       "<polygon fill=\"#d3d3d3\" stroke=\"#000000\" points=\"751.4672,-179 665.5094,-179 665.5094,-125 751.4672,-125 751.4672,-179\"/>\n",
       "<text text-anchor=\"middle\" x=\"708.4883\" y=\"-149.3\" font-family=\"Times,serif\" font-size=\"9.00\" fill=\"#000000\">placeholder_m_x_t</text>\n",
       "</g>\n",
       "<!-- 16708911695678382631&#45;&#45;12509871783932880352 -->\n",
       "<g id=\"edge5\" class=\"edge\">\n",
       "<title>16708911695678382631&#45;&#45;12509871783932880352</title>\n",
       "<path fill=\"none\" stroke=\"#000000\" d=\"M700.7956,-124.9494C698.5404,-114.1271 696.9392,-101.5177 698.043,-90 698.5986,-84.2018 699.4825,-78.1008 700.5067,-72.1705\"/>\n",
       "<text text-anchor=\"start\" x=\"698.4883\" y=\"-91.6\" font-family=\"Times,serif\" font-size=\"8.00\" fill=\"#ff0000\">m_x_t</text>\n",
       "<text text-anchor=\"start\" x=\"686.284\" y=\"-73.7705\" font-family=\"Times,serif\" font-size=\"8.00\" fill=\"#000000\">2 m </text>\n",
       "<text text-anchor=\"start\" x=\"682.573\" y=\"-118.5494\" font-family=\"Times,serif\" font-size=\"8.00\" fill=\"#000000\">1 out </text>\n",
       "</g>\n",
       "<!-- 15067450165184403182 -->\n",
       "<g id=\"node5\" class=\"node\">\n",
       "<title>15067450165184403182</title>\n",
       "<polygon fill=\"#d3d3d3\" stroke=\"#000000\" points=\"1683.4575,-179 1577.519,-179 1577.519,-125 1683.4575,-125 1683.4575,-179\"/>\n",
       "<text text-anchor=\"middle\" x=\"1630.4883\" y=\"-149.3\" font-family=\"Times,serif\" font-size=\"9.00\" fill=\"#000000\">placeholder_m_x_t_prev</text>\n",
       "</g>\n",
       "<!-- 622037481490750646 -->\n",
       "<g id=\"node11\" class=\"node\">\n",
       "<title>622037481490750646</title>\n",
       "<polygon fill=\"none\" stroke=\"#000000\" points=\"1684.9634,-72 1576.0131,-72 1576.0131,0 1684.9634,0 1684.9634,-72\"/>\n",
       "<text text-anchor=\"middle\" x=\"1630.4883\" y=\"-40.095\" font-family=\"Times,serif\" font-size=\"9.00\" fill=\"#000000\">𝒩</text>\n",
       "<text text-anchor=\"middle\" x=\"1630.4883\" y=\"-26.505\" font-family=\"Times,serif\" font-size=\"9.00\" fill=\"#000000\">gaussianmeanprecision_2</text>\n",
       "</g>\n",
       "<!-- 15067450165184403182&#45;&#45;622037481490750646 -->\n",
       "<g id=\"edge6\" class=\"edge\">\n",
       "<title>15067450165184403182&#45;&#45;622037481490750646</title>\n",
       "<path fill=\"none\" stroke=\"#000000\" d=\"M1630.4883,-124.8032C1630.4883,-109.1333 1630.4883,-89.2377 1630.4883,-72.252\"/>\n",
       "<text text-anchor=\"start\" x=\"1630.4883\" y=\"-91.6\" font-family=\"Times,serif\" font-size=\"8.00\" fill=\"#ff0000\">m_x_t_prev</text>\n",
       "<text text-anchor=\"start\" x=\"1616.2656\" y=\"-73.852\" font-family=\"Times,serif\" font-size=\"8.00\" fill=\"#000000\">2 m </text>\n",
       "<text text-anchor=\"start\" x=\"1612.2656\" y=\"-118.4032\" font-family=\"Times,serif\" font-size=\"8.00\" fill=\"#000000\">1 out </text>\n",
       "</g>\n",
       "<!-- 2679923806169826677 -->\n",
       "<g id=\"node6\" class=\"node\">\n",
       "<title>2679923806169826677</title>\n",
       "<polygon fill=\"none\" stroke=\"#000000\" points=\"980.4737,-188 902.5029,-188 902.5029,-116 980.4737,-116 980.4737,-188\"/>\n",
       "<text text-anchor=\"middle\" x=\"941.4883\" y=\"-153.8\" font-family=\"Times,serif\" font-size=\"9.00\" fill=\"#000000\">Autoregression</text>\n",
       "<text text-anchor=\"middle\" x=\"941.4883\" y=\"-144.8\" font-family=\"Times,serif\" font-size=\"9.00\" fill=\"#000000\">autoregression_1</text>\n",
       "</g>\n",
       "<!-- 2679923806169826677&#45;&#45;12509871783932880352 -->\n",
       "<g id=\"edge4\" class=\"edge\">\n",
       "<title>2679923806169826677&#45;&#45;12509871783932880352</title>\n",
       "<path fill=\"none\" stroke=\"#000000\" d=\"M902.4893,-132.5842C864.2722,-113.5577 805.691,-84.3928 762.8993,-63.0887\"/>\n",
       "<text text-anchor=\"start\" x=\"832.4883\" y=\"-91.6\" font-family=\"Times,serif\" font-size=\"8.00\" fill=\"#ff0000\">x_t</text>\n",
       "<text text-anchor=\"start\" x=\"762.8993\" y=\"-64.6887\" font-family=\"Times,serif\" font-size=\"8.00\" fill=\"#000000\">1 out </text>\n",
       "<text text-anchor=\"start\" x=\"884.2667\" y=\"-134.1842\" font-family=\"Times,serif\" font-size=\"8.00\" fill=\"#000000\">1 out </text>\n",
       "</g>\n",
       "<!-- 1341112075584834627 -->\n",
       "<g id=\"node8\" class=\"node\">\n",
       "<title>1341112075584834627</title>\n",
       "<polygon fill=\"none\" stroke=\"#000000\" points=\"1304.9634,-72 1196.0131,-72 1196.0131,0 1304.9634,0 1304.9634,-72\"/>\n",
       "<text text-anchor=\"middle\" x=\"1250.4883\" y=\"-40.095\" font-family=\"Times,serif\" font-size=\"9.00\" fill=\"#000000\">𝒩</text>\n",
       "<text text-anchor=\"middle\" x=\"1250.4883\" y=\"-26.505\" font-family=\"Times,serif\" font-size=\"9.00\" fill=\"#000000\">gaussianmeanprecision_1</text>\n",
       "</g>\n",
       "<!-- 2679923806169826677&#45;&#45;1341112075584834627 -->\n",
       "<g id=\"edge1\" class=\"edge\">\n",
       "<title>2679923806169826677&#45;&#45;1341112075584834627</title>\n",
       "<path fill=\"none\" stroke=\"#000000\" d=\"M960.1219,-115.7794C966.7355,-106.0714 975.0431,-96.4836 984.9375,-90 1019.0739,-67.6312 1128.9133,-50.7791 1196.163,-42.2405\"/>\n",
       "<text text-anchor=\"start\" x=\"984.4883\" y=\"-91.6\" font-family=\"Times,serif\" font-size=\"8.00\" fill=\"#ff0000\">a</text>\n",
       "<text text-anchor=\"start\" x=\"1177.9403\" y=\"-43.8405\" font-family=\"Times,serif\" font-size=\"8.00\" fill=\"#000000\">1 out </text>\n",
       "<text text-anchor=\"start\" x=\"948.5711\" y=\"-109.3794\" font-family=\"Times,serif\" font-size=\"8.00\" fill=\"#000000\">3 a </text>\n",
       "</g>\n",
       "<!-- 2679923806169826677&#45;&#45;622037481490750646 -->\n",
       "<g id=\"edge8\" class=\"edge\">\n",
       "<title>2679923806169826677&#45;&#45;622037481490750646</title>\n",
       "<path fill=\"none\" stroke=\"#000000\" d=\"M980.4094,-139.7578C1026.9465,-125.5977 1107.417,-102.6201 1178.0508,-90 1259.1285,-75.5139 1280.6745,-81.4841 1362.4883,-72 1436.6354,-63.4047 1522.0609,-51.5991 1576.1521,-43.8867\"/>\n",
       "<text text-anchor=\"start\" x=\"1177.4883\" y=\"-91.6\" font-family=\"Times,serif\" font-size=\"8.00\" fill=\"#ff0000\">x_t_prev</text>\n",
       "<text text-anchor=\"start\" x=\"1557.9294\" y=\"-45.4867\" font-family=\"Times,serif\" font-size=\"8.00\" fill=\"#000000\">1 out </text>\n",
       "<text text-anchor=\"start\" x=\"980.4094\" y=\"-141.3578\" font-family=\"Times,serif\" font-size=\"8.00\" fill=\"#000000\">2 x </text>\n",
       "</g>\n",
       "<!-- 2679923806169826677&#45;&#45;6053369646629523709 -->\n",
       "<g id=\"edge7\" class=\"edge\">\n",
       "<title>2679923806169826677&#45;&#45;6053369646629523709</title>\n",
       "<path fill=\"none\" stroke=\"#000000\" d=\"M902.5452,-139.9146C876.2106,-132.1252 840.5254,-122.3091 808.4883,-116 745.302,-103.5566 728.5234,-106.6786 664.7109,-98 521.556,-78.5306 351.5085,-52.7483 278.5984,-41.5668\"/>\n",
       "<text text-anchor=\"start\" x=\"665.4883\" y=\"-91.6\" font-family=\"Times,serif\" font-size=\"8.00\" fill=\"#ff0000\">w</text>\n",
       "<text text-anchor=\"start\" x=\"278.5984\" y=\"-43.1668\" font-family=\"Times,serif\" font-size=\"8.00\" fill=\"#000000\">1 out </text>\n",
       "<text text-anchor=\"start\" x=\"887.2756\" y=\"-141.5146\" font-family=\"Times,serif\" font-size=\"8.00\" fill=\"#000000\">4 W </text>\n",
       "</g>\n",
       "<!-- 10118726423521519615 -->\n",
       "<g id=\"node7\" class=\"node\">\n",
       "<title>10118726423521519615</title>\n",
       "<polygon fill=\"#d3d3d3\" stroke=\"#000000\" points=\"1462.9605,-179 1378.0161,-179 1378.0161,-125 1462.9605,-125 1462.9605,-179\"/>\n",
       "<text text-anchor=\"middle\" x=\"1420.4883\" y=\"-149.3\" font-family=\"Times,serif\" font-size=\"9.00\" fill=\"#000000\">placeholder_m_a_t</text>\n",
       "</g>\n",
       "<!-- 10118726423521519615&#45;&#45;1341112075584834627 -->\n",
       "<g id=\"edge9\" class=\"edge\">\n",
       "<title>10118726423521519615&#45;&#45;1341112075584834627</title>\n",
       "<path fill=\"none\" stroke=\"#000000\" d=\"M1380.6308,-124.8032C1357.5683,-109.0664 1328.2598,-89.0676 1303.2973,-72.0344\"/>\n",
       "<text text-anchor=\"start\" x=\"1340.4883\" y=\"-91.6\" font-family=\"Times,serif\" font-size=\"8.00\" fill=\"#ff0000\">m_a_t</text>\n",
       "<text text-anchor=\"start\" x=\"1289.0747\" y=\"-73.6344\" font-family=\"Times,serif\" font-size=\"8.00\" fill=\"#000000\">2 m </text>\n",
       "<text text-anchor=\"start\" x=\"1362.4082\" y=\"-118.4032\" font-family=\"Times,serif\" font-size=\"8.00\" fill=\"#000000\">1 out </text>\n",
       "</g>\n",
       "<!-- 12812749651944191339 -->\n",
       "<g id=\"node9\" class=\"node\">\n",
       "<title>12812749651944191339</title>\n",
       "<polygon fill=\"#d3d3d3\" stroke=\"#000000\" points=\"484.9648,-179 400.0117,-179 400.0117,-125 484.9648,-125 484.9648,-179\"/>\n",
       "<text text-anchor=\"middle\" x=\"442.4883\" y=\"-149.3\" font-family=\"Times,serif\" font-size=\"9.00\" fill=\"#000000\">placeholder_w_x_t</text>\n",
       "</g>\n",
       "<!-- 12812749651944191339&#45;&#45;12509871783932880352 -->\n",
       "<g id=\"edge12\" class=\"edge\">\n",
       "<title>12812749651944191339&#45;&#45;12509871783932880352</title>\n",
       "<path fill=\"none\" stroke=\"#000000\" d=\"M429.3791,-124.7915C425.707,-112.94 424.5881,-99.5957 432.4883,-90 459.9918,-56.5939 581.7221,-43.5602 654.0122,-38.7025\"/>\n",
       "<text text-anchor=\"start\" x=\"432.4883\" y=\"-91.6\" font-family=\"Times,serif\" font-size=\"8.00\" fill=\"#ff0000\">w_x_t</text>\n",
       "<text text-anchor=\"start\" x=\"640.2348\" y=\"-40.3025\" font-family=\"Times,serif\" font-size=\"8.00\" fill=\"#000000\">3 w </text>\n",
       "<text text-anchor=\"start\" x=\"411.1564\" y=\"-118.3915\" font-family=\"Times,serif\" font-size=\"8.00\" fill=\"#000000\">1 out </text>\n",
       "</g>\n",
       "<!-- 4777630672277672105 -->\n",
       "<g id=\"node10\" class=\"node\">\n",
       "<title>4777630672277672105</title>\n",
       "<polygon fill=\"#d3d3d3\" stroke=\"#000000\" points=\"1904.4576,-179 1798.519,-179 1798.519,-125 1904.4576,-125 1904.4576,-179\"/>\n",
       "<text text-anchor=\"middle\" x=\"1851.4883\" y=\"-149.3\" font-family=\"Times,serif\" font-size=\"9.00\" fill=\"#000000\">placeholder_w_x_t_prev</text>\n",
       "</g>\n",
       "<!-- 4777630672277672105&#45;&#45;622037481490750646 -->\n",
       "<g id=\"edge2\" class=\"edge\">\n",
       "<title>4777630672277672105&#45;&#45;622037481490750646</title>\n",
       "<path fill=\"none\" stroke=\"#000000\" d=\"M1799.9525,-124.9496C1765.3874,-106.8068 1719.9365,-82.9502 1684.8069,-64.5111\"/>\n",
       "<text text-anchor=\"start\" x=\"1747.4883\" y=\"-91.6\" font-family=\"Times,serif\" font-size=\"8.00\" fill=\"#ff0000\">w_x_t_prev</text>\n",
       "<text text-anchor=\"start\" x=\"1684.8069\" y=\"-66.1111\" font-family=\"Times,serif\" font-size=\"8.00\" fill=\"#000000\">3 w </text>\n",
       "<text text-anchor=\"start\" x=\"1781.7299\" y=\"-118.5496\" font-family=\"Times,serif\" font-size=\"8.00\" fill=\"#000000\">1 out </text>\n",
       "</g>\n",
       "<!-- 5504533301685867279 -->\n",
       "<g id=\"node12\" class=\"node\">\n",
       "<title>5504533301685867279</title>\n",
       "<polygon fill=\"#d3d3d3\" stroke=\"#000000\" points=\"1262.9608,-179 1178.0158,-179 1178.0158,-125 1262.9608,-125 1262.9608,-179\"/>\n",
       "<text text-anchor=\"middle\" x=\"1220.4883\" y=\"-149.3\" font-family=\"Times,serif\" font-size=\"9.00\" fill=\"#000000\">placeholder_w_a_t</text>\n",
       "</g>\n",
       "<!-- 5504533301685867279&#45;&#45;1341112075584834627 -->\n",
       "<g id=\"edge10\" class=\"edge\">\n",
       "<title>5504533301685867279&#45;&#45;1341112075584834627</title>\n",
       "<path fill=\"none\" stroke=\"#000000\" d=\"M1227.5219,-124.8032C1231.5745,-109.1333 1236.7199,-89.2377 1241.1128,-72.252\"/>\n",
       "<text text-anchor=\"start\" x=\"1235.4883\" y=\"-91.6\" font-family=\"Times,serif\" font-size=\"8.00\" fill=\"#ff0000\">w_a_t</text>\n",
       "<text text-anchor=\"start\" x=\"1227.3354\" y=\"-73.852\" font-family=\"Times,serif\" font-size=\"8.00\" fill=\"#000000\">3 w </text>\n",
       "<text text-anchor=\"start\" x=\"1209.2993\" y=\"-118.4032\" font-family=\"Times,serif\" font-size=\"8.00\" fill=\"#000000\">1 out </text>\n",
       "</g>\n",
       "</g>\n",
       "</svg>\n"
      ]
     },
     "metadata": {},
     "output_type": "display_data"
    }
   ],
   "source": [
    "g = FactorGraph()\n",
    "\n",
    "# declare priors as random variables\n",
    "@RV m_x_t_prev\n",
    "@RV w_x_t_prev\n",
    "@RV m_x_t\n",
    "@RV w_x_t\n",
    "@RV a_w_t\n",
    "@RV b_w_t\n",
    "@RV m_a_t\n",
    "@RV w_a_t\n",
    "\n",
    "@RV a ~ GaussianMeanPrecision(m_a_t, w_a_t)\n",
    "@RV x_t_prev ~ GaussianMeanPrecision(m_x_t_prev, w_x_t_prev)\n",
    "@RV x_t ~ GaussianMeanPrecision(m_x_t, w_x_t)\n",
    "@RV w ~ Gamma(a_w_t, b_w_t)\n",
    "Autoregression(x_t, x_t_prev, a, w)\n",
    "\n",
    "# Placeholders for prior\n",
    "placeholder(a_w_t, :a_w_t)\n",
    "placeholder(b_w_t, :b_w_t)\n",
    "placeholder(m_a_t, :m_a_t, dims=(ARorder,))\n",
    "placeholder(w_a_t, :w_a_t, dims=(ARorder, ARorder))\n",
    "\n",
    "# Placeholder for data\n",
    "placeholder(m_x_t_prev, :m_x_t_prev, dims=(ARorder,))\n",
    "placeholder(w_x_t_prev, :w_x_t_prev, dims=(ARorder, ARorder))\n",
    "placeholder(m_x_t, :m_x_t, dims=(ARorder,))\n",
    "placeholder(w_x_t, :w_x_t, dims=(ARorder, ARorder))\n",
    "\n",
    "ForneyLab.draw(g)"
   ]
  },
  {
   "cell_type": "code",
   "execution_count": 26,
   "metadata": {},
   "outputs": [
    {
     "data": {
      "text/plain": [
       "stepW! (generic function with 3 methods)"
      ]
     },
     "execution_count": 26,
     "metadata": {},
     "output_type": "execute_result"
    }
   ],
   "source": [
    "# Specify recognition factorization\n",
    "q = RecognitionFactorization(a, w, ids=[:A, :W])\n",
    "\n",
    "# Generate the variational update algorithms for each recognition factor\n",
    "algo = variationalAlgorithm(q)\n",
    "\n",
    "# Load algorithms\n",
    "eval(Meta.parse(algo))"
   ]
  },
  {
   "cell_type": "code",
   "execution_count": 27,
   "metadata": {},
   "outputs": [],
   "source": [
    "# Define values for prior statistics\n",
    "a_w_0 = 20\n",
    "b_w_0 = 2\n",
    "m_a_0 = 5.0*rand(ARorder)\n",
    "w_a_0 = (tiny*diagAR(ARorder))\n",
    "\n",
    "# First observations\n",
    "m_x_prev_0 = x[1]\n",
    "w_x_prev_0 = (huge*diagAR(ARorder))\n",
    "m_x_0 = x[2]\n",
    "w_x_0 = (huge*diagAR(ARorder));"
   ]
  },
  {
   "cell_type": "code",
   "execution_count": 28,
   "metadata": {},
   "outputs": [],
   "source": [
    "# Storage\n",
    "m_x_prev = Vector{Vector{Float64}}(undef, length(x))\n",
    "w_x_prev = Vector{Array{Float64, 2}}(undef, length(x))\n",
    "m_x = Vector{Vector{Float64}}(undef, length(x))\n",
    "w_x = Vector{Array{Float64, 2}}(undef, length(x))\n",
    "a_w = Vector{Float64}(undef, length(x))\n",
    "b_w = Vector{Float64}(undef, length(x))\n",
    "m_a = Vector{Vector{Float64}}(undef, length(x))\n",
    "w_a = Vector{Array{Float64, 2}}(undef, length(x))\n",
    "\n",
    "# Inits\n",
    "m_x_t_prev_min = m_x_prev_0\n",
    "w_x_t_prev_min = w_x_prev_0\n",
    "m_x_t_min = m_x_0\n",
    "w_x_t_min = w_x_0\n",
    "a_w_t_min = a_w_0\n",
    "b_w_t_min = b_w_0\n",
    "m_a_t_min = m_a_0\n",
    "w_a_t_min = w_a_0;"
   ]
  },
  {
   "cell_type": "code",
   "execution_count": 29,
   "metadata": {},
   "outputs": [
    {
     "data": {
      "text/plain": [
       "11-element Array{Float64,1}:\n",
       " -0.4819931370892452 \n",
       "  0.2161050239333827 \n",
       " -0.7057343050006668 \n",
       "  0.29512667861522934\n",
       " -0.6424205589937092 \n",
       "  0.862102058873529  \n",
       " -0.721131702645465  \n",
       "  0.3457302758011943 \n",
       " -1.007074095519907  \n",
       "  0.9709906221390039 \n",
       " -0.6455046599477018 "
      ]
     },
     "execution_count": 29,
     "metadata": {},
     "output_type": "execute_result"
    }
   ],
   "source": [
    "marginals = Dict()\n",
    "n_its = 10\n",
    "testSize = 10 # Number of points for test set\n",
    "trainSize = length(x) - testSize\n",
    "MSEs = []; # Storage for MSE for test set\n",
    "\n",
    "# Storage for predictions\n",
    "predictions = []\n",
    "aCov = []\n",
    "aMean = []\n",
    "wVar = []\n",
    "actual = [x[1] for x in x][trainSize:end]"
   ]
  },
  {
   "cell_type": "code",
   "execution_count": 30,
   "metadata": {},
   "outputs": [
    {
     "name": "stderr",
     "output_type": "stream",
     "text": [
      "\r",
      "\u001b[32mObserved   5%|█▉                                        |  ETA: 0:00:21\u001b[39m\r",
      "\u001b[32mObserved  11%|████▋                                     |  ETA: 0:00:16\u001b[39m\r",
      "\u001b[32mObserved  17%|███████▍                                  |  ETA: 0:00:14\u001b[39m\r",
      "\u001b[32mObserved  24%|██████████                                |  ETA: 0:00:13\u001b[39m\r",
      "\u001b[32mObserved  30%|████████████▋                             |  ETA: 0:00:12\u001b[39m\r",
      "\u001b[32mObserved  36%|███████████████▍                          |  ETA: 0:00:10\u001b[39m\r",
      "\u001b[32mObserved  43%|██████████████████                        |  ETA: 0:00:09\u001b[39m\r",
      "\u001b[32mObserved  49%|████████████████████▊                     |  ETA: 0:00:08\u001b[39m\r",
      "\u001b[32mObserved  56%|███████████████████████▍                  |  ETA: 0:00:07\u001b[39m\r",
      "\u001b[32mObserved  62%|██████████████████████████                |  ETA: 0:00:06\u001b[39m\r",
      "\u001b[32mObserved  68%|████████████████████████████▋             |  ETA: 0:00:05\u001b[39m\r",
      "\u001b[32mObserved  75%|███████████████████████████████▌          |  ETA: 0:00:04\u001b[39m\r",
      "\u001b[32mObserved  81%|██████████████████████████████████▎       |  ETA: 0:00:03\u001b[39m\r",
      "\u001b[32mObserved  88%|█████████████████████████████████████     |  ETA: 0:00:02\u001b[39m\r",
      "\u001b[32mObserved  94%|███████████████████████████████████████▋  |  ETA: 0:00:01\u001b[39m\r",
      "\u001b[32mObserved 100%|██████████████████████████████████████████| Time: 0:00:16\u001b[39m\n"
     ]
    }
   ],
   "source": [
    "p = Progress(trainSize, 1, \"Observed \")\n",
    "for t = 2:trainSize\n",
    "    update!(p, t)\n",
    "    marginals[:a] = ProbabilityDistribution(Multivariate, GaussianMeanPrecision, m=m_a_t_min, w=w_a_t_min)\n",
    "    marginals[:x_t_prev] = ProbabilityDistribution(Multivariate, GaussianMeanPrecision, m=m_x_t_prev_min, w=w_x_t_prev_min)\n",
    "    marginals[:x_t] = ProbabilityDistribution(Multivariate, GaussianMeanPrecision, m=m_x_t_min, w=w_x_t_min)\n",
    "    marginals[:w] = ProbabilityDistribution(Univariate, Gamma, a=a_w_t_min, b=b_w_t_min)\n",
    "    global m_x_t_prev_min, w_x_t_prev_min, m_x_t_min, w_x_t_min,\n",
    "           a_w_t_min, b_w_t_min, m_a_t_min, w_a_t_min\n",
    "\n",
    "    data = Dict(:m_a_t => m_a_t_min,\n",
    "                :w_a_t => w_a_t_min,\n",
    "                :m_x_t_prev => m_x_t_prev_min,\n",
    "                :w_x_t_prev => w_x_t_prev_min,\n",
    "                :m_x_t => m_x_t_min,\n",
    "                :w_x_t => w_x_t_min,\n",
    "                :a_w_t => a_w_t_min,\n",
    "                :b_w_t => b_w_t_min)\n",
    "    for i = 1:n_its\n",
    "\n",
    "        stepA!(data, marginals)\n",
    "        stepW!(data, marginals)\n",
    "\n",
    "    end\n",
    "    m_a[t] = unsafeMean(marginals[:a])\n",
    "    w_a[t] = unsafePrecision(marginals[:a])\n",
    "    m_x[t] = unsafeMean(marginals[:x_t])\n",
    "    w_x[t] = (huge*diagAR(ARorder))\n",
    "    m_x_prev[t] = unsafeMean(marginals[:x_t_prev])\n",
    "    w_x_prev[t] = (huge*diagAR(ARorder))\n",
    "    a_w[t] = marginals[:w].params[:a]\n",
    "    b_w[t] = marginals[:w].params[:b]\n",
    "    m_a_t_min = m_a[t]\n",
    "    w_a_t_min = w_a[t]\n",
    "    m_x_t_prev_min = x[t]\n",
    "    w_x_t_prev_min = w_x_prev[t]\n",
    "    m_x_t_min = x[t+1]\n",
    "    w_x_t_min = w_x[t]\n",
    "    a_w_t_min = a_w[t]\n",
    "    b_w_t_min = b_w[t]\n",
    "    pred = [mean(marginals[:a])'x for x in x[trainSize-1:end-1]]\n",
    "    push!(aMean, mean(marginals[:a]))\n",
    "    push!(aCov, unsafeCov(marginals[:a]))\n",
    "    push!(wVar, mean(marginals[:w]))\n",
    "    push!(predictions, pred)\n",
    "    push!(MSEs, mse(pred, actual))\n",
    "end"
   ]
  },
  {
   "cell_type": "code",
   "execution_count": 31,
   "metadata": {},
   "outputs": [
    {
     "data": {
      "image/svg+xml": [
       "<?xml version=\"1.0\" encoding=\"utf-8\"?>\n",
       "<svg xmlns=\"http://www.w3.org/2000/svg\" xmlns:xlink=\"http://www.w3.org/1999/xlink\" width=\"600\" height=\"400\" viewBox=\"0 0 2400 1600\">\n",
       "<defs>\n",
       "  <clipPath id=\"clip6900\">\n",
       "    <rect x=\"0\" y=\"0\" width=\"2000\" height=\"2000\"/>\n",
       "  </clipPath>\n",
       "</defs>\n",
       "<defs>\n",
       "  <clipPath id=\"clip6901\">\n",
       "    <rect x=\"0\" y=\"0\" width=\"2400\" height=\"1600\"/>\n",
       "  </clipPath>\n",
       "</defs>\n",
       "<polygon clip-path=\"url(#clip6901)\" points=\"\n",
       "0,1600 2400,1600 2400,0 0,0 \n",
       "  \" fill=\"#ffffff\" fill-rule=\"evenodd\" fill-opacity=\"1\"/>\n",
       "<defs>\n",
       "  <clipPath id=\"clip6902\">\n",
       "    <rect x=\"480\" y=\"0\" width=\"1681\" height=\"1600\"/>\n",
       "  </clipPath>\n",
       "</defs>\n",
       "<polygon clip-path=\"url(#clip6901)\" points=\"\n",
       "211.005,1440.48 2321.26,1440.48 2321.26,125.984 211.005,125.984 \n",
       "  \" fill=\"#ffffff\" fill-rule=\"evenodd\" fill-opacity=\"1\"/>\n",
       "<defs>\n",
       "  <clipPath id=\"clip6903\">\n",
       "    <rect x=\"211\" y=\"125\" width=\"2111\" height=\"1315\"/>\n",
       "  </clipPath>\n",
       "</defs>\n",
       "<polyline clip-path=\"url(#clip6903)\" style=\"stroke:#000000; stroke-width:2; stroke-opacity:0.1; fill:none\" points=\"\n",
       "  250.62,1440.48 250.62,125.984 \n",
       "  \"/>\n",
       "<polyline clip-path=\"url(#clip6903)\" style=\"stroke:#000000; stroke-width:2; stroke-opacity:0.1; fill:none\" points=\"\n",
       "  753.349,1440.48 753.349,125.984 \n",
       "  \"/>\n",
       "<polyline clip-path=\"url(#clip6903)\" style=\"stroke:#000000; stroke-width:2; stroke-opacity:0.1; fill:none\" points=\"\n",
       "  1256.08,1440.48 1256.08,125.984 \n",
       "  \"/>\n",
       "<polyline clip-path=\"url(#clip6903)\" style=\"stroke:#000000; stroke-width:2; stroke-opacity:0.1; fill:none\" points=\"\n",
       "  1758.81,1440.48 1758.81,125.984 \n",
       "  \"/>\n",
       "<polyline clip-path=\"url(#clip6903)\" style=\"stroke:#000000; stroke-width:2; stroke-opacity:0.1; fill:none\" points=\"\n",
       "  2261.54,1440.48 2261.54,125.984 \n",
       "  \"/>\n",
       "<polyline clip-path=\"url(#clip6903)\" style=\"stroke:#000000; stroke-width:2; stroke-opacity:0.1; fill:none\" points=\"\n",
       "  211.005,1416.98 2321.26,1416.98 \n",
       "  \"/>\n",
       "<polyline clip-path=\"url(#clip6903)\" style=\"stroke:#000000; stroke-width:2; stroke-opacity:0.1; fill:none\" points=\"\n",
       "  211.005,1042.82 2321.26,1042.82 \n",
       "  \"/>\n",
       "<polyline clip-path=\"url(#clip6903)\" style=\"stroke:#000000; stroke-width:2; stroke-opacity:0.1; fill:none\" points=\"\n",
       "  211.005,668.665 2321.26,668.665 \n",
       "  \"/>\n",
       "<polyline clip-path=\"url(#clip6903)\" style=\"stroke:#000000; stroke-width:2; stroke-opacity:0.1; fill:none\" points=\"\n",
       "  211.005,294.508 2321.26,294.508 \n",
       "  \"/>\n",
       "<polyline clip-path=\"url(#clip6901)\" style=\"stroke:#000000; stroke-width:4; stroke-opacity:1; fill:none\" points=\"\n",
       "  211.005,1440.48 2321.26,1440.48 \n",
       "  \"/>\n",
       "<polyline clip-path=\"url(#clip6901)\" style=\"stroke:#000000; stroke-width:4; stroke-opacity:1; fill:none\" points=\"\n",
       "  211.005,1440.48 211.005,125.984 \n",
       "  \"/>\n",
       "<polyline clip-path=\"url(#clip6901)\" style=\"stroke:#000000; stroke-width:4; stroke-opacity:1; fill:none\" points=\"\n",
       "  250.62,1440.48 250.62,1420.77 \n",
       "  \"/>\n",
       "<polyline clip-path=\"url(#clip6901)\" style=\"stroke:#000000; stroke-width:4; stroke-opacity:1; fill:none\" points=\"\n",
       "  753.349,1440.48 753.349,1420.77 \n",
       "  \"/>\n",
       "<polyline clip-path=\"url(#clip6901)\" style=\"stroke:#000000; stroke-width:4; stroke-opacity:1; fill:none\" points=\"\n",
       "  1256.08,1440.48 1256.08,1420.77 \n",
       "  \"/>\n",
       "<polyline clip-path=\"url(#clip6901)\" style=\"stroke:#000000; stroke-width:4; stroke-opacity:1; fill:none\" points=\"\n",
       "  1758.81,1440.48 1758.81,1420.77 \n",
       "  \"/>\n",
       "<polyline clip-path=\"url(#clip6901)\" style=\"stroke:#000000; stroke-width:4; stroke-opacity:1; fill:none\" points=\"\n",
       "  2261.54,1440.48 2261.54,1420.77 \n",
       "  \"/>\n",
       "<polyline clip-path=\"url(#clip6901)\" style=\"stroke:#000000; stroke-width:4; stroke-opacity:1; fill:none\" points=\"\n",
       "  211.005,1416.98 242.659,1416.98 \n",
       "  \"/>\n",
       "<polyline clip-path=\"url(#clip6901)\" style=\"stroke:#000000; stroke-width:4; stroke-opacity:1; fill:none\" points=\"\n",
       "  211.005,1042.82 242.659,1042.82 \n",
       "  \"/>\n",
       "<polyline clip-path=\"url(#clip6901)\" style=\"stroke:#000000; stroke-width:4; stroke-opacity:1; fill:none\" points=\"\n",
       "  211.005,668.665 242.659,668.665 \n",
       "  \"/>\n",
       "<polyline clip-path=\"url(#clip6901)\" style=\"stroke:#000000; stroke-width:4; stroke-opacity:1; fill:none\" points=\"\n",
       "  211.005,294.508 242.659,294.508 \n",
       "  \"/>\n",
       "<g clip-path=\"url(#clip6901)\">\n",
       "<text style=\"fill:#000000; fill-opacity:1; font-family:Arial,Helvetica Neue,Helvetica,sans-serif; font-size:48px; text-anchor:middle;\" transform=\"rotate(0, 250.62, 1494.48)\" x=\"250.62\" y=\"1494.48\">0</text>\n",
       "</g>\n",
       "<g clip-path=\"url(#clip6901)\">\n",
       "<text style=\"fill:#000000; fill-opacity:1; font-family:Arial,Helvetica Neue,Helvetica,sans-serif; font-size:48px; text-anchor:middle;\" transform=\"rotate(0, 753.349, 1494.48)\" x=\"753.349\" y=\"1494.48\">25</text>\n",
       "</g>\n",
       "<g clip-path=\"url(#clip6901)\">\n",
       "<text style=\"fill:#000000; fill-opacity:1; font-family:Arial,Helvetica Neue,Helvetica,sans-serif; font-size:48px; text-anchor:middle;\" transform=\"rotate(0, 1256.08, 1494.48)\" x=\"1256.08\" y=\"1494.48\">50</text>\n",
       "</g>\n",
       "<g clip-path=\"url(#clip6901)\">\n",
       "<text style=\"fill:#000000; fill-opacity:1; font-family:Arial,Helvetica Neue,Helvetica,sans-serif; font-size:48px; text-anchor:middle;\" transform=\"rotate(0, 1758.81, 1494.48)\" x=\"1758.81\" y=\"1494.48\">75</text>\n",
       "</g>\n",
       "<g clip-path=\"url(#clip6901)\">\n",
       "<text style=\"fill:#000000; fill-opacity:1; font-family:Arial,Helvetica Neue,Helvetica,sans-serif; font-size:48px; text-anchor:middle;\" transform=\"rotate(0, 2261.54, 1494.48)\" x=\"2261.54\" y=\"1494.48\">100</text>\n",
       "</g>\n",
       "<g clip-path=\"url(#clip6901)\">\n",
       "<text style=\"fill:#000000; fill-opacity:1; font-family:Arial,Helvetica Neue,Helvetica,sans-serif; font-size:48px; text-anchor:end;\" transform=\"rotate(0, 187.005, 1434.48)\" x=\"187.005\" y=\"1434.48\">0</text>\n",
       "</g>\n",
       "<g clip-path=\"url(#clip6901)\">\n",
       "<text style=\"fill:#000000; fill-opacity:1; font-family:Arial,Helvetica Neue,Helvetica,sans-serif; font-size:48px; text-anchor:end;\" transform=\"rotate(0, 187.005, 1060.32)\" x=\"187.005\" y=\"1060.32\">5</text>\n",
       "</g>\n",
       "<g clip-path=\"url(#clip6901)\">\n",
       "<text style=\"fill:#000000; fill-opacity:1; font-family:Arial,Helvetica Neue,Helvetica,sans-serif; font-size:48px; text-anchor:end;\" transform=\"rotate(0, 187.005, 686.165)\" x=\"187.005\" y=\"686.165\">10</text>\n",
       "</g>\n",
       "<g clip-path=\"url(#clip6901)\">\n",
       "<text style=\"fill:#000000; fill-opacity:1; font-family:Arial,Helvetica Neue,Helvetica,sans-serif; font-size:48px; text-anchor:end;\" transform=\"rotate(0, 187.005, 312.008)\" x=\"187.005\" y=\"312.008\">15</text>\n",
       "</g>\n",
       "<g clip-path=\"url(#clip6901)\">\n",
       "<text style=\"fill:#000000; fill-opacity:1; font-family:Arial,Helvetica Neue,Helvetica,sans-serif; font-size:84px; text-anchor:middle;\" transform=\"rotate(0, 1266.13, 73.2)\" x=\"1266.13\" y=\"73.2\">mean squared error</text>\n",
       "</g>\n",
       "<g clip-path=\"url(#clip6901)\">\n",
       "<text style=\"fill:#000000; fill-opacity:1; font-family:Arial,Helvetica Neue,Helvetica,sans-serif; font-size:66px; text-anchor:middle;\" transform=\"rotate(0, 1266.13, 1590.4)\" x=\"1266.13\" y=\"1590.4\">observations</text>\n",
       "</g>\n",
       "<g clip-path=\"url(#clip6901)\">\n",
       "<text style=\"fill:#000000; fill-opacity:1; font-family:Arial,Helvetica Neue,Helvetica,sans-serif; font-size:66px; text-anchor:middle;\" transform=\"rotate(-90, 57.6, 783.233)\" x=\"57.6\" y=\"783.233\">MSE</text>\n",
       "</g>\n",
       "<polyline clip-path=\"url(#clip6903)\" style=\"stroke:#009af9; stroke-width:4; stroke-opacity:1; fill:none\" points=\"\n",
       "  270.729,1376.76 290.838,1371.3 310.948,1363.66 331.057,1345.1 351.166,1349.59 371.275,1338.25 391.384,1340.19 411.493,1279.68 431.602,163.187 451.712,233.414 \n",
       "  471.821,892.07 491.93,896.273 512.039,1168.03 532.148,1134.58 552.257,1114.87 572.367,1211.3 592.476,1298.57 612.585,1379.55 632.694,1358.5 652.803,1296.55 \n",
       "  672.912,1322.67 693.021,1312.21 713.131,1308.18 733.24,1323.65 753.349,1355.08 773.458,1395.56 793.567,1400.91 813.676,1399.2 833.786,1393.69 853.895,1392.76 \n",
       "  874.004,1399.24 894.113,1402.94 914.222,1400.34 934.331,1402.48 954.44,1401.44 974.55,1402.91 994.659,1401.42 1014.77,1401.44 1034.88,1402.02 1054.99,1400.95 \n",
       "  1075.1,1399.21 1095.2,1400.58 1115.31,1401.18 1135.42,1400.37 1155.53,1401.28 1175.64,1401.04 1195.75,1397.43 1215.86,1400.84 1235.97,1397.08 1256.08,1397.41 \n",
       "  1276.19,1397.03 1296.3,1402.37 1316.41,1396.82 1336.51,1395.9 1356.62,1396.27 1376.73,1400.29 1396.84,1397.05 1416.95,1398.43 1437.06,1400.13 1457.17,1395.93 \n",
       "  1477.28,1397.33 1497.39,1399.91 1517.5,1400.71 1537.61,1396.83 1557.72,1400.93 1577.82,1396.45 1597.93,1397.17 1618.04,1400.2 1638.15,1398.07 1658.26,1394.95 \n",
       "  1678.37,1397.99 1698.48,1397.78 1718.59,1399.63 1738.7,1399.66 1758.81,1401.49 1778.92,1401.36 1799.03,1400.38 1819.13,1399.08 1839.24,1401.71 1859.35,1400.23 \n",
       "  1879.46,1400.05 1899.57,1400.03 1919.68,1399.75 1939.79,1398.1 1959.9,1400.94 1980.01,1400.91 2000.12,1401.33 2020.23,1399.67 2040.33,1403.28 2060.44,1399.45 \n",
       "  2080.55,1400.82 2100.66,1400.35 2120.77,1400.1 2140.88,1396.22 2160.99,1399.82 2181.1,1400.04 2201.21,1398.06 2221.32,1400.34 2241.43,1398.1 2261.54,1401.49 \n",
       "  \n",
       "  \"/>\n",
       "</svg>\n"
      ]
     },
     "execution_count": 31,
     "metadata": {},
     "output_type": "execute_result"
    }
   ],
   "source": [
    "using Plots\n",
    "plot(MSEs[1:100], title=\"mean squared error\", xlabel=\"observations\", ylabel=\"MSE\", legend=false)"
   ]
  },
  {
   "cell_type": "code",
   "execution_count": 34,
   "metadata": {},
   "outputs": [
    {
     "name": "stderr",
     "output_type": "stream",
     "text": [
      "┌ Info: Saved animation to \n",
      "│   fn = /Users/albertpod/Documents/Julia/VariationalBayes/gifs/AR-online.gif\n",
      "└ @ Plots /Users/albertpod/.julia/packages/Plots/gylTh/src/animation.jl:90\n"
     ]
    },
    {
     "data": {
      "text/html": [
       "<img src=\"../gifs/AR-online.gif\" />"
      ],
      "text/plain": [
       "Plots.AnimatedGif(\"/Users/albertpod/Documents/Julia/VariationalBayes/gifs/AR-online.gif\")"
      ]
     },
     "execution_count": 34,
     "metadata": {},
     "output_type": "execute_result"
    }
   ],
   "source": [
    "# Plotting predictions\n",
    "anim = @animate for i in 1:100:length(predictions)\n",
    "    s = plot();\n",
    "    ylims!(minimum(actual) - .1, maximum(actual) + .1);\n",
    "    predicted = predictions[i]\n",
    "    plot!([actual, predicted], title = \"unforeseen data\", xlabel=\"time\", ylabel=\"value\", label=[\"actual\", \"predicted\"])\n",
    "end\n",
    "gif(anim, \"../gifs/AR-online.gif\", fps = 10)"
   ]
  },
  {
   "cell_type": "code",
   "execution_count": 37,
   "metadata": {},
   "outputs": [
    {
     "name": "stderr",
     "output_type": "stream",
     "text": [
      "┌ Info: Saved animation to \n",
      "│   fn = /Users/albertpod/Documents/Julia/VariationalBayes/gifs/AR-coefs.gif\n",
      "└ @ Plots /Users/albertpod/.julia/packages/Plots/gylTh/src/animation.jl:90\n"
     ]
    },
    {
     "data": {
      "text/html": [
       "<img src=\"../gifs/AR-coefs.gif\" />"
      ],
      "text/plain": [
       "Plots.AnimatedGif(\"/Users/albertpod/Documents/Julia/VariationalBayes/gifs/AR-coefs.gif\")"
      ]
     },
     "execution_count": 37,
     "metadata": {},
     "output_type": "execute_result"
    }
   ],
   "source": [
    "# Plotting AR coefs\n",
    "anim = @animate for i in 1:100:length(m_a)\n",
    "    if !isassigned(m_a, i)\n",
    "        continue\n",
    "    end\n",
    "    s = plot();\n",
    "    xlims!(coefs[1] - 0.5, coefs[1] + 0.5);\n",
    "    ylims!(coefs[2] - 0.5, coefs[2] + 0.5);\n",
    "    plot!([coefs[1]],[coefs[2]], seriestype=:scatter, title = \"AR coefs\", xlabel=\"1\", ylabel=\"2\")\n",
    "    plot!([m_a[i][1]],[m_a[i][2]], seriestype=:scatter)\n",
    "end\n",
    "gif(anim, \"../gifs/AR-coefs.gif\", fps = 10)"
   ]
  },
  {
   "cell_type": "code",
   "execution_count": 38,
   "metadata": {},
   "outputs": [
    {
     "name": "stderr",
     "output_type": "stream",
     "text": [
      "┌ Info: Saved animation to \n",
      "│   fn = /Users/albertpod/Documents/Julia/VariationalBayes/gifs/AR-weights.gif\n",
      "└ @ Plots /Users/albertpod/.julia/packages/Plots/gylTh/src/animation.jl:90\n"
     ]
    },
    {
     "data": {
      "text/html": [
       "<img src=\"../gifs/AR-weights.gif\" />"
      ],
      "text/plain": [
       "Plots.AnimatedGif(\"/Users/albertpod/Documents/Julia/VariationalBayes/gifs/AR-weights.gif\")"
      ]
     },
     "execution_count": 38,
     "metadata": {},
     "output_type": "execute_result"
    }
   ],
   "source": [
    "# Plotting noise coefs\n",
    "anim = @animate for i in 1:100:length(m_a)\n",
    "    if !isassigned(m_a, i)\n",
    "        continue\n",
    "    end\n",
    "    s = plot();\n",
    "    xlims!(-.5, .5);\n",
    "    ylims!(-.5, .5);\n",
    "    plot!([0.0], [0.0], seriestype=:scatter, title = \"noise\", xlabel=\"1\")\n",
    "    plot!([(a_w[i]/b_w[i])^-1], [0.0], seriestype=:scatter)\n",
    "end\n",
    "gif(anim, \"../gifs/AR-weights.gif\", fps = 10)"
   ]
  },
  {
   "cell_type": "code",
   "execution_count": null,
   "metadata": {},
   "outputs": [],
   "source": []
  }
 ],
 "metadata": {
  "kernelspec": {
   "display_name": "Julia 1.1.0",
   "language": "julia",
   "name": "julia-1.1"
  },
  "language_info": {
   "file_extension": ".jl",
   "mimetype": "application/julia",
   "name": "julia",
   "version": "1.1.0"
  }
 },
 "nbformat": 4,
 "nbformat_minor": 2
}
