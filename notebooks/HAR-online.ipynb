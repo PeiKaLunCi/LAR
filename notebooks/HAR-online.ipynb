{
 "cells": [
  {
   "cell_type": "markdown",
   "metadata": {},
   "source": [
    "# State estimation with unknown $\\mathbf{A}$ and $\\gamma$\n",
    "## Model specification\n",
    "$$p(\\mathbf{x, y, a, \\gamma}) = p(\\mathbf{x}_0)p(\\mathbf{a})p(\\gamma_x)p(\\gamma_y)\\prod_{n=1}^Np(\\mathbf{x}_n|\\mathbf{x}_{n-1}, \\mathbf{a, \\gamma_x})p(y_n|\\mathbf{x}_n, \\gamma_y)$$"
   ]
  },
  {
   "cell_type": "code",
   "execution_count": 1,
   "metadata": {},
   "outputs": [
    {
     "data": {
      "image/png": "[encoded data removed]",
      "text/plain": [
       "572×407 Array{RGBA{N0f8},2} with eltype RGBA{Normed{UInt8,8}}:\n",
       " RGBA{N0f8}(1.0,1.0,1.0,1.0)  …  RGBA{N0f8}(1.0,1.0,1.0,1.0)\n",
       " RGBA{N0f8}(1.0,1.0,1.0,1.0)     RGBA{N0f8}(1.0,1.0,1.0,1.0)\n",
       " RGBA{N0f8}(1.0,1.0,1.0,1.0)     RGBA{N0f8}(1.0,1.0,1.0,1.0)\n",
       " RGBA{N0f8}(1.0,1.0,1.0,1.0)     RGBA{N0f8}(1.0,1.0,1.0,1.0)\n",
       " RGBA{N0f8}(1.0,1.0,1.0,1.0)     RGBA{N0f8}(1.0,1.0,1.0,1.0)\n",
       " RGBA{N0f8}(1.0,1.0,1.0,1.0)  …  RGBA{N0f8}(1.0,1.0,1.0,1.0)\n",
       " RGBA{N0f8}(1.0,1.0,1.0,1.0)     RGBA{N0f8}(1.0,1.0,1.0,1.0)\n",
       " RGBA{N0f8}(1.0,1.0,1.0,1.0)     RGBA{N0f8}(1.0,1.0,1.0,1.0)\n",
       " RGBA{N0f8}(1.0,1.0,1.0,1.0)     RGBA{N0f8}(1.0,1.0,1.0,1.0)\n",
       " RGBA{N0f8}(1.0,1.0,1.0,1.0)     RGBA{N0f8}(1.0,1.0,1.0,1.0)\n",
       " RGBA{N0f8}(1.0,1.0,1.0,1.0)  …  RGBA{N0f8}(1.0,1.0,1.0,1.0)\n",
       " RGBA{N0f8}(1.0,1.0,1.0,1.0)     RGBA{N0f8}(1.0,1.0,1.0,1.0)\n",
       " RGBA{N0f8}(1.0,1.0,1.0,1.0)     RGBA{N0f8}(1.0,1.0,1.0,1.0)\n",
       " ⋮                            ⋱                             \n",
       " RGBA{N0f8}(1.0,1.0,1.0,1.0)  …  RGBA{N0f8}(1.0,1.0,1.0,1.0)\n",
       " RGBA{N0f8}(1.0,1.0,1.0,1.0)     RGBA{N0f8}(1.0,1.0,1.0,1.0)\n",
       " RGBA{N0f8}(1.0,1.0,1.0,1.0)     RGBA{N0f8}(1.0,1.0,1.0,1.0)\n",
       " RGBA{N0f8}(1.0,1.0,1.0,1.0)     RGBA{N0f8}(1.0,1.0,1.0,1.0)\n",
       " RGBA{N0f8}(1.0,1.0,1.0,1.0)     RGBA{N0f8}(1.0,1.0,1.0,1.0)\n",
       " RGBA{N0f8}(1.0,1.0,1.0,1.0)  …  RGBA{N0f8}(1.0,1.0,1.0,1.0)\n",
       " RGBA{N0f8}(1.0,1.0,1.0,1.0)     RGBA{N0f8}(1.0,1.0,1.0,1.0)\n",
       " RGBA{N0f8}(1.0,1.0,1.0,1.0)     RGBA{N0f8}(1.0,1.0,1.0,1.0)\n",
       " RGBA{N0f8}(1.0,1.0,1.0,1.0)     RGBA{N0f8}(1.0,1.0,1.0,1.0)\n",
       " RGBA{N0f8}(1.0,1.0,1.0,1.0)     RGBA{N0f8}(1.0,1.0,1.0,1.0)\n",
       " RGBA{N0f8}(1.0,1.0,1.0,1.0)  …  RGBA{N0f8}(1.0,1.0,1.0,1.0)\n",
       " RGBA{N0f8}(1.0,1.0,1.0,1.0)     RGBA{N0f8}(1.0,1.0,1.0,1.0)"
      ]
     },
     "execution_count": 1,
     "metadata": {},
     "output_type": "execute_result"
    }
   ],
   "source": [
    "using Images\n",
    "img = load(\"../ffgs/HAR-online.png\")"
   ]
  },
  {
   "cell_type": "markdown",
   "metadata": {},
   "source": [
    "The central quantity of our interest is a joint estimation of the AR coefficients $\\mathbf{a}$, the precision  of the driving noise $\\gamma_x$ and the states $\\mathbf{x}_n$, $\\mathbf{x}_{n-1}$."
   ]
  },
  {
   "cell_type": "code",
   "execution_count": 2,
   "metadata": {},
   "outputs": [
    {
     "name": "stderr",
     "output_type": "stream",
     "text": [
      "WARNING: using ForneyLab.mode in module Main conflicts with an existing identifier.\n"
     ]
    }
   ],
   "source": [
    "using ProgressMeter\n",
    "using Revise\n",
    "using ForneyLab\n",
    "include(\"../AR-node/autoregression.jl\")\n",
    "include(\"../AR-node/rules_prototypes.jl\")\n",
    "include(\"../AR-node/vmp_rules.jl\")\n",
    "# helpers for evaluation of the model\n",
    "include(\"../helpers.jl\")\n",
    "# module to generate data for AR\n",
    "include(\"../data/ARdata.jl\")\n",
    "import Main.ARdata: use_data, generate_data\n",
    "import LinearAlgebra.I, LinearAlgebra.Symmetric\n",
    "import ForneyLab: unsafeCov, unsafeMean, unsafePrecision"
   ]
  },
  {
   "cell_type": "code",
   "execution_count": 3,
   "metadata": {},
   "outputs": [
    {
     "data": {
      "text/plain": [
       "9999-element Array{Float64,1}:\n",
       "  1.2589173398620908 \n",
       "  1.9292067104056732 \n",
       " -2.112522384450297  \n",
       " -0.18684957214218412\n",
       " -1.6340746825370405 \n",
       "  0.3502971660002693 \n",
       " -0.1411826935208758 \n",
       " -0.15584994304119515\n",
       " -2.363171970273849  \n",
       " -0.225249300020883  \n",
       "  2.1281268420312607 \n",
       " -1.434007071723117  \n",
       " -0.8933819514763097 \n",
       "  ⋮                  \n",
       "  0.3196882103110844 \n",
       "  2.009414412430773  \n",
       " -0.9053585728541227 \n",
       "  0.245136904062878  \n",
       "  1.0458004530579994 \n",
       " -0.41688329462233353\n",
       "  0.6281108486566437 \n",
       " -0.06628106877302142\n",
       "  0.45943980000529183\n",
       " -2.126329674277401  \n",
       "  0.1724738167001318 \n",
       "  0.26085385801479355"
      ]
     },
     "execution_count": 3,
     "metadata": {},
     "output_type": "execute_result"
    }
   ],
   "source": [
    "ARorder = 2 # order of AR model\n",
    "diagAR(dim) = Matrix{Float64}(I, dim, dim)\n",
    "x = []\n",
    "# Coefs and real states\n",
    "coefs, x = generate_data(10000, ARorder, 1, noise_variance=0.1)\n",
    "# Observations\n",
    "measurement_noise = 1.0\n",
    "y = [xi[1] + sqrt(measurement_noise)*randn() for xi in x[2:end]];"
   ]
  },
  {
   "cell_type": "code",
   "execution_count": 5,
   "metadata": {},
   "outputs": [
    {
     "data": {
      "text/plain": [
       "Variable(:y_t, Edges:\n",
       "Edge belonging to variable y_t: ( addition_1.i[out] )----( placeholder_y_t.i[out] ).\n",
       ")"
      ]
     },
     "execution_count": 5,
     "metadata": {},
     "output_type": "execute_result"
    }
   ],
   "source": [
    "# Building the model\n",
    "g = FactorGraph()\n",
    "\n",
    "# declare priors as random variables\n",
    "@RV m_x_t_prev\n",
    "@RV w_x_t_prev\n",
    "@RV m_x_t\n",
    "@RV w_x_t\n",
    "@RV a_w_t\n",
    "@RV b_w_t\n",
    "@RV m_a_t\n",
    "@RV w_a_t\n",
    "\n",
    "@RV a ~ GaussianMeanPrecision(m_a_t, w_a_t)\n",
    "@RV x_t_prev ~ GaussianMeanPrecision(m_x_t_prev, w_x_t_prev)\n",
    "@RV w ~ Gamma(a_w_t, b_w_t)\n",
    "@RV x_t ~ GaussianMeanPrecision(m_x_t, w_x_t)\n",
    "Autoregression(x_t, x_t_prev, a, w)\n",
    "@RV n ~ GaussianMeanPrecision(0.0, 1.0)\n",
    "c = zeros(ARorder); c[1] = 1.0\n",
    "@RV y_t = dot(c, x_t) + n\n",
    "\n",
    "# Placeholders for prior\n",
    "placeholder(m_x_t_prev, :m_x_t_prev, dims=(ARorder,))\n",
    "placeholder(w_x_t_prev, :w_x_t_prev, dims=(ARorder, ARorder))\n",
    "placeholder(m_x_t, :m_x_t, dims=(ARorder,))\n",
    "placeholder(w_x_t, :w_x_t, dims=(ARorder, ARorder))\n",
    "placeholder(a_w_t, :a_w_t)\n",
    "placeholder(b_w_t, :b_w_t)\n",
    "placeholder(m_a_t, :m_a_t, dims=(ARorder,))\n",
    "placeholder(w_a_t, :w_a_t, dims=(ARorder, ARorder))\n",
    "\n",
    "# Placeholder for data\n",
    "placeholder(y_t, :y_t);"
   ]
  },
  {
   "cell_type": "code",
   "execution_count": 6,
   "metadata": {},
   "outputs": [
    {
     "data": {
      "text/plain": [
       "stepX_t! (generic function with 3 methods)"
      ]
     },
     "execution_count": 6,
     "metadata": {},
     "output_type": "execute_result"
    }
   ],
   "source": [
    "# Specify recognition factorization\n",
    "q = RecognitionFactorization(a, x_t_prev, x_t, w, ids=[:A, :X_t_prev, :X_t, :W])\n",
    "\n",
    "# Generate the variational update algorithms for each recognition factor\n",
    "algo = variationalAlgorithm(q)\n",
    "\n",
    "# Load algorithms\n",
    "eval(Meta.parse(algo))"
   ]
  },
  {
   "cell_type": "code",
   "execution_count": 7,
   "metadata": {},
   "outputs": [
    {
     "data": {
      "text/plain": [
       "10×10 Array{Float64,2}:\n",
       " 1.0e-12  0.0      0.0      0.0      …  0.0      0.0      0.0      0.0    \n",
       " 0.0      1.0e-12  0.0      0.0         0.0      0.0      0.0      0.0    \n",
       " 0.0      0.0      1.0e-12  0.0         0.0      0.0      0.0      0.0    \n",
       " 0.0      0.0      0.0      1.0e-12     0.0      0.0      0.0      0.0    \n",
       " 0.0      0.0      0.0      0.0         0.0      0.0      0.0      0.0    \n",
       " 0.0      0.0      0.0      0.0      …  0.0      0.0      0.0      0.0    \n",
       " 0.0      0.0      0.0      0.0         1.0e-12  0.0      0.0      0.0    \n",
       " 0.0      0.0      0.0      0.0         0.0      1.0e-12  0.0      0.0    \n",
       " 0.0      0.0      0.0      0.0         0.0      0.0      1.0e-12  0.0    \n",
       " 0.0      0.0      0.0      0.0         0.0      0.0      0.0      1.0e-12"
      ]
     },
     "execution_count": 7,
     "metadata": {},
     "output_type": "execute_result"
    }
   ],
   "source": [
    "# Define values for prior statistics\n",
    "m_x_prev_0 = 0.0*rand(ARorder)\n",
    "w_x_prev_0 = (tiny*diagAR(ARorder))\n",
    "m_x_0 = 0.0*rand(ARorder)\n",
    "w_x_0 = (tiny*diagAR(ARorder))\n",
    "a_w_0 = tiny\n",
    "b_w_0 = huge\n",
    "m_a_0 =  1.0*rand(ARorder)\n",
    "w_a_0 =  (tiny*diagAR(ARorder));"
   ]
  },
  {
   "cell_type": "code",
   "execution_count": 8,
   "metadata": {},
   "outputs": [],
   "source": [
    "# Storage\n",
    "m_x_prev = Vector{Vector{Float64}}(undef, length(x))\n",
    "w_x_prev = Vector{Array{Float64, 2}}(undef, length(x))\n",
    "m_x = Vector{Vector{Float64}}(undef, length(x))\n",
    "w_x = Vector{Array{Float64, 2}}(undef, length(x))\n",
    "a_w = Vector{Float64}(undef, length(x))\n",
    "b_w = Vector{Float64}(undef, length(x))\n",
    "m_a = Vector{Vector{Float64}}(undef, length(x))\n",
    "w_a = Vector{Array{Float64, 2}}(undef, length(x))\n",
    "\n",
    "# Inits\n",
    "m_x_t_prev_min = m_x_prev_0\n",
    "w_x_t_prev_min = w_x_prev_0\n",
    "m_x_t_min = m_x_0\n",
    "w_x_t_min = w_x_0\n",
    "a_w_t_min = a_w_0\n",
    "b_w_t_min = b_w_0\n",
    "m_a_t_min = m_a_0\n",
    "w_a_t_min = w_a_0;"
   ]
  },
  {
   "cell_type": "code",
   "execution_count": 10,
   "metadata": {},
   "outputs": [
    {
     "name": "stderr",
     "output_type": "stream",
     "text": [
      "\u001b[32mObserved 100%|██████████████████████████████████████████| Time: 0:00:32\u001b[39m\n"
     ]
    }
   ],
   "source": [
    "marginals = Dict()\n",
    "n_its = 10\n",
    "p = Progress(length(y), 1, \"Observed \")\n",
    "for t = 1:length(y)\n",
    "    update!(p, t)\n",
    "    marginals[:a] = ProbabilityDistribution(Multivariate, GaussianMeanPrecision, m=m_a_t_min, w=w_a_t_min)\n",
    "    marginals[:x_t_prev] = ProbabilityDistribution(Multivariate, GaussianMeanPrecision, m=m_x_t_prev_min, w=w_x_t_prev_min)\n",
    "    marginals[:x_t] = ProbabilityDistribution(Multivariate, GaussianMeanPrecision, m=m_x_t_min, w=w_x_t_min)\n",
    "    marginals[:w] = ProbabilityDistribution(Univariate, Gamma, a=a_w_t_min, b=b_w_t_min)\n",
    "    global m_x_t_prev_min, w_x_t_prev_min, m_x_t_min, w_x_t_min,\n",
    "           a_w_t_min, b_w_t_min, m_a_t_min, w_a_t_min\n",
    "\n",
    "    for i = 1:n_its\n",
    "        data = Dict(:y_t   => y[t],\n",
    "                    :m_a_t => m_a_t_min,\n",
    "                    :w_a_t => w_a_t_min,\n",
    "                    :m_x_t_prev => m_x_t_prev_min,\n",
    "                    :w_x_t_prev => w_x_t_prev_min,\n",
    "                    :m_x_t => m_x_t_min,\n",
    "                    :w_x_t => w_x_t_min,\n",
    "                    :a_w_t => a_w_t_min,\n",
    "                    :b_w_t => b_w_t_min)\n",
    "\n",
    "        stepA!(data, marginals)\n",
    "        stepW!(data, marginals)\n",
    "        stepX_t!(data, marginals)\n",
    "        stepX_t_prev!(data, marginals)\n",
    "    end\n",
    "\n",
    "    m_a[t] = unsafeMean(marginals[:a])\n",
    "    w_a[t] = unsafePrecision(marginals[:a])\n",
    "    m_x[t] = unsafeMean(marginals[:x_t])\n",
    "    w_x[t] = unsafePrecision(marginals[:x_t])\n",
    "    m_x_prev[t] = unsafeMean(marginals[:x_t_prev])\n",
    "    w_x_prev[t] = unsafePrecision(marginals[:x_t_prev])\n",
    "    a_w[t] = marginals[:w].params[:a]\n",
    "    b_w[t] = marginals[:w].params[:b]\n",
    "    # Store to buffer\n",
    "    m_a_t_min = m_a[t]\n",
    "    w_a_t_min = w_a[t]\n",
    "    m_x_t_prev_min = m_x_prev[t]\n",
    "    w_x_t_prev_min = w_x_prev[t]\n",
    "    m_x_t_min = m_x[t]\n",
    "    w_x_t_min = w_x[t]\n",
    "    a_w_t_min = a_w[t]\n",
    "    b_w_t_min = b_w[t]\n",
    "end"
   ]
  },
  {
   "cell_type": "code",
   "execution_count": 11,
   "metadata": {},
   "outputs": [
    {
     "name": "stdout",
     "output_type": "stream",
     "text": [
      "Δ(predicted, noise)=1.200954700615586\n",
      "Δ(predicted, actual)=0.20110931335775262\n"
     ]
    }
   ],
   "source": [
    "predicted = [x[1] for (t, x) in enumerate(m_x[1:end-1])]\n",
    "noise = [y[1] for y in y[1:end]]\n",
    "actual = [x[1] for x in x[2:end]]\n",
    "println(\"Δ(predicted, noise)=\", mse(predicted, noise))\n",
    "println(\"Δ(predicted, actual)=\", mse(predicted, actual))"
   ]
  },
  {
   "cell_type": "code",
   "execution_count": 13,
   "metadata": {},
   "outputs": [
    {
     "data": {
      "image/svg+xml": [
       "<?xml version=\"1.0\" encoding=\"utf-8\"?>\n",
       "<svg xmlns=\"http://www.w3.org/2000/svg\" xmlns:xlink=\"http://www.w3.org/1999/xlink\" width=\"600\" height=\"400\" viewBox=\"0 0 2400 1600\">\n",
       "<defs>\n",
       "  <clipPath id=\"clip2900\">\n",
       "    <rect x=\"0\" y=\"0\" width=\"2000\" height=\"2000\"/>\n",
       "  </clipPath>\n",
       "</defs>\n",
       "<defs>\n",
       "  <clipPath id=\"clip2901\">\n",
       "    <rect x=\"0\" y=\"0\" width=\"2400\" height=\"1600\"/>\n",
       "  </clipPath>\n",
       "</defs>\n",
       "<polygon clip-path=\"url(#clip2901)\" points=\"\n",
       "0,1600 2400,1600 2400,0 0,0 \n",
       "  \" fill=\"#ffffff\" fill-rule=\"evenodd\" fill-opacity=\"1\"/>\n",
       "<defs>\n",
       "  <clipPath id=\"clip2902\">\n",
       "    <rect x=\"480\" y=\"0\" width=\"1681\" height=\"1600\"/>\n",
       "  </clipPath>\n",
       "</defs>\n",
       "<polygon clip-path=\"url(#clip2901)\" points=\"\n",
       "149.361,1503.47 2321.26,1503.47 2321.26,47.2441 149.361,47.2441 \n",
       "  \" fill=\"#ffffff\" fill-rule=\"evenodd\" fill-opacity=\"1\"/>\n",
       "<defs>\n",
       "  <clipPath id=\"clip2903\">\n",
       "    <rect x=\"149\" y=\"47\" width=\"2173\" height=\"1457\"/>\n",
       "  </clipPath>\n",
       "</defs>\n",
       "<polyline clip-path=\"url(#clip2903)\" style=\"stroke:#000000; stroke-width:2; stroke-opacity:0.1; fill:none\" points=\"\n",
       "  438.492,1503.47 438.492,47.2441 \n",
       "  \"/>\n",
       "<polyline clip-path=\"url(#clip2903)\" style=\"stroke:#000000; stroke-width:2; stroke-opacity:0.1; fill:none\" points=\"\n",
       "  893.817,1503.47 893.817,47.2441 \n",
       "  \"/>\n",
       "<polyline clip-path=\"url(#clip2903)\" style=\"stroke:#000000; stroke-width:2; stroke-opacity:0.1; fill:none\" points=\"\n",
       "  1349.14,1503.47 1349.14,47.2441 \n",
       "  \"/>\n",
       "<polyline clip-path=\"url(#clip2903)\" style=\"stroke:#000000; stroke-width:2; stroke-opacity:0.1; fill:none\" points=\"\n",
       "  1804.47,1503.47 1804.47,47.2441 \n",
       "  \"/>\n",
       "<polyline clip-path=\"url(#clip2903)\" style=\"stroke:#000000; stroke-width:2; stroke-opacity:0.1; fill:none\" points=\"\n",
       "  2259.79,1503.47 2259.79,47.2441 \n",
       "  \"/>\n",
       "<polyline clip-path=\"url(#clip2903)\" style=\"stroke:#000000; stroke-width:2; stroke-opacity:0.1; fill:none\" points=\"\n",
       "  149.361,1355.29 2321.26,1355.29 \n",
       "  \"/>\n",
       "<polyline clip-path=\"url(#clip2903)\" style=\"stroke:#000000; stroke-width:2; stroke-opacity:0.1; fill:none\" points=\"\n",
       "  149.361,1060.76 2321.26,1060.76 \n",
       "  \"/>\n",
       "<polyline clip-path=\"url(#clip2903)\" style=\"stroke:#000000; stroke-width:2; stroke-opacity:0.1; fill:none\" points=\"\n",
       "  149.361,766.228 2321.26,766.228 \n",
       "  \"/>\n",
       "<polyline clip-path=\"url(#clip2903)\" style=\"stroke:#000000; stroke-width:2; stroke-opacity:0.1; fill:none\" points=\"\n",
       "  149.361,471.695 2321.26,471.695 \n",
       "  \"/>\n",
       "<polyline clip-path=\"url(#clip2903)\" style=\"stroke:#000000; stroke-width:2; stroke-opacity:0.1; fill:none\" points=\"\n",
       "  149.361,177.162 2321.26,177.162 \n",
       "  \"/>\n",
       "<polyline clip-path=\"url(#clip2901)\" style=\"stroke:#000000; stroke-width:4; stroke-opacity:1; fill:none\" points=\"\n",
       "  149.361,1503.47 2321.26,1503.47 \n",
       "  \"/>\n",
       "<polyline clip-path=\"url(#clip2901)\" style=\"stroke:#000000; stroke-width:4; stroke-opacity:1; fill:none\" points=\"\n",
       "  149.361,1503.47 149.361,47.2441 \n",
       "  \"/>\n",
       "<polyline clip-path=\"url(#clip2901)\" style=\"stroke:#000000; stroke-width:4; stroke-opacity:1; fill:none\" points=\"\n",
       "  438.492,1503.47 438.492,1481.63 \n",
       "  \"/>\n",
       "<polyline clip-path=\"url(#clip2901)\" style=\"stroke:#000000; stroke-width:4; stroke-opacity:1; fill:none\" points=\"\n",
       "  893.817,1503.47 893.817,1481.63 \n",
       "  \"/>\n",
       "<polyline clip-path=\"url(#clip2901)\" style=\"stroke:#000000; stroke-width:4; stroke-opacity:1; fill:none\" points=\"\n",
       "  1349.14,1503.47 1349.14,1481.63 \n",
       "  \"/>\n",
       "<polyline clip-path=\"url(#clip2901)\" style=\"stroke:#000000; stroke-width:4; stroke-opacity:1; fill:none\" points=\"\n",
       "  1804.47,1503.47 1804.47,1481.63 \n",
       "  \"/>\n",
       "<polyline clip-path=\"url(#clip2901)\" style=\"stroke:#000000; stroke-width:4; stroke-opacity:1; fill:none\" points=\"\n",
       "  2259.79,1503.47 2259.79,1481.63 \n",
       "  \"/>\n",
       "<polyline clip-path=\"url(#clip2901)\" style=\"stroke:#000000; stroke-width:4; stroke-opacity:1; fill:none\" points=\"\n",
       "  149.361,1355.29 181.939,1355.29 \n",
       "  \"/>\n",
       "<polyline clip-path=\"url(#clip2901)\" style=\"stroke:#000000; stroke-width:4; stroke-opacity:1; fill:none\" points=\"\n",
       "  149.361,1060.76 181.939,1060.76 \n",
       "  \"/>\n",
       "<polyline clip-path=\"url(#clip2901)\" style=\"stroke:#000000; stroke-width:4; stroke-opacity:1; fill:none\" points=\"\n",
       "  149.361,766.228 181.939,766.228 \n",
       "  \"/>\n",
       "<polyline clip-path=\"url(#clip2901)\" style=\"stroke:#000000; stroke-width:4; stroke-opacity:1; fill:none\" points=\"\n",
       "  149.361,471.695 181.939,471.695 \n",
       "  \"/>\n",
       "<polyline clip-path=\"url(#clip2901)\" style=\"stroke:#000000; stroke-width:4; stroke-opacity:1; fill:none\" points=\"\n",
       "  149.361,177.162 181.939,177.162 \n",
       "  \"/>\n",
       "<g clip-path=\"url(#clip2901)\">\n",
       "<text style=\"fill:#000000; fill-opacity:1; font-family:Arial,Helvetica Neue,Helvetica,sans-serif; font-size:48px; text-anchor:middle;\" transform=\"rotate(0, 438.492, 1557.47)\" x=\"438.492\" y=\"1557.47\">2</text>\n",
       "</g>\n",
       "<g clip-path=\"url(#clip2901)\">\n",
       "<text style=\"fill:#000000; fill-opacity:1; font-family:Arial,Helvetica Neue,Helvetica,sans-serif; font-size:48px; text-anchor:middle;\" transform=\"rotate(0, 893.817, 1557.47)\" x=\"893.817\" y=\"1557.47\">4</text>\n",
       "</g>\n",
       "<g clip-path=\"url(#clip2901)\">\n",
       "<text style=\"fill:#000000; fill-opacity:1; font-family:Arial,Helvetica Neue,Helvetica,sans-serif; font-size:48px; text-anchor:middle;\" transform=\"rotate(0, 1349.14, 1557.47)\" x=\"1349.14\" y=\"1557.47\">6</text>\n",
       "</g>\n",
       "<g clip-path=\"url(#clip2901)\">\n",
       "<text style=\"fill:#000000; fill-opacity:1; font-family:Arial,Helvetica Neue,Helvetica,sans-serif; font-size:48px; text-anchor:middle;\" transform=\"rotate(0, 1804.47, 1557.47)\" x=\"1804.47\" y=\"1557.47\">8</text>\n",
       "</g>\n",
       "<g clip-path=\"url(#clip2901)\">\n",
       "<text style=\"fill:#000000; fill-opacity:1; font-family:Arial,Helvetica Neue,Helvetica,sans-serif; font-size:48px; text-anchor:middle;\" transform=\"rotate(0, 2259.79, 1557.47)\" x=\"2259.79\" y=\"1557.47\">10</text>\n",
       "</g>\n",
       "<g clip-path=\"url(#clip2901)\">\n",
       "<text style=\"fill:#000000; fill-opacity:1; font-family:Arial,Helvetica Neue,Helvetica,sans-serif; font-size:48px; text-anchor:end;\" transform=\"rotate(0, 125.361, 1372.79)\" x=\"125.361\" y=\"1372.79\">-2</text>\n",
       "</g>\n",
       "<g clip-path=\"url(#clip2901)\">\n",
       "<text style=\"fill:#000000; fill-opacity:1; font-family:Arial,Helvetica Neue,Helvetica,sans-serif; font-size:48px; text-anchor:end;\" transform=\"rotate(0, 125.361, 1078.26)\" x=\"125.361\" y=\"1078.26\">-1</text>\n",
       "</g>\n",
       "<g clip-path=\"url(#clip2901)\">\n",
       "<text style=\"fill:#000000; fill-opacity:1; font-family:Arial,Helvetica Neue,Helvetica,sans-serif; font-size:48px; text-anchor:end;\" transform=\"rotate(0, 125.361, 783.728)\" x=\"125.361\" y=\"783.728\">0</text>\n",
       "</g>\n",
       "<g clip-path=\"url(#clip2901)\">\n",
       "<text style=\"fill:#000000; fill-opacity:1; font-family:Arial,Helvetica Neue,Helvetica,sans-serif; font-size:48px; text-anchor:end;\" transform=\"rotate(0, 125.361, 489.195)\" x=\"125.361\" y=\"489.195\">1</text>\n",
       "</g>\n",
       "<g clip-path=\"url(#clip2901)\">\n",
       "<text style=\"fill:#000000; fill-opacity:1; font-family:Arial,Helvetica Neue,Helvetica,sans-serif; font-size:48px; text-anchor:end;\" transform=\"rotate(0, 125.361, 194.662)\" x=\"125.361\" y=\"194.662\">2</text>\n",
       "</g>\n",
       "<polygon clip-path=\"url(#clip2903)\" points=\"\n",
       "210.829,395.436 438.492,296.724 666.154,660.628 893.817,700.787 1121.48,810.133 1349.14,785.62 1576.8,788.79 1804.47,791.708 2032.13,866.214 2259.79,862.849 \n",
       "  2259.79,955.989 2032.13,964.391 1804.47,895.841 1576.8,900.113 1349.14,905.862 1121.48,941.852 893.817,848.053 666.154,830.677 438.492,504.991 210.829,689.969 \n",
       "  \n",
       "  \" fill=\"#ff0000\" fill-rule=\"evenodd\" fill-opacity=\"0.2\"/>\n",
       "<polyline clip-path=\"url(#clip2903)\" style=\"stroke:#009af9; stroke-width:4; stroke-opacity:1; fill:none\" points=\"\n",
       "  210.829,395.436 438.492,296.724 666.154,660.628 893.817,700.787 1121.48,810.133 1349.14,785.62 1576.8,788.79 1804.47,791.708 2032.13,866.214 2259.79,862.849 \n",
       "  \n",
       "  \"/>\n",
       "<polygon clip-path=\"url(#clip2903)\" points=\"\n",
       "210.829,395.436 438.492,296.724 666.154,660.628 893.817,700.787 1121.48,810.133 1349.14,785.62 1576.8,788.79 1804.47,791.708 2032.13,866.214 2259.79,862.849 \n",
       "  2259.79,769.71 2032.13,768.036 1804.47,687.575 1576.8,677.467 1349.14,665.377 1121.48,678.414 893.817,553.52 666.154,490.58 438.492,88.4582 210.829,100.903 \n",
       "  \n",
       "  \" fill=\"#ff0000\" fill-rule=\"evenodd\" fill-opacity=\"0.2\"/>\n",
       "<polyline clip-path=\"url(#clip2903)\" style=\"stroke:#e26f46; stroke-width:4; stroke-opacity:1; fill:none\" points=\"\n",
       "  210.829,395.436 438.492,296.724 666.154,660.628 893.817,700.787 1121.48,810.133 1349.14,785.62 1576.8,788.79 1804.47,791.708 2032.13,866.214 2259.79,862.849 \n",
       "  \n",
       "  \"/>\n",
       "<polyline clip-path=\"url(#clip2903)\" style=\"stroke:#3da44d; stroke-width:4; stroke-opacity:1; fill:none\" points=\"\n",
       "  210.829,395.436 438.492,198.013 666.154,1388.44 893.817,821.262 1121.48,1247.52 1349.14,663.054 1576.8,807.811 1804.47,812.131 2032.13,1462.26 2259.79,832.572 \n",
       "  \n",
       "  \"/>\n",
       "<polyline clip-path=\"url(#clip2903)\" style=\"stroke:#c271d2; stroke-width:4; stroke-opacity:1; fill:none\" points=\"\n",
       "  210.829,943.694 438.492,566.859 666.154,747.916 893.817,859.299 1121.48,1118.18 1349.14,794.785 1576.8,807.662 1804.47,648.189 2032.13,1010.04 2259.79,662.378 \n",
       "  \n",
       "  \"/>\n",
       "<polygon clip-path=\"url(#clip2901)\" points=\"\n",
       "1811.29,433.164 2249.26,433.164 2249.26,130.764 1811.29,130.764 \n",
       "  \" fill=\"#ffffff\" fill-rule=\"evenodd\" fill-opacity=\"1\"/>\n",
       "<polyline clip-path=\"url(#clip2901)\" style=\"stroke:#000000; stroke-width:4; stroke-opacity:1; fill:none\" points=\"\n",
       "  1811.29,433.164 2249.26,433.164 2249.26,130.764 1811.29,130.764 1811.29,433.164 \n",
       "  \"/>\n",
       "<polygon clip-path=\"url(#clip2901)\" points=\"\n",
       "1835.29,215.436 1979.29,215.436 1979.29,167.052 1835.29,167.052 1835.29,215.436 \n",
       "  \" fill=\"#ff0000\" fill-rule=\"evenodd\" fill-opacity=\"0.2\"/>\n",
       "<polyline clip-path=\"url(#clip2901)\" style=\"stroke:#009af9; stroke-width:4; stroke-opacity:1; fill:none\" points=\"\n",
       "  1835.29,167.052 1979.29,167.052 \n",
       "  \"/>\n",
       "<g clip-path=\"url(#clip2901)\">\n",
       "<text style=\"fill:#000000; fill-opacity:1; font-family:Arial,Helvetica Neue,Helvetica,sans-serif; font-size:48px; text-anchor:start;\" transform=\"rotate(0, 2003.29, 208.744)\" x=\"2003.29\" y=\"208.744\">inferred</text>\n",
       "</g>\n",
       "<polygon clip-path=\"url(#clip2901)\" points=\"\n",
       "1835.29,275.916 1979.29,275.916 1979.29,227.532 1835.29,227.532 1835.29,275.916 \n",
       "  \" fill=\"#ff0000\" fill-rule=\"evenodd\" fill-opacity=\"0.2\"/>\n",
       "<polyline clip-path=\"url(#clip2901)\" style=\"stroke:#e26f46; stroke-width:4; stroke-opacity:1; fill:none\" points=\"\n",
       "  1835.29,227.532 1979.29,227.532 \n",
       "  \"/>\n",
       "<g clip-path=\"url(#clip2901)\">\n",
       "<text style=\"fill:#000000; fill-opacity:1; font-family:Arial,Helvetica Neue,Helvetica,sans-serif; font-size:48px; text-anchor:start;\" transform=\"rotate(0, 2003.29, 269.224)\" x=\"2003.29\" y=\"269.224\">inferred</text>\n",
       "</g>\n",
       "<polyline clip-path=\"url(#clip2901)\" style=\"stroke:#3da44d; stroke-width:4; stroke-opacity:1; fill:none\" points=\"\n",
       "  1835.29,312.204 1979.29,312.204 \n",
       "  \"/>\n",
       "<g clip-path=\"url(#clip2901)\">\n",
       "<text style=\"fill:#000000; fill-opacity:1; font-family:Arial,Helvetica Neue,Helvetica,sans-serif; font-size:48px; text-anchor:start;\" transform=\"rotate(0, 2003.29, 329.704)\" x=\"2003.29\" y=\"329.704\">noised</text>\n",
       "</g>\n",
       "<polyline clip-path=\"url(#clip2901)\" style=\"stroke:#c271d2; stroke-width:4; stroke-opacity:1; fill:none\" points=\"\n",
       "  1835.29,372.684 1979.29,372.684 \n",
       "  \"/>\n",
       "<g clip-path=\"url(#clip2901)\">\n",
       "<text style=\"fill:#000000; fill-opacity:1; font-family:Arial,Helvetica Neue,Helvetica,sans-serif; font-size:48px; text-anchor:start;\" transform=\"rotate(0, 2003.29, 390.184)\" x=\"2003.29\" y=\"390.184\">real state</text>\n",
       "</g>\n",
       "</svg>\n"
      ]
     },
     "execution_count": 13,
     "metadata": {},
     "output_type": "execute_result"
    }
   ],
   "source": [
    "v_x = [v_x[1]^-1 for v_x in w_x[1:end-1]] # variances of estimated state\n",
    "\n",
    "using Plots\n",
    "upto = 10 # limit for building a graph\n",
    "scale = 1.0 # scale for the variance\n",
    "plot([predicted[1:upto], predicted[1:upto]], fillrange=[predicted[1:upto] -\n",
    "      scale .* sqrt.(v_x[1:upto]), predicted[1:upto] +\n",
    "      scale .* sqrt.(v_x[1:upto])],\n",
    "      fillalpha = 0.2,\n",
    "      fillcolor = :red,\n",
    "      label=[\"inferred\", \"inferred\"])\n",
    "plot!(noise[1:upto], label=\"noised\")\n",
    "plot!(actual[1:upto], label=\"real state\")"
   ]
  },
  {
   "cell_type": "code",
   "execution_count": null,
   "metadata": {},
   "outputs": [],
   "source": []
  }
 ],
 "metadata": {
  "kernelspec": {
   "display_name": "Julia 1.1.0",
   "language": "julia",
   "name": "julia-1.1"
  },
  "language_info": {
   "file_extension": ".jl",
   "mimetype": "application/julia",
   "name": "julia",
   "version": "1.1.0"
  }
 },
 "nbformat": 4,
 "nbformat_minor": 2
}
