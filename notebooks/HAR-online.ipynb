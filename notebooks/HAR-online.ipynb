{
 "cells": [
  {
   "cell_type": "markdown",
   "metadata": {},
   "source": [
    "# State estimation with unknown $\\mathbf{A}$ and $\\gamma$\n",
    "## Model specification\n",
    "$$p(\\mathbf{x, y, a, \\gamma}) = p(\\mathbf{x}_0)p(\\mathbf{a})p(\\gamma_x)p(\\gamma_y)\\prod_{n=1}^Np(\\mathbf{x}_n|\\mathbf{x}_{n-1}, \\mathbf{a, \\gamma_x})p(y_n|\\mathbf{x}_n, \\gamma_y)$$"
   ]
  },
  {
   "cell_type": "code",
   "execution_count": 356,
   "metadata": {},
   "outputs": [
    {
     "data": {
      "image/png": "[encoded data removed]",
      "text/plain": [
       "572×407 Array{RGBA{N0f8},2} with eltype RGBA{Normed{UInt8,8}}:\n",
       " RGBA{N0f8}(1.0,1.0,1.0,1.0)  …  RGBA{N0f8}(1.0,1.0,1.0,1.0)\n",
       " RGBA{N0f8}(1.0,1.0,1.0,1.0)     RGBA{N0f8}(1.0,1.0,1.0,1.0)\n",
       " RGBA{N0f8}(1.0,1.0,1.0,1.0)     RGBA{N0f8}(1.0,1.0,1.0,1.0)\n",
       " RGBA{N0f8}(1.0,1.0,1.0,1.0)     RGBA{N0f8}(1.0,1.0,1.0,1.0)\n",
       " RGBA{N0f8}(1.0,1.0,1.0,1.0)     RGBA{N0f8}(1.0,1.0,1.0,1.0)\n",
       " RGBA{N0f8}(1.0,1.0,1.0,1.0)  …  RGBA{N0f8}(1.0,1.0,1.0,1.0)\n",
       " RGBA{N0f8}(1.0,1.0,1.0,1.0)     RGBA{N0f8}(1.0,1.0,1.0,1.0)\n",
       " RGBA{N0f8}(1.0,1.0,1.0,1.0)     RGBA{N0f8}(1.0,1.0,1.0,1.0)\n",
       " RGBA{N0f8}(1.0,1.0,1.0,1.0)     RGBA{N0f8}(1.0,1.0,1.0,1.0)\n",
       " RGBA{N0f8}(1.0,1.0,1.0,1.0)     RGBA{N0f8}(1.0,1.0,1.0,1.0)\n",
       " RGBA{N0f8}(1.0,1.0,1.0,1.0)  …  RGBA{N0f8}(1.0,1.0,1.0,1.0)\n",
       " RGBA{N0f8}(1.0,1.0,1.0,1.0)     RGBA{N0f8}(1.0,1.0,1.0,1.0)\n",
       " RGBA{N0f8}(1.0,1.0,1.0,1.0)     RGBA{N0f8}(1.0,1.0,1.0,1.0)\n",
       " ⋮                            ⋱                             \n",
       " RGBA{N0f8}(1.0,1.0,1.0,1.0)  …  RGBA{N0f8}(1.0,1.0,1.0,1.0)\n",
       " RGBA{N0f8}(1.0,1.0,1.0,1.0)     RGBA{N0f8}(1.0,1.0,1.0,1.0)\n",
       " RGBA{N0f8}(1.0,1.0,1.0,1.0)     RGBA{N0f8}(1.0,1.0,1.0,1.0)\n",
       " RGBA{N0f8}(1.0,1.0,1.0,1.0)     RGBA{N0f8}(1.0,1.0,1.0,1.0)\n",
       " RGBA{N0f8}(1.0,1.0,1.0,1.0)     RGBA{N0f8}(1.0,1.0,1.0,1.0)\n",
       " RGBA{N0f8}(1.0,1.0,1.0,1.0)  …  RGBA{N0f8}(1.0,1.0,1.0,1.0)\n",
       " RGBA{N0f8}(1.0,1.0,1.0,1.0)     RGBA{N0f8}(1.0,1.0,1.0,1.0)\n",
       " RGBA{N0f8}(1.0,1.0,1.0,1.0)     RGBA{N0f8}(1.0,1.0,1.0,1.0)\n",
       " RGBA{N0f8}(1.0,1.0,1.0,1.0)     RGBA{N0f8}(1.0,1.0,1.0,1.0)\n",
       " RGBA{N0f8}(1.0,1.0,1.0,1.0)     RGBA{N0f8}(1.0,1.0,1.0,1.0)\n",
       " RGBA{N0f8}(1.0,1.0,1.0,1.0)  …  RGBA{N0f8}(1.0,1.0,1.0,1.0)\n",
       " RGBA{N0f8}(1.0,1.0,1.0,1.0)     RGBA{N0f8}(1.0,1.0,1.0,1.0)"
      ]
     },
     "execution_count": 356,
     "metadata": {},
     "output_type": "execute_result"
    }
   ],
   "source": [
    "using Images\n",
    "img = load(\"../ffgs/HAR-online.png\")"
   ]
  },
  {
   "cell_type": "markdown",
   "metadata": {},
   "source": [
    "The central quantity of our interest is a joint estimation of the AR coefficients $\\mathbf{a}$, the precision  of the driving noise $\\gamma_x$ and the states $\\mathbf{x}_n$, $\\mathbf{x}_{n-1}$."
   ]
  },
  {
   "cell_type": "code",
   "execution_count": 381,
   "metadata": {},
   "outputs": [
    {
     "name": "stderr",
     "output_type": "stream",
     "text": [
      "WARNING: replacing module ARdata.\n",
      "WARNING: ignoring conflicting import of ARdata.use_data into Main\n",
      "WARNING: ignoring conflicting import of ARdata.generate_data into Main\n"
     ]
    }
   ],
   "source": [
    "using ProgressMeter\n",
    "using Revise\n",
    "using ForneyLab\n",
    "include( \"../AR-node/autoregression.jl\")\n",
    "include(\"../AR-node/rules_prototypes.jl\")\n",
    "include(\"../AR-node/vmp_rules.jl\")\n",
    "# helpers for evaluation of the model\n",
    "include(\"../helpers/functions.jl\")\n",
    "# module to generate data for AR\n",
    "include(\"../data/ARdata.jl\")\n",
    "import Main.ARdata: use_data, generate_data\n",
    "import LinearAlgebra.I, LinearAlgebra.Symmetric\n",
    "import ForneyLab: unsafeCov, unsafeMean, unsafePrecision"
   ]
  },
  {
   "cell_type": "code",
   "execution_count": 424,
   "metadata": {},
   "outputs": [
    {
     "data": {
      "text/plain": [
       "9996-element Array{Float64,1}:\n",
       " -0.5171419199910463  \n",
       "  2.6697823403884637  \n",
       " -2.338045920612511   \n",
       "  2.7257272465890203  \n",
       " -1.5282765787231398  \n",
       "  0.39399673427604864 \n",
       "  2.498133888465529   \n",
       " -0.5868179167650605  \n",
       " -1.61197842102579    \n",
       " -0.3912127875909267  \n",
       " -0.28388153289378415 \n",
       "  2.6357134004568032  \n",
       "  1.2966042481713222  \n",
       "  ⋮                   \n",
       " -2.0445261652857853  \n",
       " -0.8071082717753597  \n",
       "  1.6957453170917054  \n",
       " -6.85773004092294    \n",
       "  1.2948401600446926  \n",
       " -1.315321318943628   \n",
       "  2.4361164587968034  \n",
       " -0.9164094282161016  \n",
       " -0.37182934320883687 \n",
       " -1.8799444959857756  \n",
       " -0.049323966358588045\n",
       "  0.6415531978347089  "
      ]
     },
     "execution_count": 424,
     "metadata": {},
     "output_type": "execute_result"
    }
   ],
   "source": [
    "ARorder = 5 # order of AR model\n",
    "diagAR(dim) = Matrix{Float64}(I, dim, dim)\n",
    "x = []\n",
    "# Coefs and real states\n",
    "coefs, x = generate_data(10000, ARorder, 1, noise_variance=1.0)\n",
    "# Observations\n",
    "measurement_noise = 3.0\n",
    "y = [xi[1] + sqrt(measurement_noise)*randn() for xi in x[ARorder:end]]"
   ]
  },
  {
   "cell_type": "code",
   "execution_count": 425,
   "metadata": {},
   "outputs": [
    {
     "data": {
      "text/plain": [
       "Variable(:y_t, Edges:\n",
       "Edge belonging to variable y_t: ( addition_1.i[out] )----( placeholder_y_t.i[out] ).\n",
       ")"
      ]
     },
     "execution_count": 425,
     "metadata": {},
     "output_type": "execute_result"
    }
   ],
   "source": [
    "# Building the model\n",
    "g = FactorGraph()\n",
    "\n",
    "# declare priors as random variables\n",
    "@RV m_x_t_prev\n",
    "@RV w_x_t_prev\n",
    "@RV a_w_t\n",
    "@RV b_w_t\n",
    "@RV m_a_t\n",
    "@RV w_a_t\n",
    "\n",
    "@RV a ~ GaussianMeanPrecision(m_a_t, w_a_t)\n",
    "@RV x_t_prev ~ GaussianMeanPrecision(m_x_t_prev, w_x_t_prev)\n",
    "@RV w ~ Gamma(a_w_t, b_w_t)\n",
    "@RV x_t = AR(a, x_t_prev, w)\n",
    "@RV n ~ GaussianMeanPrecision(0.0, measurement_noise^-1)\n",
    "c = zeros(ARorder); c[1] = 1.0\n",
    "@RV y_t = dot(c, x_t) + n\n",
    "\n",
    "# Placeholders for prior\n",
    "placeholder(m_x_t_prev, :m_x_t_prev, dims=(ARorder,))\n",
    "placeholder(w_x_t_prev, :w_x_t_prev, dims=(ARorder, ARorder))\n",
    "placeholder(a_w_t, :a_w_t)\n",
    "placeholder(b_w_t, :b_w_t)\n",
    "placeholder(m_a_t, :m_a_t, dims=(ARorder,))\n",
    "placeholder(w_a_t, :w_a_t, dims=(ARorder, ARorder))\n",
    "\n",
    "# Placeholder for data\n",
    "placeholder(y_t, :y_t)"
   ]
  },
  {
   "cell_type": "code",
   "execution_count": 426,
   "metadata": {},
   "outputs": [
    {
     "data": {
      "text/plain": [
       "stepX_t! (generic function with 3 methods)"
      ]
     },
     "execution_count": 426,
     "metadata": {},
     "output_type": "execute_result"
    }
   ],
   "source": [
    "# Specify recognition factorization\n",
    "q = RecognitionFactorization(a, x_t_prev, x_t, w, ids=[:A, :X_t_prev, :X_t, :W])\n",
    "\n",
    "# Generate the variational update algorithms for each recognition factor\n",
    "algo = variationalAlgorithm(q)\n",
    "\n",
    "# Load algorithms\n",
    "eval(Meta.parse(algo))"
   ]
  },
  {
   "cell_type": "code",
   "execution_count": 472,
   "metadata": {},
   "outputs": [],
   "source": [
    "# Define values for prior statistics\n",
    "m_x_prev_0 = 0.5 .+ zeros(ARorder)\n",
    "w_x_prev_0 = (tiny*diagAR(ARorder))\n",
    "a_w_0 = 0.001\n",
    "b_w_0 = 0.001\n",
    "m_a_0 =  coefs .+ zeros(ARorder)\n",
    "w_a_0 =  (0.01*diagAR(ARorder));"
   ]
  },
  {
   "cell_type": "code",
   "execution_count": 473,
   "metadata": {},
   "outputs": [],
   "source": [
    "# Storage\n",
    "m_x_prev = Vector{Vector{Float64}}(undef, length(y))\n",
    "w_x_prev = Vector{Array{Float64, 2}}(undef, length(y))\n",
    "a_w = Vector{Float64}(undef, length(y))\n",
    "b_w = Vector{Float64}(undef, length(y))\n",
    "m_a = Vector{Vector{Float64}}(undef, length(y))\n",
    "w_a = Vector{Array{Float64, 2}}(undef, length(y))\n",
    "\n",
    "# Inits\n",
    "m_x_t_prev_min = m_x_prev_0\n",
    "w_x_t_prev_min = w_x_prev_0\n",
    "a_w_t_min = a_w_0\n",
    "b_w_t_min = b_w_0\n",
    "m_a_t_min = m_a_0\n",
    "w_a_t_min = w_a_0;"
   ]
  },
  {
   "cell_type": "code",
   "execution_count": 474,
   "metadata": {},
   "outputs": [
    {
     "name": "stderr",
     "output_type": "stream",
     "text": [
      "\r",
      "\u001b[32mObserved   7%|██▊                                       |  ETA: 0:00:14\u001b[39m\r",
      "\u001b[32mObserved  14%|█████▋                                    |  ETA: 0:00:13\u001b[39m\r",
      "\u001b[32mObserved  22%|█████████▏                                |  ETA: 0:00:11\u001b[39m\r",
      "\u001b[32mObserved  30%|████████████▌                             |  ETA: 0:00:10\u001b[39m\r",
      "\u001b[32mObserved  37%|███████████████▋                          |  ETA: 0:00:09\u001b[39m\r",
      "\u001b[32mObserved  43%|██████████████████▏                       |  ETA: 0:00:08\u001b[39m\r",
      "\u001b[32mObserved  50%|█████████████████████                     |  ETA: 0:00:07\u001b[39m\r",
      "\u001b[32mObserved  57%|████████████████████████▏                 |  ETA: 0:00:06\u001b[39m\r",
      "\u001b[32mObserved  63%|██████████████████████████▌               |  ETA: 0:00:05\u001b[39m\r",
      "\u001b[32mObserved  70%|█████████████████████████████▌            |  ETA: 0:00:04\u001b[39m\r",
      "\u001b[32mObserved  78%|████████████████████████████████▋         |  ETA: 0:00:03\u001b[39m\r",
      "\u001b[32mObserved  85%|███████████████████████████████████▉      |  ETA: 0:00:02\u001b[39m\r",
      "\u001b[32mObserved  93%|███████████████████████████████████████▏  |  ETA: 0:00:01\u001b[39m\r",
      "\u001b[32mObserved 100%|██████████████████████████████████████████| Time: 0:00:14\u001b[39m\n"
     ]
    }
   ],
   "source": [
    "marginals = Dict()\n",
    "n_its = 10\n",
    "\n",
    "p = Progress(length(y), 1, \"Observed \")\n",
    "for t = 1:length(y)\n",
    "    update!(p, t)\n",
    "    marginals[:a] = ProbabilityDistribution(Multivariate, GaussianMeanPrecision, m=m_a_t_min, w=w_a_t_min)\n",
    "    marginals[:x_t_prev] = ProbabilityDistribution(Multivariate, GaussianMeanPrecision, m=m_x_t_prev_min, w=w_x_t_prev_min)\n",
    "    marginals[:w] = ProbabilityDistribution(Univariate, Gamma, a=a_w_t_min, b=b_w_t_min)\n",
    "    for i = 1:n_its\n",
    "        data = Dict(:y_t   => y[t],\n",
    "                    :m_a_t => m_a_t_min,\n",
    "                    :w_a_t => w_a_t_min,\n",
    "                    :a_w_t => a_w_t_min,\n",
    "                    :b_w_t => b_w_t_min,\n",
    "                    :m_x_t_prev => m_x_t_prev_min,\n",
    "                    :w_x_t_prev => w_x_t_prev_min)\n",
    "\n",
    "        stepX_t!(data, marginals)\n",
    "        stepA!(data, marginals)\n",
    "        #stepW!(data, marginals)\n",
    "        m_a[t] = unsafeMean(marginals[:a])\n",
    "        w_a[t] = unsafePrecision(marginals[:a])\n",
    "        m_x_prev[t] = unsafeMean(marginals[:x_t])\n",
    "        w_x_prev[t] = unsafePrecision(marginals[:x_t])\n",
    "        a_w[t] = marginals[:w].params[:a]\n",
    "        b_w[t] = marginals[:w].params[:b]\n",
    "        # Store to buffer\n",
    "        m_a_t_min = m_a[t]\n",
    "        w_a_t_min = w_a[t]\n",
    "        m_x_t_prev_min = m_x_prev[t]\n",
    "        w_x_t_prev_min = w_x_prev[t]\n",
    "        a_w_t_min = a_w[t]\n",
    "        b_w_t_min = b_w[t]\n",
    "    end\n",
    "end"
   ]
  },
  {
   "cell_type": "code",
   "execution_count": 470,
   "metadata": {},
   "outputs": [
    {
     "name": "stdout",
     "output_type": "stream",
     "text": [
      "Δ(predicted, actual)=1.5665859051608544\n",
      "Δ(predicted, noise)=3.1591168495027984\n",
      "Δ(noise, actual)=3.0294172719058237\n"
     ]
    }
   ],
   "source": [
    "# MSE analysis\n",
    "from = 1\n",
    "predicted = [x[1] for x in m_x_prev[from:end]]\n",
    "actual = [x[1] for x in x[ARorder:end]]\n",
    "noise = [y[1] for y in y[from:end]]\n",
    "\n",
    "println(\"Δ(predicted, actual)=\", mse(predicted, actual))\n",
    "println(\"Δ(predicted, noise)=\", mse(predicted, noise))\n",
    "println(\"Δ(noise, actual)=\", mse(noise, actual))"
   ]
  },
  {
   "cell_type": "code",
   "execution_count": 471,
   "metadata": {},
   "outputs": [
    {
     "data": {
      "image/svg+xml": [
       "<?xml version=\"1.0\" encoding=\"utf-8\"?>\n",
       "<svg xmlns=\"http://www.w3.org/2000/svg\" xmlns:xlink=\"http://www.w3.org/1999/xlink\" width=\"600\" height=\"400\" viewBox=\"0 0 2400 1600\">\n",
       "<defs>\n",
       "  <clipPath id=\"clip2500\">\n",
       "    <rect x=\"0\" y=\"0\" width=\"2000\" height=\"2000\"/>\n",
       "  </clipPath>\n",
       "</defs>\n",
       "<defs>\n",
       "  <clipPath id=\"clip2501\">\n",
       "    <rect x=\"0\" y=\"0\" width=\"2400\" height=\"1600\"/>\n",
       "  </clipPath>\n",
       "</defs>\n",
       "<polygon clip-path=\"url(#clip2501)\" points=\"\n",
       "0,1600 2400,1600 2400,0 0,0 \n",
       "  \" fill=\"#ffffff\" fill-rule=\"evenodd\" fill-opacity=\"1\"/>\n",
       "<defs>\n",
       "  <clipPath id=\"clip2502\">\n",
       "    <rect x=\"480\" y=\"0\" width=\"1681\" height=\"1600\"/>\n",
       "  </clipPath>\n",
       "</defs>\n",
       "<polygon clip-path=\"url(#clip2501)\" points=\"\n",
       "176.123,1503.47 2321.26,1503.47 2321.26,47.2441 176.123,47.2441 \n",
       "  \" fill=\"#ffffff\" fill-rule=\"evenodd\" fill-opacity=\"1\"/>\n",
       "<defs>\n",
       "  <clipPath id=\"clip2503\">\n",
       "    <rect x=\"176\" y=\"47\" width=\"2146\" height=\"1457\"/>\n",
       "  </clipPath>\n",
       "</defs>\n",
       "<polyline clip-path=\"url(#clip2503)\" style=\"stroke:#000000; stroke-width:2; stroke-opacity:0.1; fill:none\" points=\"\n",
       "  216.393,1503.47 216.393,47.2441 \n",
       "  \"/>\n",
       "<polyline clip-path=\"url(#clip2503)\" style=\"stroke:#000000; stroke-width:2; stroke-opacity:0.1; fill:none\" points=\"\n",
       "  727.432,1503.47 727.432,47.2441 \n",
       "  \"/>\n",
       "<polyline clip-path=\"url(#clip2503)\" style=\"stroke:#000000; stroke-width:2; stroke-opacity:0.1; fill:none\" points=\"\n",
       "  1238.47,1503.47 1238.47,47.2441 \n",
       "  \"/>\n",
       "<polyline clip-path=\"url(#clip2503)\" style=\"stroke:#000000; stroke-width:2; stroke-opacity:0.1; fill:none\" points=\"\n",
       "  1749.51,1503.47 1749.51,47.2441 \n",
       "  \"/>\n",
       "<polyline clip-path=\"url(#clip2503)\" style=\"stroke:#000000; stroke-width:2; stroke-opacity:0.1; fill:none\" points=\"\n",
       "  2260.55,1503.47 2260.55,47.2441 \n",
       "  \"/>\n",
       "<polyline clip-path=\"url(#clip2503)\" style=\"stroke:#000000; stroke-width:2; stroke-opacity:0.1; fill:none\" points=\"\n",
       "  176.123,1503.47 2321.26,1503.47 \n",
       "  \"/>\n",
       "<polyline clip-path=\"url(#clip2503)\" style=\"stroke:#000000; stroke-width:2; stroke-opacity:0.1; fill:none\" points=\"\n",
       "  176.123,1139.42 2321.26,1139.42 \n",
       "  \"/>\n",
       "<polyline clip-path=\"url(#clip2503)\" style=\"stroke:#000000; stroke-width:2; stroke-opacity:0.1; fill:none\" points=\"\n",
       "  176.123,775.359 2321.26,775.359 \n",
       "  \"/>\n",
       "<polyline clip-path=\"url(#clip2503)\" style=\"stroke:#000000; stroke-width:2; stroke-opacity:0.1; fill:none\" points=\"\n",
       "  176.123,411.302 2321.26,411.302 \n",
       "  \"/>\n",
       "<polyline clip-path=\"url(#clip2503)\" style=\"stroke:#000000; stroke-width:2; stroke-opacity:0.1; fill:none\" points=\"\n",
       "  176.123,47.2441 2321.26,47.2441 \n",
       "  \"/>\n",
       "<polyline clip-path=\"url(#clip2501)\" style=\"stroke:#000000; stroke-width:4; stroke-opacity:1; fill:none\" points=\"\n",
       "  176.123,1503.47 2321.26,1503.47 \n",
       "  \"/>\n",
       "<polyline clip-path=\"url(#clip2501)\" style=\"stroke:#000000; stroke-width:4; stroke-opacity:1; fill:none\" points=\"\n",
       "  176.123,1503.47 176.123,47.2441 \n",
       "  \"/>\n",
       "<polyline clip-path=\"url(#clip2501)\" style=\"stroke:#000000; stroke-width:4; stroke-opacity:1; fill:none\" points=\"\n",
       "  216.393,1503.47 216.393,1481.63 \n",
       "  \"/>\n",
       "<polyline clip-path=\"url(#clip2501)\" style=\"stroke:#000000; stroke-width:4; stroke-opacity:1; fill:none\" points=\"\n",
       "  727.432,1503.47 727.432,1481.63 \n",
       "  \"/>\n",
       "<polyline clip-path=\"url(#clip2501)\" style=\"stroke:#000000; stroke-width:4; stroke-opacity:1; fill:none\" points=\"\n",
       "  1238.47,1503.47 1238.47,1481.63 \n",
       "  \"/>\n",
       "<polyline clip-path=\"url(#clip2501)\" style=\"stroke:#000000; stroke-width:4; stroke-opacity:1; fill:none\" points=\"\n",
       "  1749.51,1503.47 1749.51,1481.63 \n",
       "  \"/>\n",
       "<polyline clip-path=\"url(#clip2501)\" style=\"stroke:#000000; stroke-width:4; stroke-opacity:1; fill:none\" points=\"\n",
       "  2260.55,1503.47 2260.55,1481.63 \n",
       "  \"/>\n",
       "<polyline clip-path=\"url(#clip2501)\" style=\"stroke:#000000; stroke-width:4; stroke-opacity:1; fill:none\" points=\"\n",
       "  176.123,1503.47 208.3,1503.47 \n",
       "  \"/>\n",
       "<polyline clip-path=\"url(#clip2501)\" style=\"stroke:#000000; stroke-width:4; stroke-opacity:1; fill:none\" points=\"\n",
       "  176.123,1139.42 208.3,1139.42 \n",
       "  \"/>\n",
       "<polyline clip-path=\"url(#clip2501)\" style=\"stroke:#000000; stroke-width:4; stroke-opacity:1; fill:none\" points=\"\n",
       "  176.123,775.359 208.3,775.359 \n",
       "  \"/>\n",
       "<polyline clip-path=\"url(#clip2501)\" style=\"stroke:#000000; stroke-width:4; stroke-opacity:1; fill:none\" points=\"\n",
       "  176.123,411.302 208.3,411.302 \n",
       "  \"/>\n",
       "<polyline clip-path=\"url(#clip2501)\" style=\"stroke:#000000; stroke-width:4; stroke-opacity:1; fill:none\" points=\"\n",
       "  176.123,47.2441 208.3,47.2441 \n",
       "  \"/>\n",
       "<g clip-path=\"url(#clip2501)\">\n",
       "<text style=\"fill:#000000; fill-opacity:1; font-family:Arial,Helvetica Neue,Helvetica,sans-serif; font-size:48px; text-anchor:middle;\" transform=\"rotate(0, 216.393, 1557.47)\" x=\"216.393\" y=\"1557.47\">0</text>\n",
       "</g>\n",
       "<g clip-path=\"url(#clip2501)\">\n",
       "<text style=\"fill:#000000; fill-opacity:1; font-family:Arial,Helvetica Neue,Helvetica,sans-serif; font-size:48px; text-anchor:middle;\" transform=\"rotate(0, 727.432, 1557.47)\" x=\"727.432\" y=\"1557.47\">25</text>\n",
       "</g>\n",
       "<g clip-path=\"url(#clip2501)\">\n",
       "<text style=\"fill:#000000; fill-opacity:1; font-family:Arial,Helvetica Neue,Helvetica,sans-serif; font-size:48px; text-anchor:middle;\" transform=\"rotate(0, 1238.47, 1557.47)\" x=\"1238.47\" y=\"1557.47\">50</text>\n",
       "</g>\n",
       "<g clip-path=\"url(#clip2501)\">\n",
       "<text style=\"fill:#000000; fill-opacity:1; font-family:Arial,Helvetica Neue,Helvetica,sans-serif; font-size:48px; text-anchor:middle;\" transform=\"rotate(0, 1749.51, 1557.47)\" x=\"1749.51\" y=\"1557.47\">75</text>\n",
       "</g>\n",
       "<g clip-path=\"url(#clip2501)\">\n",
       "<text style=\"fill:#000000; fill-opacity:1; font-family:Arial,Helvetica Neue,Helvetica,sans-serif; font-size:48px; text-anchor:middle;\" transform=\"rotate(0, 2260.55, 1557.47)\" x=\"2260.55\" y=\"1557.47\">100</text>\n",
       "</g>\n",
       "<g clip-path=\"url(#clip2501)\">\n",
       "<text style=\"fill:#000000; fill-opacity:1; font-family:Arial,Helvetica Neue,Helvetica,sans-serif; font-size:48px; text-anchor:end;\" transform=\"rotate(0, 152.123, 1520.97)\" x=\"152.123\" y=\"1520.97\">-10</text>\n",
       "</g>\n",
       "<g clip-path=\"url(#clip2501)\">\n",
       "<text style=\"fill:#000000; fill-opacity:1; font-family:Arial,Helvetica Neue,Helvetica,sans-serif; font-size:48px; text-anchor:end;\" transform=\"rotate(0, 152.123, 1156.92)\" x=\"152.123\" y=\"1156.92\">-5</text>\n",
       "</g>\n",
       "<g clip-path=\"url(#clip2501)\">\n",
       "<text style=\"fill:#000000; fill-opacity:1; font-family:Arial,Helvetica Neue,Helvetica,sans-serif; font-size:48px; text-anchor:end;\" transform=\"rotate(0, 152.123, 792.859)\" x=\"152.123\" y=\"792.859\">0</text>\n",
       "</g>\n",
       "<g clip-path=\"url(#clip2501)\">\n",
       "<text style=\"fill:#000000; fill-opacity:1; font-family:Arial,Helvetica Neue,Helvetica,sans-serif; font-size:48px; text-anchor:end;\" transform=\"rotate(0, 152.123, 428.802)\" x=\"152.123\" y=\"428.802\">5</text>\n",
       "</g>\n",
       "<g clip-path=\"url(#clip2501)\">\n",
       "<text style=\"fill:#000000; fill-opacity:1; font-family:Arial,Helvetica Neue,Helvetica,sans-serif; font-size:48px; text-anchor:end;\" transform=\"rotate(0, 152.123, 64.7441)\" x=\"152.123\" y=\"64.7441\">10</text>\n",
       "</g>\n",
       "<polygon clip-path=\"url(#clip2503)\" points=\"\n",
       "236.834,767.533 257.276,726.762 277.717,817.919 298.159,725.743 318.601,803.178 339.042,768.188 359.484,729.886 379.925,786.041 400.367,804.702 420.808,782.481 \n",
       "  441.25,780.527 461.691,727.382 482.133,751.757 502.575,771.6 523.016,831.812 543.458,770.074 563.899,770.97 584.341,760.144 604.782,779.966 625.224,766.035 \n",
       "  645.665,747.216 666.107,764.292 686.549,773.588 706.99,760.085 727.432,889.738 747.873,778.931 768.315,818.319 788.756,768.872 809.198,826.354 829.639,785.271 \n",
       "  850.081,782.454 870.523,737.13 890.964,765.393 911.406,722.1 931.847,746.865 952.289,731.851 972.73,728.276 993.172,751.834 1013.61,732.005 1034.06,733.99 \n",
       "  1054.5,712.941 1074.94,729.176 1095.38,781.241 1115.82,748.092 1136.26,766.339 1156.7,779.95 1177.15,724.04 1197.59,800.279 1218.03,797.244 1238.47,728.324 \n",
       "  1258.91,743.524 1279.35,769.917 1299.8,791.083 1320.24,886.145 1340.68,742.292 1361.12,852.195 1381.56,802.349 1402,753.749 1422.44,749.291 1442.89,800.131 \n",
       "  1463.33,757.402 1483.77,800.033 1504.21,784.14 1524.65,720.463 1545.09,762.074 1565.54,797.244 1585.98,717.77 1606.42,750.756 1626.86,734.83 1647.3,695.485 \n",
       "  1667.74,750.698 1688.18,694.775 1708.63,819.805 1729.07,862.914 1749.51,706.245 1769.95,804.616 1790.39,742.035 1810.83,782.885 1831.28,784.362 1851.72,708.489 \n",
       "  1872.16,749.257 1892.6,753.269 1913.04,720.612 1933.48,773.882 1953.93,788.068 1974.37,773.143 1994.81,783.581 2015.25,749.279 2035.69,732.117 2056.13,783.429 \n",
       "  2076.57,792.722 2097.02,724.201 2117.46,784.272 2137.9,699.678 2158.34,745.089 2178.78,777.364 2199.22,787.348 2219.67,805.807 2240.11,747.244 2260.55,796.438 \n",
       "  2260.55,859.495 2240.11,810.3 2219.67,868.863 2199.22,850.405 2178.78,840.421 2158.34,808.146 2137.9,762.735 2117.46,847.329 2097.02,787.257 2076.57,855.779 \n",
       "  2056.13,846.486 2035.69,795.174 2015.25,812.336 1994.81,846.637 1974.37,836.2 1953.93,851.125 1933.48,836.939 1913.04,783.669 1892.6,816.326 1872.16,812.314 \n",
       "  1851.72,771.546 1831.28,847.419 1810.83,845.942 1790.39,805.092 1769.95,867.673 1749.51,769.302 1729.07,925.97 1708.63,882.862 1688.18,757.832 1667.74,813.755 \n",
       "  1647.3,758.542 1626.86,797.886 1606.42,813.812 1585.98,780.827 1565.54,860.301 1545.09,825.131 1524.65,783.52 1504.21,847.197 1483.77,863.089 1463.33,820.458 \n",
       "  1442.89,863.188 1422.44,812.348 1402,816.806 1381.56,865.406 1361.12,915.252 1340.68,805.348 1320.24,949.202 1299.8,854.14 1279.35,832.973 1258.91,806.581 \n",
       "  1238.47,791.381 1218.03,860.301 1197.59,863.335 1177.15,787.097 1156.7,843.007 1136.26,829.396 1115.82,811.149 1095.38,844.298 1074.94,792.233 1054.5,775.998 \n",
       "  1034.06,797.047 1013.61,795.062 993.172,814.891 972.73,791.333 952.289,794.908 931.847,809.921 911.406,785.157 890.964,828.45 870.523,800.187 850.081,845.51 \n",
       "  829.639,848.327 809.198,889.41 788.756,831.929 768.315,881.375 747.873,841.987 727.432,952.795 706.99,823.142 686.549,836.644 666.107,827.348 645.665,810.273 \n",
       "  625.224,829.091 604.782,843.023 584.341,823.201 563.899,834.027 543.458,833.13 523.016,894.869 502.575,834.656 482.133,814.814 461.691,790.438 441.25,843.584 \n",
       "  420.808,845.537 400.367,867.759 379.925,849.098 359.484,792.943 339.042,831.244 318.601,866.235 298.159,788.8 277.717,880.975 257.276,789.818 236.834,830.59 \n",
       "  \n",
       "  \" fill=\"#ff0000\" fill-rule=\"evenodd\" fill-opacity=\"0.2\"/>\n",
       "<polyline clip-path=\"url(#clip2503)\" style=\"stroke:#000000; stroke-width:4; stroke-opacity:1; fill:none\" points=\"\n",
       "  236.834,767.533 257.276,726.762 277.717,817.919 298.159,725.743 318.601,803.178 339.042,768.188 359.484,729.886 379.925,786.041 400.367,804.702 420.808,782.481 \n",
       "  441.25,780.527 461.691,727.382 482.133,751.757 502.575,771.6 523.016,831.812 543.458,770.074 563.899,770.97 584.341,760.144 604.782,779.966 625.224,766.035 \n",
       "  645.665,747.216 666.107,764.292 686.549,773.588 706.99,760.085 727.432,889.738 747.873,778.931 768.315,818.319 788.756,768.872 809.198,826.354 829.639,785.271 \n",
       "  850.081,782.454 870.523,737.13 890.964,765.393 911.406,722.1 931.847,746.865 952.289,731.851 972.73,728.276 993.172,751.834 1013.61,732.005 1034.06,733.99 \n",
       "  1054.5,712.941 1074.94,729.176 1095.38,781.241 1115.82,748.092 1136.26,766.339 1156.7,779.95 1177.15,724.04 1197.59,800.279 1218.03,797.244 1238.47,728.324 \n",
       "  1258.91,743.524 1279.35,769.917 1299.8,791.083 1320.24,886.145 1340.68,742.292 1361.12,852.195 1381.56,802.349 1402,753.749 1422.44,749.291 1442.89,800.131 \n",
       "  1463.33,757.402 1483.77,800.033 1504.21,784.14 1524.65,720.463 1545.09,762.074 1565.54,797.244 1585.98,717.77 1606.42,750.756 1626.86,734.83 1647.3,695.485 \n",
       "  1667.74,750.698 1688.18,694.775 1708.63,819.805 1729.07,862.914 1749.51,706.245 1769.95,804.616 1790.39,742.035 1810.83,782.885 1831.28,784.362 1851.72,708.489 \n",
       "  1872.16,749.257 1892.6,753.269 1913.04,720.612 1933.48,773.882 1953.93,788.068 1974.37,773.143 1994.81,783.581 2015.25,749.279 2035.69,732.117 2056.13,783.429 \n",
       "  2076.57,792.722 2097.02,724.201 2117.46,784.272 2137.9,699.678 2158.34,745.089 2178.78,777.364 2199.22,787.348 2219.67,805.807 2240.11,747.244 2260.55,796.438 \n",
       "  \n",
       "  \"/>\n",
       "<polygon clip-path=\"url(#clip2503)\" points=\"\n",
       "236.834,767.533 257.276,726.762 277.717,817.919 298.159,725.743 318.601,803.178 339.042,768.188 359.484,729.886 379.925,786.041 400.367,804.702 420.808,782.481 \n",
       "  441.25,780.527 461.691,727.382 482.133,751.757 502.575,771.6 523.016,831.812 543.458,770.074 563.899,770.97 584.341,760.144 604.782,779.966 625.224,766.035 \n",
       "  645.665,747.216 666.107,764.292 686.549,773.588 706.99,760.085 727.432,889.738 747.873,778.931 768.315,818.319 788.756,768.872 809.198,826.354 829.639,785.271 \n",
       "  850.081,782.454 870.523,737.13 890.964,765.393 911.406,722.1 931.847,746.865 952.289,731.851 972.73,728.276 993.172,751.834 1013.61,732.005 1034.06,733.99 \n",
       "  1054.5,712.941 1074.94,729.176 1095.38,781.241 1115.82,748.092 1136.26,766.339 1156.7,779.95 1177.15,724.04 1197.59,800.279 1218.03,797.244 1238.47,728.324 \n",
       "  1258.91,743.524 1279.35,769.917 1299.8,791.083 1320.24,886.145 1340.68,742.292 1361.12,852.195 1381.56,802.349 1402,753.749 1422.44,749.291 1442.89,800.131 \n",
       "  1463.33,757.402 1483.77,800.033 1504.21,784.14 1524.65,720.463 1545.09,762.074 1565.54,797.244 1585.98,717.77 1606.42,750.756 1626.86,734.83 1647.3,695.485 \n",
       "  1667.74,750.698 1688.18,694.775 1708.63,819.805 1729.07,862.914 1749.51,706.245 1769.95,804.616 1790.39,742.035 1810.83,782.885 1831.28,784.362 1851.72,708.489 \n",
       "  1872.16,749.257 1892.6,753.269 1913.04,720.612 1933.48,773.882 1953.93,788.068 1974.37,773.143 1994.81,783.581 2015.25,749.279 2035.69,732.117 2056.13,783.429 \n",
       "  2076.57,792.722 2097.02,724.201 2117.46,784.272 2137.9,699.678 2158.34,745.089 2178.78,777.364 2199.22,787.348 2219.67,805.807 2240.11,747.244 2260.55,796.438 \n",
       "  2260.55,733.382 2240.11,684.187 2219.67,742.75 2199.22,724.292 2178.78,714.308 2158.34,682.033 2137.9,636.622 2117.46,721.215 2097.02,661.144 2076.57,729.666 \n",
       "  2056.13,720.372 2035.69,669.061 2015.25,686.223 1994.81,720.524 1974.37,710.086 1953.93,725.011 1933.48,710.826 1913.04,657.556 1892.6,690.213 1872.16,686.2 \n",
       "  1851.72,645.432 1831.28,721.305 1810.83,719.828 1790.39,678.978 1769.95,741.56 1749.51,643.188 1729.07,799.857 1708.63,756.749 1688.18,631.719 1667.74,687.642 \n",
       "  1647.3,632.429 1626.86,671.773 1606.42,687.699 1585.98,654.714 1565.54,734.188 1545.09,699.017 1524.65,657.407 1504.21,721.083 1483.77,736.976 1463.33,694.345 \n",
       "  1442.89,737.074 1422.44,686.235 1402,690.693 1381.56,739.292 1361.12,789.138 1340.68,679.235 1320.24,823.088 1299.8,728.027 1279.35,706.86 1258.91,680.467 \n",
       "  1238.47,665.267 1218.03,734.188 1197.59,737.222 1177.15,660.983 1156.7,716.894 1136.26,703.283 1115.82,685.035 1095.38,718.185 1074.94,666.119 1054.5,649.885 \n",
       "  1034.06,670.934 1013.61,668.948 993.172,688.778 972.73,665.219 952.289,668.794 931.847,683.808 911.406,659.043 890.964,702.337 870.523,674.074 850.081,719.397 \n",
       "  829.639,722.214 809.198,763.297 788.756,705.816 768.315,755.262 747.873,715.874 727.432,826.682 706.99,697.029 686.549,710.531 666.107,701.235 645.665,684.16 \n",
       "  625.224,702.978 604.782,716.91 584.341,697.088 563.899,707.914 543.458,707.017 523.016,768.755 502.575,708.543 482.133,688.701 461.691,664.325 441.25,717.47 \n",
       "  420.808,719.424 400.367,741.645 379.925,722.985 359.484,666.83 339.042,705.131 318.601,740.122 298.159,662.687 277.717,754.862 257.276,663.705 236.834,704.477 \n",
       "  \n",
       "  \" fill=\"#ff0000\" fill-rule=\"evenodd\" fill-opacity=\"0.2\"/>\n",
       "<polyline clip-path=\"url(#clip2503)\" style=\"stroke:#000000; stroke-width:4; stroke-opacity:1; fill:none\" points=\"\n",
       "  236.834,767.533 257.276,726.762 277.717,817.919 298.159,725.743 318.601,803.178 339.042,768.188 359.484,729.886 379.925,786.041 400.367,804.702 420.808,782.481 \n",
       "  441.25,780.527 461.691,727.382 482.133,751.757 502.575,771.6 523.016,831.812 543.458,770.074 563.899,770.97 584.341,760.144 604.782,779.966 625.224,766.035 \n",
       "  645.665,747.216 666.107,764.292 686.549,773.588 706.99,760.085 727.432,889.738 747.873,778.931 768.315,818.319 788.756,768.872 809.198,826.354 829.639,785.271 \n",
       "  850.081,782.454 870.523,737.13 890.964,765.393 911.406,722.1 931.847,746.865 952.289,731.851 972.73,728.276 993.172,751.834 1013.61,732.005 1034.06,733.99 \n",
       "  1054.5,712.941 1074.94,729.176 1095.38,781.241 1115.82,748.092 1136.26,766.339 1156.7,779.95 1177.15,724.04 1197.59,800.279 1218.03,797.244 1238.47,728.324 \n",
       "  1258.91,743.524 1279.35,769.917 1299.8,791.083 1320.24,886.145 1340.68,742.292 1361.12,852.195 1381.56,802.349 1402,753.749 1422.44,749.291 1442.89,800.131 \n",
       "  1463.33,757.402 1483.77,800.033 1504.21,784.14 1524.65,720.463 1545.09,762.074 1565.54,797.244 1585.98,717.77 1606.42,750.756 1626.86,734.83 1647.3,695.485 \n",
       "  1667.74,750.698 1688.18,694.775 1708.63,819.805 1729.07,862.914 1749.51,706.245 1769.95,804.616 1790.39,742.035 1810.83,782.885 1831.28,784.362 1851.72,708.489 \n",
       "  1872.16,749.257 1892.6,753.269 1913.04,720.612 1933.48,773.882 1953.93,788.068 1974.37,773.143 1994.81,783.581 2015.25,749.279 2035.69,732.117 2056.13,783.429 \n",
       "  2076.57,792.722 2097.02,724.201 2117.46,784.272 2137.9,699.678 2158.34,745.089 2178.78,777.364 2199.22,787.348 2219.67,805.807 2240.11,747.244 2260.55,796.438 \n",
       "  \n",
       "  \"/>\n",
       "<polyline clip-path=\"url(#clip2503)\" style=\"stroke:#3da44d; stroke-width:4; stroke-opacity:1; fill:none\" points=\"\n",
       "  236.834,813.013 257.276,580.968 277.717,945.596 298.159,576.895 318.601,886.636 339.042,746.672 359.484,593.466 379.925,818.087 400.367,892.73 420.808,803.844 \n",
       "  441.25,796.029 461.691,583.449 482.133,680.952 502.575,760.32 523.016,1001.17 543.458,754.216 563.899,757.803 584.341,714.499 604.782,793.787 625.224,738.061 \n",
       "  645.665,662.787 666.107,731.089 686.549,768.272 706.99,714.262 727.432,1232.88 747.873,789.645 768.315,947.196 788.756,749.411 809.198,979.337 829.639,815.005 \n",
       "  850.081,803.736 870.523,622.444 890.964,735.495 911.406,562.322 931.847,661.38 952.289,601.326 972.73,587.026 993.172,681.259 1013.61,601.942 1034.06,609.883 \n",
       "  1054.5,525.687 1074.94,590.626 1095.38,798.887 1115.82,666.29 1136.26,739.279 1156.7,793.724 1177.15,570.082 1197.59,875.036 1218.03,862.899 1238.47,587.218 \n",
       "  1258.91,648.018 1279.35,753.588 1299.8,838.254 1320.24,1218.5 1340.68,643.089 1361.12,1082.7 1381.56,883.317 1402,688.919 1422.44,671.086 1442.89,874.445 \n",
       "  1463.33,703.529 1483.77,874.052 1504.21,810.482 1524.65,555.776 1545.09,722.218 1565.54,862.899 1585.98,545.003 1606.42,676.944 1626.86,613.24 1647.3,455.864 \n",
       "  1667.74,676.716 1688.18,453.023 1708.63,953.143 1729.07,1125.58 1749.51,498.902 1769.95,892.387 1790.39,642.062 1810.83,805.462 1831.28,811.37 1851.72,507.878 \n",
       "  1872.16,670.95 1892.6,686.998 1913.04,556.371 1933.48,769.451 1953.93,826.194 1974.37,766.494 1994.81,808.244 2015.25,671.038 2035.69,602.391 2056.13,807.638 \n",
       "  2076.57,844.812 2097.02,570.725 2117.46,811.01 2137.9,472.635 2158.34,654.279 2178.78,783.379 2199.22,823.314 2219.67,897.149 2240.11,662.897 2260.55,859.675 \n",
       "  \n",
       "  \"/>\n",
       "<polyline clip-path=\"url(#clip2503)\" style=\"stroke:#0000ff; stroke-width:4; stroke-opacity:1; fill:none\" points=\"\n",
       "  236.834,861.349 257.276,834.475 277.717,955.1 298.159,776.573 318.601,893.695 339.042,888.484 359.484,776.371 379.925,901.134 400.367,844.912 420.808,872.656 \n",
       "  441.25,839.047 461.691,871.843 482.133,794.992 502.575,789.639 523.016,855.762 543.458,864.948 563.899,835.523 584.341,774.591 604.782,748.405 625.224,856.129 \n",
       "  645.665,738.418 666.107,744.993 686.549,881.24 706.99,721.491 727.432,1128.71 747.873,919.312 768.315,979.051 788.756,900.544 809.198,752.72 829.639,732.269 \n",
       "  850.081,805.897 870.523,691.472 890.964,700.014 911.406,721.485 931.847,673.922 952.289,765.906 972.73,701.636 993.172,605.41 1013.61,733.973 1034.06,540.843 \n",
       "  1054.5,627.335 1074.94,701.121 1095.38,745.172 1115.82,703.825 1136.26,777.98 1156.7,780.313 1177.15,807.133 1197.59,758.372 1218.03,707.563 1238.47,686.764 \n",
       "  1258.91,727.741 1279.35,830.403 1299.8,739.083 1320.24,935.451 1340.68,813.654 1361.12,924.12 1381.56,868.394 1402,831.836 1422.44,770.24 1442.89,824.201 \n",
       "  1463.33,719.928 1483.77,770.334 1504.21,914.782 1524.65,766.283 1545.09,680.577 1565.54,714.518 1585.98,552.684 1606.42,611.568 1626.86,642.145 1647.3,476.861 \n",
       "  1667.74,774.841 1688.18,610.268 1708.63,787.94 1729.07,865.556 1749.51,742.743 1769.95,980.096 1790.39,881.21 1810.83,854.901 1831.28,923.839 1851.72,786.381 \n",
       "  1872.16,731.467 1892.6,705.628 1913.04,719.642 1933.48,703.898 1953.93,668.435 1974.37,737.373 1994.81,601.076 2015.25,755.588 2035.69,731.074 2056.13,779.233 \n",
       "  2076.57,745.266 2097.02,647.514 2117.46,844.322 2137.9,565.12 2158.34,740.407 2178.78,753.844 2199.22,594.999 2219.67,822.456 2240.11,661.078 2260.55,747.661 \n",
       "  \n",
       "  \"/>\n",
       "<polygon clip-path=\"url(#clip2501)\" points=\"\n",
       "1811.29,433.164 2249.26,433.164 2249.26,130.764 1811.29,130.764 \n",
       "  \" fill=\"#ffffff\" fill-rule=\"evenodd\" fill-opacity=\"1\"/>\n",
       "<polyline clip-path=\"url(#clip2501)\" style=\"stroke:#000000; stroke-width:4; stroke-opacity:1; fill:none\" points=\"\n",
       "  1811.29,433.164 2249.26,433.164 2249.26,130.764 1811.29,130.764 1811.29,433.164 \n",
       "  \"/>\n",
       "<polygon clip-path=\"url(#clip2501)\" points=\"\n",
       "1835.29,215.436 1979.29,215.436 1979.29,167.052 1835.29,167.052 1835.29,215.436 \n",
       "  \" fill=\"#ff0000\" fill-rule=\"evenodd\" fill-opacity=\"0.2\"/>\n",
       "<polyline clip-path=\"url(#clip2501)\" style=\"stroke:#000000; stroke-width:4; stroke-opacity:1; fill:none\" points=\"\n",
       "  1835.29,167.052 1979.29,167.052 \n",
       "  \"/>\n",
       "<g clip-path=\"url(#clip2501)\">\n",
       "<text style=\"fill:#000000; fill-opacity:1; font-family:Arial,Helvetica Neue,Helvetica,sans-serif; font-size:48px; text-anchor:start;\" transform=\"rotate(0, 2003.29, 208.744)\" x=\"2003.29\" y=\"208.744\">inferred</text>\n",
       "</g>\n",
       "<polygon clip-path=\"url(#clip2501)\" points=\"\n",
       "1835.29,275.916 1979.29,275.916 1979.29,227.532 1835.29,227.532 1835.29,275.916 \n",
       "  \" fill=\"#ff0000\" fill-rule=\"evenodd\" fill-opacity=\"0.2\"/>\n",
       "<polyline clip-path=\"url(#clip2501)\" style=\"stroke:#000000; stroke-width:4; stroke-opacity:1; fill:none\" points=\"\n",
       "  1835.29,227.532 1979.29,227.532 \n",
       "  \"/>\n",
       "<g clip-path=\"url(#clip2501)\">\n",
       "<text style=\"fill:#000000; fill-opacity:1; font-family:Arial,Helvetica Neue,Helvetica,sans-serif; font-size:48px; text-anchor:start;\" transform=\"rotate(0, 2003.29, 269.224)\" x=\"2003.29\" y=\"269.224\">inferred</text>\n",
       "</g>\n",
       "<polyline clip-path=\"url(#clip2501)\" style=\"stroke:#3da44d; stroke-width:4; stroke-opacity:1; fill:none\" points=\"\n",
       "  1835.29,312.204 1979.29,312.204 \n",
       "  \"/>\n",
       "<g clip-path=\"url(#clip2501)\">\n",
       "<text style=\"fill:#000000; fill-opacity:1; font-family:Arial,Helvetica Neue,Helvetica,sans-serif; font-size:48px; text-anchor:start;\" transform=\"rotate(0, 2003.29, 329.704)\" x=\"2003.29\" y=\"329.704\">noised</text>\n",
       "</g>\n",
       "<polyline clip-path=\"url(#clip2501)\" style=\"stroke:#0000ff; stroke-width:4; stroke-opacity:1; fill:none\" points=\"\n",
       "  1835.29,372.684 1979.29,372.684 \n",
       "  \"/>\n",
       "<g clip-path=\"url(#clip2501)\">\n",
       "<text style=\"fill:#000000; fill-opacity:1; font-family:Arial,Helvetica Neue,Helvetica,sans-serif; font-size:48px; text-anchor:start;\" transform=\"rotate(0, 2003.29, 390.184)\" x=\"2003.29\" y=\"390.184\">real state</text>\n",
       "</g>\n",
       "</svg>\n"
      ]
     },
     "execution_count": 471,
     "metadata": {},
     "output_type": "execute_result"
    }
   ],
   "source": [
    "# Plotting\n",
    "using Plots\n",
    "upto = 100 # limit for building a graph\n",
    "scale = 1.0 # scale for the variance\n",
    "#insert!(predicted, 1, m_x_prev_0[1])\n",
    "v_x = [v_x[1]^-1 for v_x in w_x_prev[1:end]] # variances of estimated state\n",
    "#insert!(v_x, 1, w_x_prev_0[1]^-1)\n",
    "plot([predicted[1:upto], predicted[1:upto]], fillrange=[predicted[1:upto] -\n",
    "      scale .* sqrt.(v_x[1:upto]), predicted[1:upto] +\n",
    "      scale .* sqrt.(v_x[1:upto])],\n",
    "      color=:black,\n",
    "      fillalpha = 0.2,\n",
    "      fillcolor = :red,\n",
    "      label=[\"inferred\", \"inferred\"])\n",
    "plot!(noise[1:upto], label=\"noised\")\n",
    "plot!(actual[1:upto], label=\"real state\", color=:blue)\n",
    "ylims!(-10, 10)"
   ]
  },
  {
   "cell_type": "code",
   "execution_count": 444,
   "metadata": {},
   "outputs": [
    {
     "data": {
      "text/plain": [
       "5-element Array{Float64,1}:\n",
       "  0.2030338774735652 \n",
       "  0.6366053147186554 \n",
       "  0.43727004307823397\n",
       " -0.4009866361167155 \n",
       " -0.24453879894123057"
      ]
     },
     "execution_count": 444,
     "metadata": {},
     "output_type": "execute_result"
    }
   ],
   "source": [
    "mean(marginals[:a])"
   ]
  },
  {
   "cell_type": "code",
   "execution_count": 438,
   "metadata": {},
   "outputs": [
    {
     "data": {
      "text/plain": [
       "5-element Array{Float64,1}:\n",
       "  0.2030338774735652 \n",
       "  0.6366053147186554 \n",
       "  0.43727004307823397\n",
       " -0.4009866361167155 \n",
       " -0.24453879894123057"
      ]
     },
     "execution_count": 438,
     "metadata": {},
     "output_type": "execute_result"
    }
   ],
   "source": [
    "coefs"
   ]
  },
  {
   "cell_type": "code",
   "execution_count": 401,
   "metadata": {},
   "outputs": [
    {
     "data": {
      "text/plain": [
       "1000.0"
      ]
     },
     "execution_count": 401,
     "metadata": {},
     "output_type": "execute_result"
    }
   ],
   "source": [
    "mean(marginals[:w])^-1"
   ]
  },
  {
   "cell_type": "code",
   "execution_count": null,
   "metadata": {},
   "outputs": [],
   "source": []
  }
 ],
 "metadata": {
  "kernelspec": {
   "display_name": "Julia 1.1.0",
   "language": "julia",
   "name": "julia-1.1"
  },
  "language_info": {
   "file_extension": ".jl",
   "mimetype": "application/julia",
   "name": "julia",
   "version": "1.1.0"
  }
 },
 "nbformat": 4,
 "nbformat_minor": 2
}
