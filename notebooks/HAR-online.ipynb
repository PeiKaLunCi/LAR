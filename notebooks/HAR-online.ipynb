{
 "cells": [
  {
   "cell_type": "markdown",
   "metadata": {},
   "source": [
    "# State estimation with unknown $\\mathbf{A}$ and $\\gamma$\n",
    "## Model specification\n",
    "$$p(\\mathbf{x, y, a, \\gamma}) = p(\\mathbf{x}_0)p(\\mathbf{a})p(\\gamma_x)p(\\gamma_y)\\prod_{n=1}^Np(\\mathbf{x}_n|\\mathbf{x}_{n-1}, \\mathbf{a, \\gamma_x})p(y_n|\\mathbf{x}_n, \\gamma_y)$$"
   ]
  },
  {
   "cell_type": "code",
   "execution_count": 475,
   "metadata": {},
   "outputs": [
    {
     "data": {
      "image/png": "[encoded data removed]",
      "text/plain": [
       "572×407 Array{RGBA{N0f8},2} with eltype RGBA{Normed{UInt8,8}}:\n",
       " RGBA{N0f8}(1.0,1.0,1.0,1.0)  …  RGBA{N0f8}(1.0,1.0,1.0,1.0)\n",
       " RGBA{N0f8}(1.0,1.0,1.0,1.0)     RGBA{N0f8}(1.0,1.0,1.0,1.0)\n",
       " RGBA{N0f8}(1.0,1.0,1.0,1.0)     RGBA{N0f8}(1.0,1.0,1.0,1.0)\n",
       " RGBA{N0f8}(1.0,1.0,1.0,1.0)     RGBA{N0f8}(1.0,1.0,1.0,1.0)\n",
       " RGBA{N0f8}(1.0,1.0,1.0,1.0)     RGBA{N0f8}(1.0,1.0,1.0,1.0)\n",
       " RGBA{N0f8}(1.0,1.0,1.0,1.0)  …  RGBA{N0f8}(1.0,1.0,1.0,1.0)\n",
       " RGBA{N0f8}(1.0,1.0,1.0,1.0)     RGBA{N0f8}(1.0,1.0,1.0,1.0)\n",
       " RGBA{N0f8}(1.0,1.0,1.0,1.0)     RGBA{N0f8}(1.0,1.0,1.0,1.0)\n",
       " RGBA{N0f8}(1.0,1.0,1.0,1.0)     RGBA{N0f8}(1.0,1.0,1.0,1.0)\n",
       " RGBA{N0f8}(1.0,1.0,1.0,1.0)     RGBA{N0f8}(1.0,1.0,1.0,1.0)\n",
       " RGBA{N0f8}(1.0,1.0,1.0,1.0)  …  RGBA{N0f8}(1.0,1.0,1.0,1.0)\n",
       " RGBA{N0f8}(1.0,1.0,1.0,1.0)     RGBA{N0f8}(1.0,1.0,1.0,1.0)\n",
       " RGBA{N0f8}(1.0,1.0,1.0,1.0)     RGBA{N0f8}(1.0,1.0,1.0,1.0)\n",
       " ⋮                            ⋱                             \n",
       " RGBA{N0f8}(1.0,1.0,1.0,1.0)  …  RGBA{N0f8}(1.0,1.0,1.0,1.0)\n",
       " RGBA{N0f8}(1.0,1.0,1.0,1.0)     RGBA{N0f8}(1.0,1.0,1.0,1.0)\n",
       " RGBA{N0f8}(1.0,1.0,1.0,1.0)     RGBA{N0f8}(1.0,1.0,1.0,1.0)\n",
       " RGBA{N0f8}(1.0,1.0,1.0,1.0)     RGBA{N0f8}(1.0,1.0,1.0,1.0)\n",
       " RGBA{N0f8}(1.0,1.0,1.0,1.0)     RGBA{N0f8}(1.0,1.0,1.0,1.0)\n",
       " RGBA{N0f8}(1.0,1.0,1.0,1.0)  …  RGBA{N0f8}(1.0,1.0,1.0,1.0)\n",
       " RGBA{N0f8}(1.0,1.0,1.0,1.0)     RGBA{N0f8}(1.0,1.0,1.0,1.0)\n",
       " RGBA{N0f8}(1.0,1.0,1.0,1.0)     RGBA{N0f8}(1.0,1.0,1.0,1.0)\n",
       " RGBA{N0f8}(1.0,1.0,1.0,1.0)     RGBA{N0f8}(1.0,1.0,1.0,1.0)\n",
       " RGBA{N0f8}(1.0,1.0,1.0,1.0)     RGBA{N0f8}(1.0,1.0,1.0,1.0)\n",
       " RGBA{N0f8}(1.0,1.0,1.0,1.0)  …  RGBA{N0f8}(1.0,1.0,1.0,1.0)\n",
       " RGBA{N0f8}(1.0,1.0,1.0,1.0)     RGBA{N0f8}(1.0,1.0,1.0,1.0)"
      ]
     },
     "execution_count": 475,
     "metadata": {},
     "output_type": "execute_result"
    }
   ],
   "source": [
    "using Images\n",
    "img = load(\"../ffgs/HAR-online.png\")"
   ]
  },
  {
   "cell_type": "markdown",
   "metadata": {},
   "source": [
    "The central quantity of our interest is a joint estimation of the AR coefficients $\\mathbf{a}$, the precision  of the driving noise $\\gamma_x$ and the states $\\mathbf{x}_n$, $\\mathbf{x}_{n-1}$."
   ]
  },
  {
   "cell_type": "code",
   "execution_count": 3,
   "metadata": {},
   "outputs": [
    {
     "name": "stderr",
     "output_type": "stream",
     "text": [
      "WARNING: using ForneyLab.mode in module Main conflicts with an existing identifier.\n"
     ]
    }
   ],
   "source": [
    "using ProgressMeter\n",
    "using Revise\n",
    "using ForneyLab\n",
    "include( \"../AR-node/autoregression.jl\")\n",
    "include(\"../AR-node/rules_prototypes.jl\")\n",
    "include(\"../AR-node/vmp_rules.jl\")\n",
    "# helpers for evaluation of the model\n",
    "include(\"../helpers/functions.jl\")\n",
    "# module to generate data for AR\n",
    "include(\"../data/ARdata.jl\")\n",
    "import Main.ARdata: use_data, generate_data\n",
    "import LinearAlgebra.I, LinearAlgebra.Symmetric\n",
    "import ForneyLab: unsafeCov, unsafeMean, unsafePrecision"
   ]
  },
  {
   "cell_type": "code",
   "execution_count": 6,
   "metadata": {},
   "outputs": [
    {
     "ename": "MethodError",
     "evalue": "MethodError: no method matching -(::Array{Float64,1}, ::Float64)\nClosest candidates are:\n  -(!Matched::Float64, ::Float64) at float.jl:397\n  -(!Matched::Complex{Bool}, ::Real) at complex.jl:298\n  -(!Matched::Missing, ::Number) at missing.jl:97\n  ...",
     "output_type": "error",
     "traceback": [
      "MethodError: no method matching -(::Array{Float64,1}, ::Float64)\nClosest candidates are:\n  -(!Matched::Float64, ::Float64) at float.jl:397\n  -(!Matched::Complex{Bool}, ::Real) at complex.jl:298\n  -(!Matched::Missing, ::Number) at missing.jl:97\n  ...",
      "",
      "Stacktrace:",
      " [1] generate_coefficients(::Int64) at /Users/albertpod/Documents/Julia/VariationalBayes/data/ARdata.jl:33",
      " [2] #generate_data#5(::Float64, ::Function, ::Int64, ::Int64, ::Int64) at /Users/albertpod/Documents/Julia/VariationalBayes/data/ARdata.jl:45",
      " [3] (::getfield(Main.ARdata, Symbol(\"#kw##generate_data\")))(::NamedTuple{(:noise_variance,),Tuple{Float64}}, ::typeof(generate_data), ::Int64, ::Int64, ::Int64) at ./none:0",
      " [4] top-level scope at In[6]:4"
     ]
    }
   ],
   "source": [
    "ARorder = 5 # order of AR model\n",
    "diagAR(dim) = Matrix{Float64}(I, dim, dim)\n",
    "x = []\n",
    "# Coefs and real states\n",
    "coefs, x = generate_data(1000, ARorder, 1, noise_variance=1.0)\n",
    "#x = use_data(\"data/daily-minimum-temperatures.csv\", ARorder)\n",
    "#x = [reverse(x) for x in x]\n",
    "# Observations\n",
    "#measurement_noise = 3.0\n",
    "#y = [xi[1] + sqrt(measurement_noise)*randn() for xi in x[ARorder:end]]"
   ]
  },
  {
   "cell_type": "code",
   "execution_count": 2,
   "metadata": {},
   "outputs": [
    {
     "ename": "UndefVarError",
     "evalue": "UndefVarError: FactorGraph not defined",
     "output_type": "error",
     "traceback": [
      "UndefVarError: FactorGraph not defined",
      "",
      "Stacktrace:",
      " [1] top-level scope at In[2]:1"
     ]
    }
   ],
   "source": [
    "# Building the model\n",
    "g = FactorGraph()\n",
    "\n",
    "# declare priors as random variables\n",
    "@RV m_x_t_prev\n",
    "@RV w_x_t_prev\n",
    "@RV a_w_t\n",
    "@RV b_w_t\n",
    "@RV m_a_t\n",
    "@RV w_a_t\n",
    "\n",
    "@RV a ~ GaussianMeanPrecision(m_a_t, w_a_t)\n",
    "@RV x_t_prev ~ GaussianMeanPrecision(m_x_t_prev, w_x_t_prev)\n",
    "@RV w ~ Gamma(a_w_t, b_w_t)\n",
    "@RV x_t = AR(a, x_t_prev, w)\n",
    "#@RV n ~ GaussianMeanPrecision(0.0, measurement_noise^-1)\n",
    "c = zeros(ARorder); c[1] = 1.0\n",
    "@RV y_t = dot(c, x_t)\n",
    "\n",
    "# Placeholders for prior\n",
    "placeholder(m_x_t_prev, :m_x_t_prev, dims=(ARorder,))\n",
    "placeholder(w_x_t_prev, :w_x_t_prev, dims=(ARorder, ARorder))\n",
    "placeholder(a_w_t, :a_w_t)\n",
    "placeholder(b_w_t, :b_w_t)\n",
    "placeholder(m_a_t, :m_a_t, dims=(ARorder,))\n",
    "placeholder(w_a_t, :w_a_t, dims=(ARorder, ARorder))\n",
    "\n",
    "# Placeholder for data\n",
    "placeholder(y_t, :y_t)"
   ]
  },
  {
   "cell_type": "code",
   "execution_count": 668,
   "metadata": {},
   "outputs": [
    {
     "data": {
      "text/plain": [
       "stepX_t! (generic function with 3 methods)"
      ]
     },
     "execution_count": 668,
     "metadata": {},
     "output_type": "execute_result"
    }
   ],
   "source": [
    "# Specify recognition factorization\n",
    "q = RecognitionFactorization(a, x_t, w, ids=[:A, :X_t, :W])\n",
    "\n",
    "# Generate the variational update algorithms for each recognition factor\n",
    "algo = variationalAlgorithm(q)\n",
    "\n",
    "# Load algorithms\n",
    "eval(Meta.parse(algo))"
   ]
  },
  {
   "cell_type": "code",
   "execution_count": 697,
   "metadata": {},
   "outputs": [],
   "source": [
    "# Define values for prior statistics\n",
    "m_x_prev_0 = randn(ARorder)\n",
    "w_x_prev_0 = (0.0001*diagAR(ARorder))\n",
    "a_w_0 = 0.00001\n",
    "b_w_0 = 0.00001\n",
    "m_a_0 =  randn(ARorder)\n",
    "w_a_0 =  (0.01*diagAR(ARorder));"
   ]
  },
  {
   "cell_type": "code",
   "execution_count": 698,
   "metadata": {},
   "outputs": [],
   "source": [
    "# Storage\n",
    "m_x_prev = Vector{Vector{Float64}}(undef, length(y))\n",
    "w_x_prev = Vector{Array{Float64, 2}}(undef, length(y))\n",
    "a_w = Vector{Float64}(undef, length(y))\n",
    "b_w = Vector{Float64}(undef, length(y))\n",
    "m_a = Vector{Vector{Float64}}(undef, length(y))\n",
    "w_a = Vector{Array{Float64, 2}}(undef, length(y))\n",
    "\n",
    "# Inits\n",
    "m_x_t_prev_min = m_x_prev_0\n",
    "w_x_t_prev_min = w_x_prev_0\n",
    "a_w_t_min = a_w_0\n",
    "b_w_t_min = b_w_0\n",
    "m_a_t_min = m_a_0\n",
    "w_a_t_min = w_a_0;"
   ]
  },
  {
   "cell_type": "code",
   "execution_count": 705,
   "metadata": {},
   "outputs": [
    {
     "name": "stderr",
     "output_type": "stream",
     "text": [
      "\r",
      "\u001b[32mObserved  59%|████████████████████████▋                 |  ETA: 0:00:01\u001b[39m\r",
      "\u001b[32mObserved 100%|██████████████████████████████████████████| Time: 0:00:02\u001b[39m\n"
     ]
    }
   ],
   "source": [
    "marginals = Dict()\n",
    "n_its = 10\n",
    "\n",
    "p = Progress(length(y), 1, \"Observed \")\n",
    "for t = 1:length(y)\n",
    "    update!(p, t)\n",
    "    marginals[:a] = ProbabilityDistribution(Multivariate, GaussianMeanPrecision, m=m_a_t_min, w=w_a_t_min)\n",
    "    marginals[:x_t_prev] = ProbabilityDistribution(Multivariate, GaussianMeanPrecision, m=m_x_t_prev_min, w=w_x_t_prev_min)\n",
    "    marginals[:w] = ProbabilityDistribution(Univariate, Gamma, a=a_w_t_min, b=b_w_t_min)\n",
    "    for i = 1:n_its\n",
    "        data = Dict(:y_t   => y[t],\n",
    "                    :m_a_t => m_a_t_min,\n",
    "                    :w_a_t => w_a_t_min,\n",
    "                    :a_w_t => a_w_t_min,\n",
    "                    :b_w_t => b_w_t_min,\n",
    "                    :m_x_t_prev => m_x_t_prev_min,\n",
    "                    :w_x_t_prev => w_x_t_prev_min)\n",
    "\n",
    "        stepX_t!(data, marginals)\n",
    "        stepA!(data, marginals)\n",
    "        #stepW!(data, marginals)\n",
    "        m_a[t] = unsafeMean(marginals[:a])\n",
    "        w_a[t] = unsafePrecision(marginals[:a])\n",
    "        m_x_prev[t] = unsafeMean(marginals[:x_t])\n",
    "        w_x_prev[t] = unsafePrecision(marginals[:x_t])\n",
    "        a_w[t] = marginals[:w].params[:a]\n",
    "        b_w[t] = marginals[:w].params[:b]\n",
    "        # Store to buffer\n",
    "        m_a_t_min = m_a[t]\n",
    "        w_a_t_min = w_a[t]\n",
    "        m_x_t_prev_min = m_x_prev[t]\n",
    "        w_x_t_prev_min = w_x_prev[t]\n",
    "        a_w_t_min = a_w[t]\n",
    "        b_w_t_min = b_w[t]\n",
    "    end\n",
    "end"
   ]
  },
  {
   "cell_type": "code",
   "execution_count": 706,
   "metadata": {},
   "outputs": [
    {
     "name": "stdout",
     "output_type": "stream",
     "text": [
      "Δ(predicted, actual)=3.2449877662712527\n",
      "Δ(predicted, noise)=2.997642615693943e-8\n",
      "Δ(noise, actual)=3.2449947654834403\n"
     ]
    }
   ],
   "source": [
    "# MSE analysis\n",
    "from = 1\n",
    "predicted = [x[1] for x in m_x_prev[from:end]]\n",
    "actual = [x[1] for x in x[ARorder:end]]\n",
    "noise = [y[1] for y in y[from:end]]\n",
    "\n",
    "println(\"Δ(predicted, actual)=\", mse(predicted, actual))\n",
    "println(\"Δ(predicted, noise)=\", mse(predicted, noise))\n",
    "println(\"Δ(noise, actual)=\", mse(noise, actual))"
   ]
  },
  {
   "cell_type": "code",
   "execution_count": 702,
   "metadata": {},
   "outputs": [
    {
     "data": {
      "image/svg+xml": [
       "<?xml version=\"1.0\" encoding=\"utf-8\"?>\n",
       "<svg xmlns=\"http://www.w3.org/2000/svg\" xmlns:xlink=\"http://www.w3.org/1999/xlink\" width=\"600\" height=\"400\" viewBox=\"0 0 2400 1600\">\n",
       "<defs>\n",
       "  <clipPath id=\"clip7900\">\n",
       "    <rect x=\"0\" y=\"0\" width=\"2000\" height=\"2000\"/>\n",
       "  </clipPath>\n",
       "</defs>\n",
       "<defs>\n",
       "  <clipPath id=\"clip7901\">\n",
       "    <rect x=\"0\" y=\"0\" width=\"2400\" height=\"1600\"/>\n",
       "  </clipPath>\n",
       "</defs>\n",
       "<polygon clip-path=\"url(#clip7901)\" points=\"\n",
       "0,1600 2400,1600 2400,0 0,0 \n",
       "  \" fill=\"#ffffff\" fill-rule=\"evenodd\" fill-opacity=\"1\"/>\n",
       "<defs>\n",
       "  <clipPath id=\"clip7902\">\n",
       "    <rect x=\"480\" y=\"0\" width=\"1681\" height=\"1600\"/>\n",
       "  </clipPath>\n",
       "</defs>\n",
       "<polygon clip-path=\"url(#clip7901)\" points=\"\n",
       "149.361,1503.47 2321.26,1503.47 2321.26,47.2441 149.361,47.2441 \n",
       "  \" fill=\"#ffffff\" fill-rule=\"evenodd\" fill-opacity=\"1\"/>\n",
       "<defs>\n",
       "  <clipPath id=\"clip7903\">\n",
       "    <rect x=\"149\" y=\"47\" width=\"2173\" height=\"1457\"/>\n",
       "  </clipPath>\n",
       "</defs>\n",
       "<polyline clip-path=\"url(#clip7903)\" style=\"stroke:#000000; stroke-width:2; stroke-opacity:0.1; fill:none\" points=\"\n",
       "  169.014,1503.47 169.014,47.2441 \n",
       "  \"/>\n",
       "<polyline clip-path=\"url(#clip7903)\" style=\"stroke:#000000; stroke-width:2; stroke-opacity:0.1; fill:none\" points=\"\n",
       "  587.169,1503.47 587.169,47.2441 \n",
       "  \"/>\n",
       "<polyline clip-path=\"url(#clip7903)\" style=\"stroke:#000000; stroke-width:2; stroke-opacity:0.1; fill:none\" points=\"\n",
       "  1005.32,1503.47 1005.32,47.2441 \n",
       "  \"/>\n",
       "<polyline clip-path=\"url(#clip7903)\" style=\"stroke:#000000; stroke-width:2; stroke-opacity:0.1; fill:none\" points=\"\n",
       "  1423.48,1503.47 1423.48,47.2441 \n",
       "  \"/>\n",
       "<polyline clip-path=\"url(#clip7903)\" style=\"stroke:#000000; stroke-width:2; stroke-opacity:0.1; fill:none\" points=\"\n",
       "  1841.64,1503.47 1841.64,47.2441 \n",
       "  \"/>\n",
       "<polyline clip-path=\"url(#clip7903)\" style=\"stroke:#000000; stroke-width:2; stroke-opacity:0.1; fill:none\" points=\"\n",
       "  2259.79,1503.47 2259.79,47.2441 \n",
       "  \"/>\n",
       "<polyline clip-path=\"url(#clip7903)\" style=\"stroke:#000000; stroke-width:2; stroke-opacity:0.1; fill:none\" points=\"\n",
       "  149.361,1500.98 2321.26,1500.98 \n",
       "  \"/>\n",
       "<polyline clip-path=\"url(#clip7903)\" style=\"stroke:#000000; stroke-width:2; stroke-opacity:0.1; fill:none\" points=\"\n",
       "  149.361,1201.91 2321.26,1201.91 \n",
       "  \"/>\n",
       "<polyline clip-path=\"url(#clip7903)\" style=\"stroke:#000000; stroke-width:2; stroke-opacity:0.1; fill:none\" points=\"\n",
       "  149.361,902.834 2321.26,902.834 \n",
       "  \"/>\n",
       "<polyline clip-path=\"url(#clip7903)\" style=\"stroke:#000000; stroke-width:2; stroke-opacity:0.1; fill:none\" points=\"\n",
       "  149.361,603.76 2321.26,603.76 \n",
       "  \"/>\n",
       "<polyline clip-path=\"url(#clip7903)\" style=\"stroke:#000000; stroke-width:2; stroke-opacity:0.1; fill:none\" points=\"\n",
       "  149.361,304.685 2321.26,304.685 \n",
       "  \"/>\n",
       "<polyline clip-path=\"url(#clip7901)\" style=\"stroke:#000000; stroke-width:4; stroke-opacity:1; fill:none\" points=\"\n",
       "  149.361,1503.47 2321.26,1503.47 \n",
       "  \"/>\n",
       "<polyline clip-path=\"url(#clip7901)\" style=\"stroke:#000000; stroke-width:4; stroke-opacity:1; fill:none\" points=\"\n",
       "  149.361,1503.47 149.361,47.2441 \n",
       "  \"/>\n",
       "<polyline clip-path=\"url(#clip7901)\" style=\"stroke:#000000; stroke-width:4; stroke-opacity:1; fill:none\" points=\"\n",
       "  169.014,1503.47 169.014,1481.63 \n",
       "  \"/>\n",
       "<polyline clip-path=\"url(#clip7901)\" style=\"stroke:#000000; stroke-width:4; stroke-opacity:1; fill:none\" points=\"\n",
       "  587.169,1503.47 587.169,1481.63 \n",
       "  \"/>\n",
       "<polyline clip-path=\"url(#clip7901)\" style=\"stroke:#000000; stroke-width:4; stroke-opacity:1; fill:none\" points=\"\n",
       "  1005.32,1503.47 1005.32,1481.63 \n",
       "  \"/>\n",
       "<polyline clip-path=\"url(#clip7901)\" style=\"stroke:#000000; stroke-width:4; stroke-opacity:1; fill:none\" points=\"\n",
       "  1423.48,1503.47 1423.48,1481.63 \n",
       "  \"/>\n",
       "<polyline clip-path=\"url(#clip7901)\" style=\"stroke:#000000; stroke-width:4; stroke-opacity:1; fill:none\" points=\"\n",
       "  1841.64,1503.47 1841.64,1481.63 \n",
       "  \"/>\n",
       "<polyline clip-path=\"url(#clip7901)\" style=\"stroke:#000000; stroke-width:4; stroke-opacity:1; fill:none\" points=\"\n",
       "  2259.79,1503.47 2259.79,1481.63 \n",
       "  \"/>\n",
       "<polyline clip-path=\"url(#clip7901)\" style=\"stroke:#000000; stroke-width:4; stroke-opacity:1; fill:none\" points=\"\n",
       "  149.361,1500.98 181.939,1500.98 \n",
       "  \"/>\n",
       "<polyline clip-path=\"url(#clip7901)\" style=\"stroke:#000000; stroke-width:4; stroke-opacity:1; fill:none\" points=\"\n",
       "  149.361,1201.91 181.939,1201.91 \n",
       "  \"/>\n",
       "<polyline clip-path=\"url(#clip7901)\" style=\"stroke:#000000; stroke-width:4; stroke-opacity:1; fill:none\" points=\"\n",
       "  149.361,902.834 181.939,902.834 \n",
       "  \"/>\n",
       "<polyline clip-path=\"url(#clip7901)\" style=\"stroke:#000000; stroke-width:4; stroke-opacity:1; fill:none\" points=\"\n",
       "  149.361,603.76 181.939,603.76 \n",
       "  \"/>\n",
       "<polyline clip-path=\"url(#clip7901)\" style=\"stroke:#000000; stroke-width:4; stroke-opacity:1; fill:none\" points=\"\n",
       "  149.361,304.685 181.939,304.685 \n",
       "  \"/>\n",
       "<g clip-path=\"url(#clip7901)\">\n",
       "<text style=\"fill:#000000; fill-opacity:1; font-family:Arial,Helvetica Neue,Helvetica,sans-serif; font-size:48px; text-anchor:middle;\" transform=\"rotate(0, 169.014, 1557.47)\" x=\"169.014\" y=\"1557.47\">0</text>\n",
       "</g>\n",
       "<g clip-path=\"url(#clip7901)\">\n",
       "<text style=\"fill:#000000; fill-opacity:1; font-family:Arial,Helvetica Neue,Helvetica,sans-serif; font-size:48px; text-anchor:middle;\" transform=\"rotate(0, 587.169, 1557.47)\" x=\"587.169\" y=\"1557.47\">10</text>\n",
       "</g>\n",
       "<g clip-path=\"url(#clip7901)\">\n",
       "<text style=\"fill:#000000; fill-opacity:1; font-family:Arial,Helvetica Neue,Helvetica,sans-serif; font-size:48px; text-anchor:middle;\" transform=\"rotate(0, 1005.32, 1557.47)\" x=\"1005.32\" y=\"1557.47\">20</text>\n",
       "</g>\n",
       "<g clip-path=\"url(#clip7901)\">\n",
       "<text style=\"fill:#000000; fill-opacity:1; font-family:Arial,Helvetica Neue,Helvetica,sans-serif; font-size:48px; text-anchor:middle;\" transform=\"rotate(0, 1423.48, 1557.47)\" x=\"1423.48\" y=\"1557.47\">30</text>\n",
       "</g>\n",
       "<g clip-path=\"url(#clip7901)\">\n",
       "<text style=\"fill:#000000; fill-opacity:1; font-family:Arial,Helvetica Neue,Helvetica,sans-serif; font-size:48px; text-anchor:middle;\" transform=\"rotate(0, 1841.64, 1557.47)\" x=\"1841.64\" y=\"1557.47\">40</text>\n",
       "</g>\n",
       "<g clip-path=\"url(#clip7901)\">\n",
       "<text style=\"fill:#000000; fill-opacity:1; font-family:Arial,Helvetica Neue,Helvetica,sans-serif; font-size:48px; text-anchor:middle;\" transform=\"rotate(0, 2259.79, 1557.47)\" x=\"2259.79\" y=\"1557.47\">50</text>\n",
       "</g>\n",
       "<g clip-path=\"url(#clip7901)\">\n",
       "<text style=\"fill:#000000; fill-opacity:1; font-family:Arial,Helvetica Neue,Helvetica,sans-serif; font-size:48px; text-anchor:end;\" transform=\"rotate(0, 125.361, 1518.48)\" x=\"125.361\" y=\"1518.48\">-4</text>\n",
       "</g>\n",
       "<g clip-path=\"url(#clip7901)\">\n",
       "<text style=\"fill:#000000; fill-opacity:1; font-family:Arial,Helvetica Neue,Helvetica,sans-serif; font-size:48px; text-anchor:end;\" transform=\"rotate(0, 125.361, 1219.41)\" x=\"125.361\" y=\"1219.41\">-2</text>\n",
       "</g>\n",
       "<g clip-path=\"url(#clip7901)\">\n",
       "<text style=\"fill:#000000; fill-opacity:1; font-family:Arial,Helvetica Neue,Helvetica,sans-serif; font-size:48px; text-anchor:end;\" transform=\"rotate(0, 125.361, 920.334)\" x=\"125.361\" y=\"920.334\">0</text>\n",
       "</g>\n",
       "<g clip-path=\"url(#clip7901)\">\n",
       "<text style=\"fill:#000000; fill-opacity:1; font-family:Arial,Helvetica Neue,Helvetica,sans-serif; font-size:48px; text-anchor:end;\" transform=\"rotate(0, 125.361, 621.26)\" x=\"125.361\" y=\"621.26\">2</text>\n",
       "</g>\n",
       "<g clip-path=\"url(#clip7901)\">\n",
       "<text style=\"fill:#000000; fill-opacity:1; font-family:Arial,Helvetica Neue,Helvetica,sans-serif; font-size:48px; text-anchor:end;\" transform=\"rotate(0, 125.361, 322.185)\" x=\"125.361\" y=\"322.185\">4</text>\n",
       "</g>\n",
       "<polygon clip-path=\"url(#clip7903)\" points=\"\n",
       "210.829,862.129 252.645,840.707 294.461,852.009 336.276,884.133 378.092,893.812 419.907,849.457 461.723,923.248 503.538,787.583 545.354,921.341 587.169,846.386 \n",
       "  628.985,827.982 670.8,920.488 712.616,870.554 754.431,888.852 796.247,873.05 838.063,958.828 879.878,781.929 921.694,951.679 963.509,788.917 1005.32,921.762 \n",
       "  1047.14,867.324 1088.96,952.122 1130.77,810.104 1172.59,839.987 1214.4,800.275 1256.22,834.492 1298.03,831.056 1339.85,807.861 1381.66,699.196 1423.48,876.988 \n",
       "  1465.3,950.117 1507.11,814.621 1548.93,841.719 1590.74,871.051 1632.56,881.139 1674.37,894.775 1716.19,999.155 1758,801.511 1799.82,881.502 1841.64,917.758 \n",
       "  1883.45,1042.71 1925.27,878.031 1967.08,809.592 2008.9,880.572 2050.71,965.111 2092.53,805.989 2134.34,808.077 2176.16,855.745 2217.98,866.603 2259.79,833.869 \n",
       "  2259.79,963.372 2217.98,996.107 2176.16,985.248 2134.34,937.58 2092.53,935.492 2050.71,1094.61 2008.9,1010.08 1967.08,939.095 1925.27,1007.53 1883.45,1172.21 \n",
       "  1841.64,1047.26 1799.82,1011 1758,931.014 1716.19,1128.66 1674.37,1024.28 1632.56,1010.64 1590.74,1000.55 1548.93,971.223 1507.11,944.124 1465.3,1079.62 \n",
       "  1423.48,1006.49 1381.66,828.7 1339.85,937.364 1298.03,960.559 1256.22,963.995 1214.4,929.778 1172.59,969.49 1130.77,939.607 1088.96,1081.63 1047.14,996.827 \n",
       "  1005.32,1051.26 963.509,918.42 921.694,1081.18 879.878,911.432 838.063,1088.33 796.247,1002.55 754.431,1018.36 712.616,1000.06 670.8,1049.99 628.985,957.485 \n",
       "  587.169,975.889 545.354,1050.84 503.538,917.086 461.723,1052.75 419.907,978.96 378.092,1023.32 336.276,1013.64 294.461,981.512 252.645,970.21 210.829,991.632 \n",
       "  \n",
       "  \" fill=\"#ff0000\" fill-rule=\"evenodd\" fill-opacity=\"0.2\"/>\n",
       "<polyline clip-path=\"url(#clip7903)\" style=\"stroke:#000000; stroke-width:4; stroke-opacity:1; fill:none\" points=\"\n",
       "  210.829,862.129 252.645,840.707 294.461,852.009 336.276,884.133 378.092,893.812 419.907,849.457 461.723,923.248 503.538,787.583 545.354,921.341 587.169,846.386 \n",
       "  628.985,827.982 670.8,920.488 712.616,870.554 754.431,888.852 796.247,873.05 838.063,958.828 879.878,781.929 921.694,951.679 963.509,788.917 1005.32,921.762 \n",
       "  1047.14,867.324 1088.96,952.122 1130.77,810.104 1172.59,839.987 1214.4,800.275 1256.22,834.492 1298.03,831.056 1339.85,807.861 1381.66,699.196 1423.48,876.988 \n",
       "  1465.3,950.117 1507.11,814.621 1548.93,841.719 1590.74,871.051 1632.56,881.139 1674.37,894.775 1716.19,999.155 1758,801.511 1799.82,881.502 1841.64,917.758 \n",
       "  1883.45,1042.71 1925.27,878.031 1967.08,809.592 2008.9,880.572 2050.71,965.111 2092.53,805.989 2134.34,808.077 2176.16,855.745 2217.98,866.603 2259.79,833.869 \n",
       "  \n",
       "  \"/>\n",
       "<polygon clip-path=\"url(#clip7903)\" points=\"\n",
       "210.829,862.129 252.645,840.707 294.461,852.009 336.276,884.133 378.092,893.812 419.907,849.457 461.723,923.248 503.538,787.583 545.354,921.341 587.169,846.386 \n",
       "  628.985,827.982 670.8,920.488 712.616,870.554 754.431,888.852 796.247,873.05 838.063,958.828 879.878,781.929 921.694,951.679 963.509,788.917 1005.32,921.762 \n",
       "  1047.14,867.324 1088.96,952.122 1130.77,810.104 1172.59,839.987 1214.4,800.275 1256.22,834.492 1298.03,831.056 1339.85,807.861 1381.66,699.196 1423.48,876.988 \n",
       "  1465.3,950.117 1507.11,814.621 1548.93,841.719 1590.74,871.051 1632.56,881.139 1674.37,894.775 1716.19,999.155 1758,801.511 1799.82,881.502 1841.64,917.758 \n",
       "  1883.45,1042.71 1925.27,878.031 1967.08,809.592 2008.9,880.572 2050.71,965.111 2092.53,805.989 2134.34,808.077 2176.16,855.745 2217.98,866.603 2259.79,833.869 \n",
       "  2259.79,704.366 2217.98,737.1 2176.16,726.242 2134.34,678.574 2092.53,676.486 2050.71,835.608 2008.9,751.069 1967.08,680.089 1925.27,748.528 1883.45,913.204 \n",
       "  1841.64,788.255 1799.82,751.998 1758,672.008 1716.19,869.652 1674.37,765.271 1632.56,751.635 1590.74,741.547 1548.93,712.216 1507.11,685.118 1465.3,820.614 \n",
       "  1423.48,747.485 1381.66,569.693 1339.85,678.358 1298.03,701.553 1256.22,704.989 1214.4,670.772 1172.59,710.484 1130.77,680.601 1088.96,822.619 1047.14,737.821 \n",
       "  1005.32,792.259 963.509,659.414 921.694,822.176 879.878,652.426 838.063,829.325 796.247,743.547 754.431,759.349 712.616,741.051 670.8,790.985 628.985,698.479 \n",
       "  587.169,716.883 545.354,791.837 503.538,658.08 461.723,793.745 419.907,719.954 378.092,764.309 336.276,754.63 294.461,722.506 252.645,711.204 210.829,732.626 \n",
       "  \n",
       "  \" fill=\"#ff0000\" fill-rule=\"evenodd\" fill-opacity=\"0.2\"/>\n",
       "<polyline clip-path=\"url(#clip7903)\" style=\"stroke:#000000; stroke-width:4; stroke-opacity:1; fill:none\" points=\"\n",
       "  210.829,862.129 252.645,840.707 294.461,852.009 336.276,884.133 378.092,893.812 419.907,849.457 461.723,923.248 503.538,787.583 545.354,921.341 587.169,846.386 \n",
       "  628.985,827.982 670.8,920.488 712.616,870.554 754.431,888.852 796.247,873.05 838.063,958.828 879.878,781.929 921.694,951.679 963.509,788.917 1005.32,921.762 \n",
       "  1047.14,867.324 1088.96,952.122 1130.77,810.104 1172.59,839.987 1214.4,800.275 1256.22,834.492 1298.03,831.056 1339.85,807.861 1381.66,699.196 1423.48,876.988 \n",
       "  1465.3,950.117 1507.11,814.621 1548.93,841.719 1590.74,871.051 1632.56,881.139 1674.37,894.775 1716.19,999.155 1758,801.511 1799.82,881.502 1841.64,917.758 \n",
       "  1883.45,1042.71 1925.27,878.031 1967.08,809.592 2008.9,880.572 2050.71,965.111 2092.53,805.989 2134.34,808.077 2176.16,855.745 2217.98,866.603 2259.79,833.869 \n",
       "  \n",
       "  \"/>\n",
       "<polyline clip-path=\"url(#clip7903)\" style=\"stroke:#3da44d; stroke-width:4; stroke-opacity:1; fill:none\" points=\"\n",
       "  210.829,740 252.645,654.452 294.461,699.642 336.276,828.098 378.092,866.718 419.907,689.292 461.723,984.466 503.538,441.825 545.354,976.84 587.169,677.065 \n",
       "  628.985,603.404 670.8,973.443 712.616,773.729 754.431,846.881 796.247,783.696 838.063,1126.81 879.878,419.221 921.694,1098.17 963.509,447.244 1005.32,978.461 \n",
       "  1047.14,760.88 1088.96,1099.9 1130.77,531.987 1172.59,651.358 1214.4,492.684 1256.22,629.462 1298.03,615.819 1339.85,523.007 1381.66,88.4582 1423.48,799.705 \n",
       "  1465.3,1092.24 1507.11,550.111 1548.93,658.557 1590.74,775.901 1632.56,816.126 1674.37,870.715 1716.19,1288.22 1758,497.568 1799.82,817.463 1841.64,962.63 \n",
       "  1883.45,1462.26 1925.27,803.64 1967.08,529.814 2008.9,813.829 2050.71,1151.85 2092.53,515.46 2134.34,523.926 2176.16,714.644 2217.98,757.954 2259.79,627.17 \n",
       "  \n",
       "  \"/>\n",
       "<polyline clip-path=\"url(#clip7903)\" style=\"stroke:#0000ff; stroke-width:4; stroke-opacity:1; fill:none\" points=\"\n",
       "  210.829,821.74 252.645,722.365 294.461,920.667 336.276,1060.58 378.092,1209.89 419.907,853.037 461.723,1194.17 503.538,761.455 545.354,917.773 587.169,715.587 \n",
       "  628.985,910.973 670.8,966.843 712.616,889.559 754.431,659 796.247,772.134 838.063,914.609 879.878,830.297 921.694,905.251 963.509,901.514 1005.32,795.517 \n",
       "  1047.14,826.796 1088.96,933.513 1130.77,651.915 1172.59,651.289 1214.4,710.634 1256.22,934.99 1298.03,1020.86 1339.85,721.292 1381.66,744.273 1423.48,974.353 \n",
       "  1465.3,1109.83 1507.11,953.656 1548.93,945.343 1590.74,1075.41 1632.56,1329.86 1674.37,850.717 1716.19,1278.55 1758,859.3 1799.82,943.01 1841.64,734.504 \n",
       "  1883.45,957.892 1925.27,826.297 1967.08,870.2 2008.9,937.606 2050.71,794.323 2092.53,789.272 2134.34,833.908 2176.16,917.298 2217.98,811.23 2259.79,774.206 \n",
       "  \n",
       "  \"/>\n",
       "<polygon clip-path=\"url(#clip7901)\" points=\"\n",
       "1811.29,433.164 2249.26,433.164 2249.26,130.764 1811.29,130.764 \n",
       "  \" fill=\"#ffffff\" fill-rule=\"evenodd\" fill-opacity=\"1\"/>\n",
       "<polyline clip-path=\"url(#clip7901)\" style=\"stroke:#000000; stroke-width:4; stroke-opacity:1; fill:none\" points=\"\n",
       "  1811.29,433.164 2249.26,433.164 2249.26,130.764 1811.29,130.764 1811.29,433.164 \n",
       "  \"/>\n",
       "<polygon clip-path=\"url(#clip7901)\" points=\"\n",
       "1835.29,215.436 1979.29,215.436 1979.29,167.052 1835.29,167.052 1835.29,215.436 \n",
       "  \" fill=\"#ff0000\" fill-rule=\"evenodd\" fill-opacity=\"0.2\"/>\n",
       "<polyline clip-path=\"url(#clip7901)\" style=\"stroke:#000000; stroke-width:4; stroke-opacity:1; fill:none\" points=\"\n",
       "  1835.29,167.052 1979.29,167.052 \n",
       "  \"/>\n",
       "<g clip-path=\"url(#clip7901)\">\n",
       "<text style=\"fill:#000000; fill-opacity:1; font-family:Arial,Helvetica Neue,Helvetica,sans-serif; font-size:48px; text-anchor:start;\" transform=\"rotate(0, 2003.29, 208.744)\" x=\"2003.29\" y=\"208.744\">inferred</text>\n",
       "</g>\n",
       "<polygon clip-path=\"url(#clip7901)\" points=\"\n",
       "1835.29,275.916 1979.29,275.916 1979.29,227.532 1835.29,227.532 1835.29,275.916 \n",
       "  \" fill=\"#ff0000\" fill-rule=\"evenodd\" fill-opacity=\"0.2\"/>\n",
       "<polyline clip-path=\"url(#clip7901)\" style=\"stroke:#000000; stroke-width:4; stroke-opacity:1; fill:none\" points=\"\n",
       "  1835.29,227.532 1979.29,227.532 \n",
       "  \"/>\n",
       "<g clip-path=\"url(#clip7901)\">\n",
       "<text style=\"fill:#000000; fill-opacity:1; font-family:Arial,Helvetica Neue,Helvetica,sans-serif; font-size:48px; text-anchor:start;\" transform=\"rotate(0, 2003.29, 269.224)\" x=\"2003.29\" y=\"269.224\">inferred</text>\n",
       "</g>\n",
       "<polyline clip-path=\"url(#clip7901)\" style=\"stroke:#3da44d; stroke-width:4; stroke-opacity:1; fill:none\" points=\"\n",
       "  1835.29,312.204 1979.29,312.204 \n",
       "  \"/>\n",
       "<g clip-path=\"url(#clip7901)\">\n",
       "<text style=\"fill:#000000; fill-opacity:1; font-family:Arial,Helvetica Neue,Helvetica,sans-serif; font-size:48px; text-anchor:start;\" transform=\"rotate(0, 2003.29, 329.704)\" x=\"2003.29\" y=\"329.704\">noised</text>\n",
       "</g>\n",
       "<polyline clip-path=\"url(#clip7901)\" style=\"stroke:#0000ff; stroke-width:4; stroke-opacity:1; fill:none\" points=\"\n",
       "  1835.29,372.684 1979.29,372.684 \n",
       "  \"/>\n",
       "<g clip-path=\"url(#clip7901)\">\n",
       "<text style=\"fill:#000000; fill-opacity:1; font-family:Arial,Helvetica Neue,Helvetica,sans-serif; font-size:48px; text-anchor:start;\" transform=\"rotate(0, 2003.29, 390.184)\" x=\"2003.29\" y=\"390.184\">real state</text>\n",
       "</g>\n",
       "</svg>\n"
      ]
     },
     "execution_count": 702,
     "metadata": {},
     "output_type": "execute_result"
    }
   ],
   "source": [
    "# Plotting\n",
    "using Plots\n",
    "upto = 50 # limit for building a graph\n",
    "scale = 1.0 # scale for the variance\n",
    "#insert!(predicted, 1, m_x_prev_0[1])\n",
    "v_x = [v_x[1]^-1 for v_x in w_x_prev[1:end]] # variances of estimated state\n",
    "#insert!(v_x, 1, w_x_prev_0[1]^-1)\n",
    "plot([predicted[1:upto], predicted[1:upto]], fillrange=[predicted[1:upto] -\n",
    "      scale .* sqrt.(v_x[1:upto]), predicted[1:upto] +\n",
    "      scale .* sqrt.(v_x[1:upto])],\n",
    "      color=:black,\n",
    "      fillalpha = 0.2,\n",
    "      fillcolor = :red,\n",
    "      label=[\"inferred\", \"inferred\"])\n",
    "plot!(noise[1:upto], label=\"noised\")\n",
    "plot!(actual[1:upto], label=\"real state\", color=:blue)\n",
    "#ylims!(-10, 10)"
   ]
  },
  {
   "cell_type": "code",
   "execution_count": 703,
   "metadata": {},
   "outputs": [
    {
     "data": {
      "text/plain": [
       "5-element Array{Float64,1}:\n",
       " -0.6619446819734769 \n",
       "  0.2731393589622405 \n",
       "  1.4216893532111248 \n",
       " -0.10218661620759538\n",
       " -0.11096978579054328"
      ]
     },
     "execution_count": 703,
     "metadata": {},
     "output_type": "execute_result"
    }
   ],
   "source": [
    "mean(marginals[:x_t_prev])"
   ]
  },
  {
   "cell_type": "code",
   "execution_count": 704,
   "metadata": {},
   "outputs": [
    {
     "data": {
      "text/plain": [
       "5-element Array{Float64,1}:\n",
       "  0.002718460183398906 \n",
       "  0.0012159773947375897\n",
       " -0.0015129028438112895\n",
       "  0.004623481035767371 \n",
       "  0.002820535787499191 "
      ]
     },
     "execution_count": 704,
     "metadata": {},
     "output_type": "execute_result"
    }
   ],
   "source": [
    "mean(marginals[:a])"
   ]
  },
  {
   "cell_type": "code",
   "execution_count": 642,
   "metadata": {},
   "outputs": [
    {
     "data": {
      "text/plain": [
       "1.0"
      ]
     },
     "execution_count": 642,
     "metadata": {},
     "output_type": "execute_result"
    }
   ],
   "source": [
    "mean(marginals[:w])^-1"
   ]
  },
  {
   "cell_type": "code",
   "execution_count": 689,
   "metadata": {},
   "outputs": [
    {
     "data": {
      "text/plain": [
       "5-element Array{Float64,1}:\n",
       "  0.29057223163891066\n",
       "  0.06721870673044737\n",
       " -0.303850749401607  \n",
       "  0.46094370243254235\n",
       "  0.11330571632221058"
      ]
     },
     "execution_count": 689,
     "metadata": {},
     "output_type": "execute_result"
    }
   ],
   "source": [
    "coefs"
   ]
  },
  {
   "cell_type": "code",
   "execution_count": null,
   "metadata": {},
   "outputs": [],
   "source": []
  }
 ],
 "metadata": {
  "kernelspec": {
   "display_name": "Julia 1.1.0",
   "language": "julia",
   "name": "julia-1.1"
  },
  "language_info": {
   "file_extension": ".jl",
   "mimetype": "application/julia",
   "name": "julia",
   "version": "1.1.0"
  }
 },
 "nbformat": 4,
 "nbformat_minor": 2
}
