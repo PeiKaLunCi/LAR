{
 "cells": [
  {
   "cell_type": "markdown",
   "metadata": {},
   "source": [
    "# Online Joint State and Parameters Estimation for HAR SSM\n",
    "State space model\n",
    "\\begin{align*}\n",
    "    &\\Theta_{t}^{(1)} = A(\\Theta^{(2)})\\Theta_{t-1}^{(1)} + \\mathbf{p}_{t_{\\theta}} \\quad \\mathbf{p}_{t_{\\theta}} \\sim \\mathcal{N}(\\mathbf{0}, \\mathbf{I}\\gamma_\\theta^{-1}) \\\\\n",
    "    &\\mathbf{x}_t = A(\\Theta_{t}^{(1)})\\mathbf{x}_{t-1} + \\mathbf{p}_{t_{x}} \\quad \\mathbf{p}_t \\sim \\mathcal{N}(\\mathbf{0}, \\mathbf{I}\\gamma_x^{-1}) \\\\\n",
    "    &y_t = \\mathbf{c}^\\text{T}\\mathbf{x}_t + m_t \\quad v_t \\sim \\mathcal{N}(0, \\gamma_y^{-1})\n",
    "\\end{align*}\n",
    "\n",
    "where\n",
    "\\begin{align*}\n",
    "    &\\Theta^{(1)}_t = (\\theta_t, \\theta_{t-1}, \\dots, \\theta_{t-p+1})^\\text{T} \\quad \\Theta^{(1)}_{t-1} = (\\theta_{t-1}, \\theta_{t-2}, \\dots, \\theta_{t-p})^\\text{T} \\\\\n",
    "    &\\mathbf{x}_t = (x_t, x_{t-1}, \\dots, x_{t-p+1})^\\text{T} \\quad \\mathbf{x}_{t-1} = (x_{t-1}, x_{t-2}, \\dots, x_{t-p})^\\text{T} \n",
    "    \\\\ \\\\\n",
    "    &A(\\Theta) = \n",
    "    \\begin{bmatrix}\n",
    "         \\Theta^{T} \\\\\n",
    "         \\mathbf{I}_{p-1} \\quad \\mathbf{0}\n",
    "    \\end{bmatrix}\n",
    "    \\quad\n",
    "    \\mathbf{I} = \\mathbf{I}_p = \n",
    "    \\begin{bmatrix}\n",
    "        1 & 0 & 0 & \\dots & 0 \\\\ \n",
    "        0 & 1 & 0 & \\dots & 0 \\\\   \n",
    "        \\vdots & \\vdots & \\vdots & \\ddots & \\vdots \\\\\n",
    "        0 & 0 & 0 & \\dots & 1\n",
    "    \\end{bmatrix} \\\\\n",
    "\\end{align*}"
   ]
  },
  {
   "cell_type": "code",
   "execution_count": null,
   "metadata": {},
   "outputs": [
    {
     "name": "stderr",
     "output_type": "stream",
     "text": [
      "┌ Info: Recompiling stale cache file /Users/albertpod/.julia/compiled/v1.1/Images/H8Vxc.ji for Images [916415d5-f1e6-5110-898d-aaa5f9f070e0]\n",
      "└ @ Base loading.jl:1184\n"
     ]
    }
   ],
   "source": [
    "using Images\n",
    "img = load(\"../ffgs/HAR-online.png\")"
   ]
  },
  {
   "cell_type": "code",
   "execution_count": null,
   "metadata": {},
   "outputs": [],
   "source": []
  }
 ],
 "metadata": {
  "kernelspec": {
   "display_name": "Julia 1.1.0",
   "language": "julia",
   "name": "julia-1.1"
  },
  "language_info": {
   "file_extension": ".jl",
   "mimetype": "application/julia",
   "name": "julia",
   "version": "1.1.0"
  }
 },
 "nbformat": 4,
 "nbformat_minor": 2
}
